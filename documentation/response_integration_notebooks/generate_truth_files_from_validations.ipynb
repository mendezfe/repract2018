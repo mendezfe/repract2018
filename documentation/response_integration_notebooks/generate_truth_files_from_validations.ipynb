{
 "cells": [
  {
   "cell_type": "code",
   "execution_count": 1,
   "metadata": {},
   "outputs": [],
   "source": [
    "import os, pandas as pd"
   ]
  },
  {
   "cell_type": "code",
   "execution_count": 2,
   "metadata": {},
   "outputs": [],
   "source": [
    "paths = [f'../repract_validation_responses/{x}' for x in ['AV', 'DM']]\n",
    "files = [f'{path}/{f}' for path in paths for f in os.listdir(path) if f.endswith('.csv')]"
   ]
  },
  {
   "cell_type": "code",
   "execution_count": 3,
   "metadata": {},
   "outputs": [
    {
     "data": {
      "text/plain": [
       "['../repract_validation_responses/AV/v_11_correctionlog.csv',\n",
       " '../repract_validation_responses/AV/v_16_correctionlog.csv',\n",
       " '../repract_validation_responses/AV/v_19_correctionlog.csv',\n",
       " '../repract_validation_responses/AV/v_6_correctionlog.csv',\n",
       " '../repract_validation_responses/DM/papertags_how_withwhom_corrcc.csv',\n",
       " '../repract_validation_responses/DM/v_8345etseq_codefile.csv',\n",
       " '../repract_validation_responses/DM/v_8780etseq_codefile.csv']"
      ]
     },
     "execution_count": 3,
     "metadata": {},
     "output_type": "execute_result"
    }
   ],
   "source": [
    "files"
   ]
  },
  {
   "cell_type": "code",
   "execution_count": 4,
   "metadata": {},
   "outputs": [],
   "source": [
    "filedfs = {file:pd.read_csv(file,sep=';', encoding='latin1') for file in files}"
   ]
  },
  {
   "cell_type": "markdown",
   "metadata": {},
   "source": [
    "How and With Whom Tags"
   ]
  },
  {
   "cell_type": "code",
   "execution_count": 5,
   "metadata": {
    "scrolled": true
   },
   "outputs": [],
   "source": [
    "filedfs['../repract_validation_responses/DM/papertags_how_withwhom_corrcc.csv'\n",
    "       ].to_csv('../../data/codedtruth/papertags_how_withwhom_final.csv', index=False)"
   ]
  },
  {
   "cell_type": "markdown",
   "metadata": {},
   "source": [
    "For the What Tags, we are using the original versions (as corrected only by CC)"
   ]
  },
  {
   "cell_type": "code",
   "execution_count": 6,
   "metadata": {},
   "outputs": [],
   "source": [
    "pd.read_csv('../repract_validation/XF/papertags_what_codefile.csv', sep=';'\n",
    "           ).to_csv('../../data/codedtruth/papertags_what_final.csv', index=False)"
   ]
  },
  {
   "cell_type": "markdown",
   "metadata": {},
   "source": [
    "Positive and Negative Reasoning"
   ]
  },
  {
   "cell_type": "code",
   "execution_count": 35,
   "metadata": {},
   "outputs": [],
   "source": [
    "filedfs['../repract_validation_responses/DM/v_8345etseq_codefile.csv'\n",
    "       ].to_csv('../../data/codedtruth/v_8345etseq_final.csv', index=False)"
   ]
  },
  {
   "cell_type": "code",
   "execution_count": 36,
   "metadata": {
    "scrolled": true
   },
   "outputs": [],
   "source": [
    "filedfs['../repract_validation_responses/DM/v_8780etseq_codefile.csv'\n",
    "       ].to_csv('../../data/codedtruth/v_8780etseq_final.csv', index=False)"
   ]
  },
  {
   "cell_type": "markdown",
   "metadata": {},
   "source": [
    "Short Free Text Variables"
   ]
  },
  {
   "cell_type": "code",
   "execution_count": 97,
   "metadata": {},
   "outputs": [],
   "source": [
    "def integrate_corrections(df_old, df_corrlog, varno):\n",
    "    for row in df_corrlog.iterrows():\n",
    "        df_old.at[row[1]['lfdn'],f'v_{varno}_coded'] = row[1]['new_code']\n",
    "    return df_old"
   ]
  },
  {
   "cell_type": "markdown",
   "metadata": {},
   "source": [
    "v_6"
   ]
  },
  {
   "cell_type": "code",
   "execution_count": 98,
   "metadata": {},
   "outputs": [
    {
     "data": {
      "text/html": [
       "<div>\n",
       "<style scoped>\n",
       "    .dataframe tbody tr th:only-of-type {\n",
       "        vertical-align: middle;\n",
       "    }\n",
       "\n",
       "    .dataframe tbody tr th {\n",
       "        vertical-align: top;\n",
       "    }\n",
       "\n",
       "    .dataframe thead th {\n",
       "        text-align: right;\n",
       "    }\n",
       "</style>\n",
       "<table border=\"1\" class=\"dataframe\">\n",
       "  <thead>\n",
       "    <tr style=\"text-align: right;\">\n",
       "      <th></th>\n",
       "      <th>v_6</th>\n",
       "      <th>v_6_coded</th>\n",
       "    </tr>\n",
       "    <tr>\n",
       "      <th>lfdn</th>\n",
       "      <th></th>\n",
       "      <th></th>\n",
       "    </tr>\n",
       "  </thead>\n",
       "  <tbody>\n",
       "    <tr>\n",
       "      <th>106</th>\n",
       "      <td>Researcher</td>\n",
       "      <td>Researcher</td>\n",
       "    </tr>\n",
       "    <tr>\n",
       "      <th>139</th>\n",
       "      <td>Product Management Coach</td>\n",
       "      <td>Manager</td>\n",
       "    </tr>\n",
       "    <tr>\n",
       "      <th>173</th>\n",
       "      <td>Functional Safety Consultant focussing of the ...</td>\n",
       "      <td>Consultant</td>\n",
       "    </tr>\n",
       "    <tr>\n",
       "      <th>216</th>\n",
       "      <td>Enterprise Systems of Systems researcher (auto...</td>\n",
       "      <td>Researcher</td>\n",
       "    </tr>\n",
       "    <tr>\n",
       "      <th>240</th>\n",
       "      <td>Changing with different jobs, RE, Architect, D...</td>\n",
       "      <td>Multiple Roles</td>\n",
       "    </tr>\n",
       "  </tbody>\n",
       "</table>\n",
       "</div>"
      ],
      "text/plain": [
       "                                                    v_6       v_6_coded\n",
       "lfdn                                                                   \n",
       "106                                          Researcher      Researcher\n",
       "139                            Product Management Coach         Manager\n",
       "173   Functional Safety Consultant focussing of the ...      Consultant\n",
       "216   Enterprise Systems of Systems researcher (auto...      Researcher\n",
       "240   Changing with different jobs, RE, Architect, D...  Multiple Roles"
      ]
     },
     "execution_count": 98,
     "metadata": {},
     "output_type": "execute_result"
    }
   ],
   "source": [
    "v6_coded = pd.read_csv('../../analysis/freetext/v_6_coded.csv', sep=';').set_index('lfdn')\n",
    "v6_coded.head()"
   ]
  },
  {
   "cell_type": "code",
   "execution_count": 99,
   "metadata": {},
   "outputs": [
    {
     "data": {
      "text/html": [
       "<div>\n",
       "<style scoped>\n",
       "    .dataframe tbody tr th:only-of-type {\n",
       "        vertical-align: middle;\n",
       "    }\n",
       "\n",
       "    .dataframe tbody tr th {\n",
       "        vertical-align: top;\n",
       "    }\n",
       "\n",
       "    .dataframe thead th {\n",
       "        text-align: right;\n",
       "    }\n",
       "</style>\n",
       "<table border=\"1\" class=\"dataframe\">\n",
       "  <thead>\n",
       "    <tr style=\"text-align: right;\">\n",
       "      <th></th>\n",
       "      <th>lfdn</th>\n",
       "      <th>old_code</th>\n",
       "      <th>new_code</th>\n",
       "      <th>reasoning</th>\n",
       "    </tr>\n",
       "  </thead>\n",
       "  <tbody>\n",
       "    <tr>\n",
       "      <th>0</th>\n",
       "      <td>139</td>\n",
       "      <td>Manager</td>\n",
       "      <td>Coach</td>\n",
       "      <td>Answer says that s/he is a coach for management</td>\n",
       "    </tr>\n",
       "    <tr>\n",
       "      <th>1</th>\n",
       "      <td>299</td>\n",
       "      <td>Context Roles</td>\n",
       "      <td>Other</td>\n",
       "      <td>I don't like the term 'context roles'. It's to...</td>\n",
       "    </tr>\n",
       "    <tr>\n",
       "      <th>2</th>\n",
       "      <td>306</td>\n",
       "      <td>Multiple Roles</td>\n",
       "      <td>Requirements Engineer</td>\n",
       "      <td>RE and Product Owner is almost the same</td>\n",
       "    </tr>\n",
       "    <tr>\n",
       "      <th>3</th>\n",
       "      <td>310</td>\n",
       "      <td>Process Designer</td>\n",
       "      <td>Developer</td>\n",
       "      <td>Definitly not a process designer. Either devlo...</td>\n",
       "    </tr>\n",
       "    <tr>\n",
       "      <th>4</th>\n",
       "      <td>342</td>\n",
       "      <td>Multiple Roles</td>\n",
       "      <td>Requirements Engineer</td>\n",
       "      <td>RE and BA is almost the same</td>\n",
       "    </tr>\n",
       "    <tr>\n",
       "      <th>5</th>\n",
       "      <td>445</td>\n",
       "      <td>Context Roles</td>\n",
       "      <td>Other</td>\n",
       "      <td>I don't like the term 'context roles'. It's to...</td>\n",
       "    </tr>\n",
       "    <tr>\n",
       "      <th>6</th>\n",
       "      <td>447</td>\n",
       "      <td>Designer</td>\n",
       "      <td>Architect</td>\n",
       "      <td>A service designer is basically an architect</td>\n",
       "    </tr>\n",
       "    <tr>\n",
       "      <th>7</th>\n",
       "      <td>515</td>\n",
       "      <td>Multiple Roles</td>\n",
       "      <td>Requirements Engineer</td>\n",
       "      <td>answer is basically a description of a require...</td>\n",
       "    </tr>\n",
       "    <tr>\n",
       "      <th>8</th>\n",
       "      <td>544</td>\n",
       "      <td>Researcher</td>\n",
       "      <td>Coach</td>\n",
       "      <td>Coach in the first place.</td>\n",
       "    </tr>\n",
       "    <tr>\n",
       "      <th>9</th>\n",
       "      <td>597</td>\n",
       "      <td>Architect</td>\n",
       "      <td>Manager</td>\n",
       "      <td>More a manager than an architect</td>\n",
       "    </tr>\n",
       "  </tbody>\n",
       "</table>\n",
       "</div>"
      ],
      "text/plain": [
       "   lfdn          old_code               new_code  \\\n",
       "0   139           Manager                  Coach   \n",
       "1   299     Context Roles                  Other   \n",
       "2   306    Multiple Roles  Requirements Engineer   \n",
       "3   310  Process Designer              Developer   \n",
       "4   342    Multiple Roles  Requirements Engineer   \n",
       "5   445     Context Roles                  Other   \n",
       "6   447          Designer              Architect   \n",
       "7   515    Multiple Roles  Requirements Engineer   \n",
       "8   544        Researcher                  Coach   \n",
       "9   597         Architect                Manager   \n",
       "\n",
       "                                           reasoning  \n",
       "0    Answer says that s/he is a coach for management  \n",
       "1  I don't like the term 'context roles'. It's to...  \n",
       "2            RE and Product Owner is almost the same  \n",
       "3  Definitly not a process designer. Either devlo...  \n",
       "4                       RE and BA is almost the same  \n",
       "5  I don't like the term 'context roles'. It's to...  \n",
       "6       A service designer is basically an architect  \n",
       "7  answer is basically a description of a require...  \n",
       "8                         Coach in the first place.   \n",
       "9                   More a manager than an architect  "
      ]
     },
     "execution_count": 99,
     "metadata": {},
     "output_type": "execute_result"
    }
   ],
   "source": [
    "v6_corrlog = filedfs['../repract_validation_responses/AV/v_6_correctionlog.csv']\n",
    "v6_corrlog = v6_corrlog.replace('Developer or tool vendor', 'Developer')\n",
    "v6_corrlog"
   ]
  },
  {
   "cell_type": "code",
   "execution_count": 110,
   "metadata": {},
   "outputs": [
    {
     "data": {
      "text/plain": [
       "array(['Researcher', 'Coach', 'Consultant', 'Multiple Roles', 'Architect',\n",
       "       'Other', 'Requirements Engineer', 'Developer', 'Manager',\n",
       "       'Process Designer'], dtype=object)"
      ]
     },
     "execution_count": 110,
     "metadata": {},
     "output_type": "execute_result"
    }
   ],
   "source": [
    "v6_integrated = integrate_corrections(v6_coded, v6_corrlog, 6).reset_index()\n",
    "v6_integrated.v_6_coded.unique()"
   ]
  },
  {
   "cell_type": "code",
   "execution_count": 125,
   "metadata": {},
   "outputs": [],
   "source": [
    "v6_integrated.to_csv('../../data/codedtruth/v_6_coded_final.csv', index=False)"
   ]
  },
  {
   "cell_type": "markdown",
   "metadata": {},
   "source": [
    "v_11 (no objections here)"
   ]
  },
  {
   "cell_type": "code",
   "execution_count": 114,
   "metadata": {},
   "outputs": [
    {
     "data": {
      "text/html": [
       "<div>\n",
       "<style scoped>\n",
       "    .dataframe tbody tr th:only-of-type {\n",
       "        vertical-align: middle;\n",
       "    }\n",
       "\n",
       "    .dataframe tbody tr th {\n",
       "        vertical-align: top;\n",
       "    }\n",
       "\n",
       "    .dataframe thead th {\n",
       "        text-align: right;\n",
       "    }\n",
       "</style>\n",
       "<table border=\"1\" class=\"dataframe\">\n",
       "  <thead>\n",
       "    <tr style=\"text-align: right;\">\n",
       "      <th></th>\n",
       "      <th>lfdn</th>\n",
       "      <th>old_code</th>\n",
       "      <th>new_code</th>\n",
       "      <th>reasoning</th>\n",
       "    </tr>\n",
       "  </thead>\n",
       "  <tbody>\n",
       "  </tbody>\n",
       "</table>\n",
       "</div>"
      ],
      "text/plain": [
       "Empty DataFrame\n",
       "Columns: [lfdn, old_code, new_code, reasoning]\n",
       "Index: []"
      ]
     },
     "execution_count": 114,
     "metadata": {},
     "output_type": "execute_result"
    }
   ],
   "source": [
    "filedfs['../repract_validation_responses/AV/v_11_correctionlog.csv']"
   ]
  },
  {
   "cell_type": "code",
   "execution_count": 126,
   "metadata": {},
   "outputs": [],
   "source": [
    "pd.read_csv('../../analysis/freetext/v_11_coded.csv', sep=';'\n",
    "           ).to_csv('../../data/codedtruth/v_11_coded_final.csv', index=False)"
   ]
  },
  {
   "cell_type": "markdown",
   "metadata": {},
   "source": [
    "v_16"
   ]
  },
  {
   "cell_type": "code",
   "execution_count": 119,
   "metadata": {},
   "outputs": [
    {
     "data": {
      "text/html": [
       "<div>\n",
       "<style scoped>\n",
       "    .dataframe tbody tr th:only-of-type {\n",
       "        vertical-align: middle;\n",
       "    }\n",
       "\n",
       "    .dataframe tbody tr th {\n",
       "        vertical-align: top;\n",
       "    }\n",
       "\n",
       "    .dataframe thead th {\n",
       "        text-align: right;\n",
       "    }\n",
       "</style>\n",
       "<table border=\"1\" class=\"dataframe\">\n",
       "  <thead>\n",
       "    <tr style=\"text-align: right;\">\n",
       "      <th></th>\n",
       "      <th>v_16</th>\n",
       "      <th>v_16_coded</th>\n",
       "    </tr>\n",
       "    <tr>\n",
       "      <th>lfdn</th>\n",
       "      <th></th>\n",
       "      <th></th>\n",
       "    </tr>\n",
       "  </thead>\n",
       "  <tbody>\n",
       "    <tr>\n",
       "      <th>139</th>\n",
       "      <td>Customer facing software products</td>\n",
       "      <td>(Business) information systems</td>\n",
       "    </tr>\n",
       "    <tr>\n",
       "      <th>240</th>\n",
       "      <td>Different, consumer platforms, mobile Apps etc.</td>\n",
       "      <td>(Business) information systems</td>\n",
       "    </tr>\n",
       "    <tr>\n",
       "      <th>245</th>\n",
       "      <td>Aeronautics</td>\n",
       "      <td>Hybrid / mix of embedded systems and informati...</td>\n",
       "    </tr>\n",
       "    <tr>\n",
       "      <th>310</th>\n",
       "      <td>Requirements Engineering tools, compilers and ...</td>\n",
       "      <td>(Business) information systems</td>\n",
       "    </tr>\n",
       "    <tr>\n",
       "      <th>341</th>\n",
       "      <td>Railway systems</td>\n",
       "      <td>Hybrid / mix of embedded systems and informati...</td>\n",
       "    </tr>\n",
       "  </tbody>\n",
       "</table>\n",
       "</div>"
      ],
      "text/plain": [
       "                                                   v_16  \\\n",
       "lfdn                                                      \n",
       "139                   Customer facing software products   \n",
       "240     Different, consumer platforms, mobile Apps etc.   \n",
       "245                                        Aeronautics    \n",
       "310   Requirements Engineering tools, compilers and ...   \n",
       "341                                     Railway systems   \n",
       "\n",
       "                                             v_16_coded  \n",
       "lfdn                                                     \n",
       "139                      (Business) information systems  \n",
       "240                      (Business) information systems  \n",
       "245   Hybrid / mix of embedded systems and informati...  \n",
       "310                      (Business) information systems  \n",
       "341   Hybrid / mix of embedded systems and informati...  "
      ]
     },
     "execution_count": 119,
     "metadata": {},
     "output_type": "execute_result"
    }
   ],
   "source": [
    "v16_coded = pd.read_csv('../../analysis/freetext/v_16_coded.csv', sep=';').set_index('lfdn')\n",
    "v16_coded.head()"
   ]
  },
  {
   "cell_type": "code",
   "execution_count": 121,
   "metadata": {},
   "outputs": [
    {
     "data": {
      "text/html": [
       "<div>\n",
       "<style scoped>\n",
       "    .dataframe tbody tr th:only-of-type {\n",
       "        vertical-align: middle;\n",
       "    }\n",
       "\n",
       "    .dataframe tbody tr th {\n",
       "        vertical-align: top;\n",
       "    }\n",
       "\n",
       "    .dataframe thead th {\n",
       "        text-align: right;\n",
       "    }\n",
       "</style>\n",
       "<table border=\"1\" class=\"dataframe\">\n",
       "  <thead>\n",
       "    <tr style=\"text-align: right;\">\n",
       "      <th></th>\n",
       "      <th>lfdn</th>\n",
       "      <th>old_code</th>\n",
       "      <th>new_code</th>\n",
       "      <th>reasoning</th>\n",
       "    </tr>\n",
       "  </thead>\n",
       "  <tbody>\n",
       "    <tr>\n",
       "      <th>0</th>\n",
       "      <td>139</td>\n",
       "      <td>(Business) information systems</td>\n",
       "      <td>Consumer Software</td>\n",
       "      <td>Consumer SW is often differnt from BI systems</td>\n",
       "    </tr>\n",
       "    <tr>\n",
       "      <th>1</th>\n",
       "      <td>240</td>\n",
       "      <td>(Business) information systems</td>\n",
       "      <td>Consumer Software</td>\n",
       "      <td>Consumer SW is often differnt from BI systems</td>\n",
       "    </tr>\n",
       "    <tr>\n",
       "      <th>2</th>\n",
       "      <td>245</td>\n",
       "      <td>Hybrid / mix of embedded systems and informati...</td>\n",
       "      <td>Software-intensive embedded systems</td>\n",
       "      <td>Aeronautics is more likely to be ES</td>\n",
       "    </tr>\n",
       "    <tr>\n",
       "      <th>3</th>\n",
       "      <td>341</td>\n",
       "      <td>Hybrid / mix of embedded systems and informati...</td>\n",
       "      <td>Software-intensive embedded systems</td>\n",
       "      <td>Railway is mostly embedded</td>\n",
       "    </tr>\n",
       "    <tr>\n",
       "      <th>4</th>\n",
       "      <td>784</td>\n",
       "      <td>(Business) information systems</td>\n",
       "      <td>Consumer Software</td>\n",
       "      <td>eductaion systems are very consumer oriented</td>\n",
       "    </tr>\n",
       "  </tbody>\n",
       "</table>\n",
       "</div>"
      ],
      "text/plain": [
       "   lfdn                                           old_code  \\\n",
       "0   139                     (Business) information systems   \n",
       "1   240                     (Business) information systems   \n",
       "2   245  Hybrid / mix of embedded systems and informati...   \n",
       "3   341  Hybrid / mix of embedded systems and informati...   \n",
       "4   784                     (Business) information systems   \n",
       "\n",
       "                              new_code  \\\n",
       "0                    Consumer Software   \n",
       "1                    Consumer Software   \n",
       "2  Software-intensive embedded systems   \n",
       "3  Software-intensive embedded systems   \n",
       "4                    Consumer Software   \n",
       "\n",
       "                                       reasoning  \n",
       "0  Consumer SW is often differnt from BI systems  \n",
       "1  Consumer SW is often differnt from BI systems  \n",
       "2            Aeronautics is more likely to be ES  \n",
       "3                     Railway is mostly embedded  \n",
       "4   eductaion systems are very consumer oriented  "
      ]
     },
     "execution_count": 121,
     "metadata": {},
     "output_type": "execute_result"
    }
   ],
   "source": [
    "v16_corrlog = filedfs['../repract_validation_responses/AV/v_16_correctionlog.csv']\n",
    "v16_corrlog"
   ]
  },
  {
   "cell_type": "code",
   "execution_count": 124,
   "metadata": {},
   "outputs": [
    {
     "data": {
      "text/html": [
       "<div>\n",
       "<style scoped>\n",
       "    .dataframe tbody tr th:only-of-type {\n",
       "        vertical-align: middle;\n",
       "    }\n",
       "\n",
       "    .dataframe tbody tr th {\n",
       "        vertical-align: top;\n",
       "    }\n",
       "\n",
       "    .dataframe thead th {\n",
       "        text-align: right;\n",
       "    }\n",
       "</style>\n",
       "<table border=\"1\" class=\"dataframe\">\n",
       "  <thead>\n",
       "    <tr style=\"text-align: right;\">\n",
       "      <th></th>\n",
       "      <th>lfdn</th>\n",
       "      <th>v_16</th>\n",
       "      <th>v_16_coded</th>\n",
       "    </tr>\n",
       "  </thead>\n",
       "  <tbody>\n",
       "    <tr>\n",
       "      <th>0</th>\n",
       "      <td>139</td>\n",
       "      <td>Customer facing software products</td>\n",
       "      <td>Consumer Software</td>\n",
       "    </tr>\n",
       "    <tr>\n",
       "      <th>1</th>\n",
       "      <td>240</td>\n",
       "      <td>Different, consumer platforms, mobile Apps etc.</td>\n",
       "      <td>Consumer Software</td>\n",
       "    </tr>\n",
       "    <tr>\n",
       "      <th>2</th>\n",
       "      <td>245</td>\n",
       "      <td>Aeronautics</td>\n",
       "      <td>Software-intensive embedded systems</td>\n",
       "    </tr>\n",
       "    <tr>\n",
       "      <th>3</th>\n",
       "      <td>310</td>\n",
       "      <td>Requirements Engineering tools, compilers and ...</td>\n",
       "      <td>(Business) information systems</td>\n",
       "    </tr>\n",
       "    <tr>\n",
       "      <th>4</th>\n",
       "      <td>341</td>\n",
       "      <td>Railway systems</td>\n",
       "      <td>Software-intensive embedded systems</td>\n",
       "    </tr>\n",
       "    <tr>\n",
       "      <th>5</th>\n",
       "      <td>354</td>\n",
       "      <td>machinery, intralogistic systems</td>\n",
       "      <td>Hardware</td>\n",
       "    </tr>\n",
       "    <tr>\n",
       "      <th>6</th>\n",
       "      <td>363</td>\n",
       "      <td>firmware/microprocessor systems</td>\n",
       "      <td>Hardware</td>\n",
       "    </tr>\n",
       "    <tr>\n",
       "      <th>7</th>\n",
       "      <td>515</td>\n",
       "      <td>network / infrastructure, systems (HW + embedd...</td>\n",
       "      <td>Hardware</td>\n",
       "    </tr>\n",
       "    <tr>\n",
       "      <th>8</th>\n",
       "      <td>590</td>\n",
       "      <td>all the above</td>\n",
       "      <td>Hybrid / mix of embedded systems and informati...</td>\n",
       "    </tr>\n",
       "    <tr>\n",
       "      <th>9</th>\n",
       "      <td>784</td>\n",
       "      <td>online education systems</td>\n",
       "      <td>Consumer Software</td>\n",
       "    </tr>\n",
       "    <tr>\n",
       "      <th>10</th>\n",
       "      <td>885</td>\n",
       "      <td>ERP</td>\n",
       "      <td>(Business) information systems</td>\n",
       "    </tr>\n",
       "    <tr>\n",
       "      <th>11</th>\n",
       "      <td>906</td>\n",
       "      <td>All of the above, along with hardware</td>\n",
       "      <td>Hybrid / mix of embedded systems and informati...</td>\n",
       "    </tr>\n",
       "  </tbody>\n",
       "</table>\n",
       "</div>"
      ],
      "text/plain": [
       "    lfdn                                               v_16  \\\n",
       "0    139                  Customer facing software products   \n",
       "1    240    Different, consumer platforms, mobile Apps etc.   \n",
       "2    245                                       Aeronautics    \n",
       "3    310  Requirements Engineering tools, compilers and ...   \n",
       "4    341                                    Railway systems   \n",
       "5    354                   machinery, intralogistic systems   \n",
       "6    363                    firmware/microprocessor systems   \n",
       "7    515  network / infrastructure, systems (HW + embedd...   \n",
       "8    590                                      all the above   \n",
       "9    784                           online education systems   \n",
       "10   885                                                ERP   \n",
       "11   906             All of the above, along with hardware    \n",
       "\n",
       "                                           v_16_coded  \n",
       "0                                   Consumer Software  \n",
       "1                                   Consumer Software  \n",
       "2                 Software-intensive embedded systems  \n",
       "3                      (Business) information systems  \n",
       "4                 Software-intensive embedded systems  \n",
       "5                                            Hardware  \n",
       "6                                            Hardware  \n",
       "7                                            Hardware  \n",
       "8   Hybrid / mix of embedded systems and informati...  \n",
       "9                                   Consumer Software  \n",
       "10                     (Business) information systems  \n",
       "11  Hybrid / mix of embedded systems and informati...  "
      ]
     },
     "execution_count": 124,
     "metadata": {},
     "output_type": "execute_result"
    }
   ],
   "source": [
    "v16_integrated = integrate_corrections(v16_coded, v16_corrlog, 16).reset_index()\n",
    "v16_integrated"
   ]
  },
  {
   "cell_type": "code",
   "execution_count": 127,
   "metadata": {},
   "outputs": [],
   "source": [
    "v16_integrated.to_csv('../../data/codedtruth/v_16_coded_final.csv', index=False)"
   ]
  },
  {
   "cell_type": "markdown",
   "metadata": {},
   "source": [
    "v_19"
   ]
  },
  {
   "cell_type": "markdown",
   "metadata": {},
   "source": [
    "After some discussion, I decided to NOT use 'Military' as a sector (as suggested by AV) but go with AV's suggestion on the 'Education' (rather than 'Research and Education') front to allow for further aggregation."
   ]
  },
  {
   "cell_type": "code",
   "execution_count": 159,
   "metadata": {},
   "outputs": [
    {
     "data": {
      "text/plain": [
       "v_19               Defense \n",
       "v_19_coded    Public Sector\n",
       "Name: 292, dtype: object"
      ]
     },
     "execution_count": 159,
     "metadata": {},
     "output_type": "execute_result"
    }
   ],
   "source": [
    "v19_coded = pd.read_csv('../../analysis/freetext/v_19_coded.csv', sep=';').set_index('lfdn')\n",
    "v19_coded.loc[292]"
   ]
  },
  {
   "cell_type": "code",
   "execution_count": 164,
   "metadata": {},
   "outputs": [],
   "source": [
    "v19_corrlog = filedfs['../repract_validation_responses/AV/v_19_correctionlog.csv']\n",
    "v19_corrlog = v19_corrlog.replace('?','Other').replace('Industrial automation', 'Industrial Automation')"
   ]
  },
  {
   "cell_type": "code",
   "execution_count": 167,
   "metadata": {},
   "outputs": [],
   "source": [
    "v19_integrated = integrate_corrections(v19_coded, v19_corrlog[v19_corrlog['new_code'] != 'Military'], 19\n",
    "                                      ).reset_index()"
   ]
  },
  {
   "cell_type": "code",
   "execution_count": 168,
   "metadata": {},
   "outputs": [
    {
     "data": {
      "text/plain": [
       "array(['Automotive', 'Education', 'Multiple Sectors', 'Public Sector',\n",
       "       'ICT', 'Healthcare', 'Financial Services', 'Robotics',\n",
       "       'Industrial Automation', 'Energy', 'Aeronautics', 'Transportation',\n",
       "       'Software', 'Consulting', 'Hardware', 'Infrastructure',\n",
       "       'E-Commerce', 'Other', 'Tourism'], dtype=object)"
      ]
     },
     "execution_count": 168,
     "metadata": {},
     "output_type": "execute_result"
    }
   ],
   "source": [
    "v19_integrated.v_19_coded.unique()"
   ]
  },
  {
   "cell_type": "code",
   "execution_count": 170,
   "metadata": {},
   "outputs": [],
   "source": [
    "v19_integrated.to_csv('../../data/codedtruth/v_19_coded_final.csv', index=False)"
   ]
  },
  {
   "cell_type": "markdown",
   "metadata": {},
   "source": [
    "The End."
   ]
  }
 ],
 "metadata": {
  "kernelspec": {
   "display_name": "Python [conda env:tum]",
   "language": "python",
   "name": "conda-env-tum-py"
  },
  "language_info": {
   "codemirror_mode": {
    "name": "ipython",
    "version": 3
   },
   "file_extension": ".py",
   "mimetype": "text/x-python",
   "name": "python",
   "nbconvert_exporter": "python",
   "pygments_lexer": "ipython3",
   "version": "3.6.4"
  }
 },
 "nbformat": 4,
 "nbformat_minor": 2
}
