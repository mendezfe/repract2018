{
 "cells": [
  {
   "cell_type": "markdown",
   "metadata": {},
   "source": [
    "### Some ugly helper code to make validation more comfortable for the second human validator"
   ]
  },
  {
   "cell_type": "markdown",
   "metadata": {},
   "source": [
    "The purpose of this code is to re-sort the files that were changed by the first human validator (in this case, CC on 2018-04-08)"
   ]
  },
  {
   "cell_type": "code",
   "execution_count": 1,
   "metadata": {},
   "outputs": [],
   "source": [
    "import pandas as pd"
   ]
  },
  {
   "cell_type": "code",
   "execution_count": 2,
   "metadata": {},
   "outputs": [],
   "source": [
    "# note that this is already a copy of the original corrcc file, just to be sure \n",
    "source = '../analysis/freetext/v_8345etseq_coded_corrcc_to_sort.csv' \n",
    "\n",
    "target = '../analysis/freetext/v_8345etseq_coded_corrcc_sorted.csv' \n",
    "\n",
    "# excel apparently turned my beautiful utf8 into ugly latin1 :-(\n",
    "posres = pd.read_csv(source, sep=';', encoding='latin1') \n",
    "\n",
    "posres.sort_values(['PaperID', 'lfdn', 'Tag']).to_csv(target, index=False, sep=';')"
   ]
  },
  {
   "cell_type": "code",
   "execution_count": 3,
   "metadata": {},
   "outputs": [],
   "source": [
    "# note that this is already a copy of the original corrcc file, just to be sure \n",
    "source2 = '../analysis/freetext/v_8780etseq_coded_corrcc_to_sort.csv' \n",
    "\n",
    "target2 = '../analysis/freetext/v_8780etseq_coded_corrcc_sorted.csv' \n",
    "\n",
    "# excel apparently turned my beautiful utf8 into ugly latin1 :-(\n",
    "negres = pd.read_csv(source2, sep=';', encoding='latin1') \n",
    "\n",
    "negres.sort_values(['PaperID', 'lfdn', 'Tag']).to_csv(target2, index=False, sep=';')"
   ]
  },
  {
   "cell_type": "code",
   "execution_count": 4,
   "metadata": {},
   "outputs": [],
   "source": [
    "# note that this is already a copy of the original corrcc file, just to be sure \n",
    "source3 = '../analysis/papermapping/papertags_what_corrcc_to_sort.csv' \n",
    "\n",
    "target3 = '../analysis/papermapping/papertags_what_corrcc_sorted.csv' \n",
    "\n",
    "# excel apparently turned my beautiful utf8 into ugly latin1 :-(\n",
    "what = pd.read_csv(source3, sep=';', encoding='latin1') \n",
    "\n",
    "what.sort_values(['PaperID', 'Tag']).to_csv(target3, index=False, sep=';')"
   ]
  },
  {
   "cell_type": "markdown",
   "metadata": {},
   "source": [
    "The End."
   ]
  }
 ],
 "metadata": {
  "kernelspec": {
   "display_name": "Python [conda env:tum]",
   "language": "python",
   "name": "conda-env-tum-py"
  },
  "language_info": {
   "codemirror_mode": {
    "name": "ipython",
    "version": 3
   },
   "file_extension": ".py",
   "mimetype": "text/x-python",
   "name": "python",
   "nbconvert_exporter": "python",
   "pygments_lexer": "ipython3",
   "version": "3.6.4"
  }
 },
 "nbformat": 4,
 "nbformat_minor": 2
}
