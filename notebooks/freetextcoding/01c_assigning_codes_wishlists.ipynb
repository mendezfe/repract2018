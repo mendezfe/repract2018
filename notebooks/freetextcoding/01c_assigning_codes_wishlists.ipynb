{
 "cells": [
  {
   "cell_type": "markdown",
   "metadata": {},
   "source": [
    "### Variables coded in this notebook: 18, 1373"
   ]
  },
  {
   "cell_type": "markdown",
   "metadata": {},
   "source": [
    "##### Maybe work out satisfiers, dissatisfiers, and delighters as RE research relevance requirements?\n",
    "\n",
    "...drawing delighters from positive reasoning and wishlists, satisfiers and dissatisfiers from positive and negative reasoning?"
   ]
  },
  {
   "cell_type": "code",
   "execution_count": null,
   "metadata": {},
   "outputs": [],
   "source": []
  }
 ],
 "metadata": {
  "kernelspec": {
   "display_name": "Python [conda env:tum]",
   "language": "python",
   "name": "conda-env-tum-py"
  },
  "language_info": {
   "codemirror_mode": {
    "name": "ipython",
    "version": 3
   },
   "file_extension": ".py",
   "mimetype": "text/x-python",
   "name": "python",
   "nbconvert_exporter": "python",
   "pygments_lexer": "ipython3",
   "version": "3.6.4"
  }
 },
 "nbformat": 4,
 "nbformat_minor": 2
}
