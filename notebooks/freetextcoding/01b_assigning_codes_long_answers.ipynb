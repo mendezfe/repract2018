{
 "cells": [
  {
   "cell_type": "markdown",
   "metadata": {},
   "source": [
    "#### Variables coded in this notebook: 8345 et seq, 8780 et seq\n",
    "\n",
    "NB: Here, multiple tags should be allowed, so we need long-form DataFrames."
   ]
  },
  {
   "cell_type": "markdown",
   "metadata": {},
   "source": [
    "General Procedure:\n",
    "1. Design and refine Regex to the point where further refinement would lead to drastical overfitting\n",
    "2. Assign reasoning tags via automation\n",
    "3. Let human(s) validate all tags and assign at least one tag to all answers\n",
    "\n",
    "This notebook is concerned with steps 1 and 2 only."
   ]
  },
  {
   "cell_type": "markdown",
   "metadata": {},
   "source": [
    "#### The Regex Configuration is considered fixed as of 2018-04-04."
   ]
  },
  {
   "cell_type": "code",
   "execution_count": 1,
   "metadata": {},
   "outputs": [],
   "source": [
    "import os, pandas as pd, re"
   ]
  },
  {
   "cell_type": "code",
   "execution_count": 2,
   "metadata": {},
   "outputs": [],
   "source": [
    "exportdate = 20180327\n",
    "projectname = 'repract'"
   ]
  },
  {
   "cell_type": "code",
   "execution_count": 3,
   "metadata": {},
   "outputs": [
    {
     "data": {
      "text/html": [
       "<div>\n",
       "<style scoped>\n",
       "    .dataframe tbody tr th:only-of-type {\n",
       "        vertical-align: middle;\n",
       "    }\n",
       "\n",
       "    .dataframe tbody tr th {\n",
       "        vertical-align: top;\n",
       "    }\n",
       "\n",
       "    .dataframe thead th {\n",
       "        text-align: right;\n",
       "    }\n",
       "</style>\n",
       "<table border=\"1\" class=\"dataframe\">\n",
       "  <thead>\n",
       "    <tr style=\"text-align: right;\">\n",
       "      <th></th>\n",
       "      <th>lfdn</th>\n",
       "      <th>external_lfdn</th>\n",
       "      <th>tester</th>\n",
       "      <th>dispcode</th>\n",
       "      <th>lastpage</th>\n",
       "      <th>quality</th>\n",
       "      <th>duration</th>\n",
       "      <th>v_7039</th>\n",
       "      <th>v_7040</th>\n",
       "      <th>v_7041</th>\n",
       "      <th>...</th>\n",
       "      <th>output_mode</th>\n",
       "      <th>javascript</th>\n",
       "      <th>flash</th>\n",
       "      <th>session_id</th>\n",
       "      <th>language</th>\n",
       "      <th>cleaned</th>\n",
       "      <th>ats</th>\n",
       "      <th>datetime</th>\n",
       "      <th>date_of_last_access</th>\n",
       "      <th>date_of_first_mail</th>\n",
       "    </tr>\n",
       "  </thead>\n",
       "  <tbody>\n",
       "    <tr>\n",
       "      <th>0</th>\n",
       "      <td>106</td>\n",
       "      <td>0</td>\n",
       "      <td>no tester</td>\n",
       "      <td>Completed after break (32)</td>\n",
       "      <td>2138658</td>\n",
       "      <td>NotShown</td>\n",
       "      <td>-1</td>\n",
       "      <td>NotShown</td>\n",
       "      <td>NotShown</td>\n",
       "      <td>0</td>\n",
       "      <td>...</td>\n",
       "      <td>HTML</td>\n",
       "      <td>NotShown</td>\n",
       "      <td>NotShown</td>\n",
       "      <td>3bb21c1b318e2f6b87557566bdd6b4d9</td>\n",
       "      <td>English</td>\n",
       "      <td>Not cleaned</td>\n",
       "      <td>1515411510</td>\n",
       "      <td>2018-01-08 11:38:30</td>\n",
       "      <td>2018-01-08 13:07:14</td>\n",
       "      <td>0000-00-00 00:00:00</td>\n",
       "    </tr>\n",
       "    <tr>\n",
       "      <th>1</th>\n",
       "      <td>131</td>\n",
       "      <td>0</td>\n",
       "      <td>no tester</td>\n",
       "      <td>Completed (31)</td>\n",
       "      <td>2138658</td>\n",
       "      <td>NotShown</td>\n",
       "      <td>3805</td>\n",
       "      <td>NotShown</td>\n",
       "      <td>NotShown</td>\n",
       "      <td>NotShown</td>\n",
       "      <td>...</td>\n",
       "      <td>HTML</td>\n",
       "      <td>NotShown</td>\n",
       "      <td>NotShown</td>\n",
       "      <td>fc38f6556787a459c2cc604abf799448</td>\n",
       "      <td>English</td>\n",
       "      <td>Not cleaned</td>\n",
       "      <td>1515667019</td>\n",
       "      <td>2018-01-11 10:36:59</td>\n",
       "      <td>2018-01-11 11:40:24</td>\n",
       "      <td>0000-00-00 00:00:00</td>\n",
       "    </tr>\n",
       "  </tbody>\n",
       "</table>\n",
       "<p>2 rows × 1360 columns</p>\n",
       "</div>"
      ],
      "text/plain": [
       "   lfdn  external_lfdn     tester                    dispcode  lastpage  \\\n",
       "0   106              0  no tester  Completed after break (32)   2138658   \n",
       "1   131              0  no tester              Completed (31)   2138658   \n",
       "\n",
       "    quality  duration    v_7039    v_7040    v_7041         ...           \\\n",
       "0  NotShown        -1  NotShown  NotShown         0         ...            \n",
       "1  NotShown      3805  NotShown  NotShown  NotShown         ...            \n",
       "\n",
       "  output_mode javascript     flash                        session_id language  \\\n",
       "0        HTML   NotShown  NotShown  3bb21c1b318e2f6b87557566bdd6b4d9  English   \n",
       "1        HTML   NotShown  NotShown  fc38f6556787a459c2cc604abf799448  English   \n",
       "\n",
       "       cleaned         ats             datetime  date_of_last_access  \\\n",
       "0  Not cleaned  1515411510  2018-01-08 11:38:30  2018-01-08 13:07:14   \n",
       "1  Not cleaned  1515667019  2018-01-11 10:36:59  2018-01-11 11:40:24   \n",
       "\n",
       "    date_of_first_mail  \n",
       "0  0000-00-00 00:00:00  \n",
       "1  0000-00-00 00:00:00  \n",
       "\n",
       "[2 rows x 1360 columns]"
      ]
     },
     "execution_count": 3,
     "metadata": {},
     "output_type": "execute_result"
    }
   ],
   "source": [
    "df = pd.read_csv(f'../../data/{exportdate}{projectname}.csv')\n",
    "df.head(2)"
   ]
  },
  {
   "cell_type": "code",
   "execution_count": 4,
   "metadata": {},
   "outputs": [],
   "source": [
    "basedir = '../../data/freetext'\n",
    "freetextfiles = os.listdir(basedir)\n",
    "dfs = {file[:-4]:pd.read_csv(f'{basedir}/{file}') for file in freetextfiles}"
   ]
  },
  {
   "cell_type": "code",
   "execution_count": 5,
   "metadata": {},
   "outputs": [
    {
     "data": {
      "text/plain": [
       "dict_keys(['.DS_S', 'v_11', 'v_1373', 'v_16', 'v_18', 'v_19', 'v_6', 'v_8345etseq', 'v_8780etseq'])"
      ]
     },
     "execution_count": 5,
     "metadata": {},
     "output_type": "execute_result"
    }
   ],
   "source": [
    "dfs.keys()"
   ]
  },
  {
   "cell_type": "code",
   "execution_count": 6,
   "metadata": {},
   "outputs": [],
   "source": [
    "codedir = '../../analysis/freetext'\n",
    "def write_coded(df, varname, prelim=False, sep=','):\n",
    "    filepath = f'{codedir}/{varname}_coded{\"_prelim\" if prelim else \"\"}.csv'\n",
    "    df.to_csv(filepath, index=False, sep=sep)\n",
    "    print(f'File stored at {filepath}.')"
   ]
  },
  {
   "cell_type": "markdown",
   "metadata": {},
   "source": [
    "NB: If you want German-style csv files, set `sep` to `;` (default is `,`)."
   ]
  },
  {
   "cell_type": "code",
   "execution_count": 7,
   "metadata": {},
   "outputs": [],
   "source": [
    "def assign_reasoning_tags(df, regexes):\n",
    "    newdf = pd.DataFrame(columns=list(df.columns.values) + ['Tag'])\n",
    "    for k,v in regexes.items():\n",
    "        matches = pd.DataFrame([list(row[1])+[k] for row in df.iterrows() if re.search(v, row[1][-1].lower())], \n",
    "                               columns=list(df.columns.values) + ['Tag'])\n",
    "        newdf = newdf.append(matches)\n",
    "    newdf = newdf.append(pd.DataFrame([list(row[1])+['NotAnswered'] for row in df.iterrows() if len(row[1][-1]) < 5], \n",
    "                               columns=list(df.columns.values) + ['Tag']))\n",
    "    newdf = newdf.sort_values(['PaperID', 'lfdn'])\n",
    "    newdf = newdf.append(pd.DataFrame([list(row[1])+[''] for row in df.iterrows() \n",
    "                                       if (row[1][0],row[1][1]) not in \n",
    "                                       list(zip(newdf.PaperID.values, newdf.lfdn.values))], \n",
    "                               columns=list(df.columns.values) + ['Tag']))\n",
    "    return newdf"
   ]
  },
  {
   "cell_type": "code",
   "execution_count": 8,
   "metadata": {},
   "outputs": [],
   "source": [
    "def get_unmatched(df):\n",
    "    return df[df.Tag == ''][['PaperID', 'lfdn', 'reasoning']]"
   ]
  },
  {
   "cell_type": "code",
   "execution_count": 9,
   "metadata": {},
   "outputs": [],
   "source": [
    "# helper\n",
    "def minitest(df, regex):\n",
    "    x = 0\n",
    "    for idx, r in enumerate(df):\n",
    "        rval = r.lower()\n",
    "        if (re.search(\n",
    "            regex,rval)\n",
    "            ):\n",
    "            print(idx, r)\n",
    "            x +=1 \n",
    "    return x"
   ]
  },
  {
   "cell_type": "markdown",
   "metadata": {},
   "source": [
    "#### Positive Reasoning"
   ]
  },
  {
   "cell_type": "markdown",
   "metadata": {},
   "source": [
    "Reasons (Content of the Reasoning Provided):\n",
    "- Relevance (of the Problem), i.e., Practical Problem (seemingly) addressed\n",
    "- Plausibility (of the Solution), i.e., (seemingly) Sensible Solution\n",
    "- Originality (of the Approach, i.e., (seemingly) Astute Approach - this being somewhat more generic than Plausibility\n",
    "- NotAnswered (String with no true content)\n",
    "\n",
    "Sources (Evidence/Support for the Reasons Provided):\n",
    "- experience (explicit reference to personal experience)\n",
    "- opinion    (explicit reference to personal judgment)\n",
    "- perception (implicit reference to personal world view - people making statements of fact without reference to any specific source - euphemism for 'no arguments presented' - not explicitly tagged)"
   ]
  },
  {
   "cell_type": "code",
   "execution_count": 10,
   "metadata": {},
   "outputs": [],
   "source": [
    "posexes = {\n",
    "    'reason:relevance': \n",
    "        ('problem|challeng|experienc|issue(?!s)|concern|need(?!s)|dilemma|'+\n",
    "        'relevan|essential|critical|crucial|importa|difficult|(?:^|\\W)we\\W|fundamental'),\n",
    "    'reason:plausibility': \n",
    "        'could|might|help(s|ful)?(?!\\w)|improves?(?!m)|(?<!\\sto\\s)better',\n",
    "    'reason:originality': \n",
    "        'literature|gap|interesting',\n",
    "    'source:experience': \n",
    "        '(?:^|\\W)my\\W.*?(?:experience|work)',\n",
    "    'source:opinion': \n",
    "        '(?:^|\\W)my\\Wopinion(?!:)|believ|think|feel',\n",
    "}"
   ]
  },
  {
   "cell_type": "code",
   "execution_count": 11,
   "metadata": {},
   "outputs": [
    {
     "data": {
      "text/html": [
       "<div>\n",
       "<style scoped>\n",
       "    .dataframe tbody tr th:only-of-type {\n",
       "        vertical-align: middle;\n",
       "    }\n",
       "\n",
       "    .dataframe tbody tr th {\n",
       "        vertical-align: top;\n",
       "    }\n",
       "\n",
       "    .dataframe thead th {\n",
       "        text-align: right;\n",
       "    }\n",
       "</style>\n",
       "<table border=\"1\" class=\"dataframe\">\n",
       "  <thead>\n",
       "    <tr style=\"text-align: right;\">\n",
       "      <th></th>\n",
       "      <th>PaperID</th>\n",
       "      <th>lfdn</th>\n",
       "      <th>reasoning</th>\n",
       "      <th>Tag</th>\n",
       "      <th>level_1</th>\n",
       "      <th>level_2</th>\n",
       "    </tr>\n",
       "  </thead>\n",
       "  <tbody>\n",
       "    <tr>\n",
       "      <th>0</th>\n",
       "      <td>2</td>\n",
       "      <td>116</td>\n",
       "      <td>Aligning requirements to regulatory standards ...</td>\n",
       "      <td>reason:relevance</td>\n",
       "      <td>reason</td>\n",
       "      <td>relevance</td>\n",
       "    </tr>\n",
       "    <tr>\n",
       "      <th>0</th>\n",
       "      <td>5</td>\n",
       "      <td>152</td>\n",
       "      <td>.</td>\n",
       "      <td>NotAnswered</td>\n",
       "      <td>NotAnswered</td>\n",
       "      <td></td>\n",
       "    </tr>\n",
       "    <tr>\n",
       "      <th>0</th>\n",
       "      <td>8</td>\n",
       "      <td>94</td>\n",
       "      <td>In order to gain a better understanding from t...</td>\n",
       "      <td>reason:plausibility</td>\n",
       "      <td>reason</td>\n",
       "      <td>plausibility</td>\n",
       "    </tr>\n",
       "    <tr>\n",
       "      <th>1</th>\n",
       "      <td>9</td>\n",
       "      <td>110</td>\n",
       "      <td>Ambiguities are a critical source of issues. A...</td>\n",
       "      <td>reason:relevance</td>\n",
       "      <td>reason</td>\n",
       "      <td>relevance</td>\n",
       "    </tr>\n",
       "    <tr>\n",
       "      <th>1</th>\n",
       "      <td>9</td>\n",
       "      <td>110</td>\n",
       "      <td>Ambiguities are a critical source of issues. A...</td>\n",
       "      <td>reason:plausibility</td>\n",
       "      <td>reason</td>\n",
       "      <td>plausibility</td>\n",
       "    </tr>\n",
       "  </tbody>\n",
       "</table>\n",
       "</div>"
      ],
      "text/plain": [
       "  PaperID lfdn                                          reasoning  \\\n",
       "0       2  116  Aligning requirements to regulatory standards ...   \n",
       "0       5  152                                                  .   \n",
       "0       8   94  In order to gain a better understanding from t...   \n",
       "1       9  110  Ambiguities are a critical source of issues. A...   \n",
       "1       9  110  Ambiguities are a critical source of issues. A...   \n",
       "\n",
       "                   Tag      level_1       level_2  \n",
       "0     reason:relevance       reason     relevance  \n",
       "0          NotAnswered  NotAnswered                \n",
       "0  reason:plausibility       reason  plausibility  \n",
       "1     reason:relevance       reason     relevance  \n",
       "1  reason:plausibility       reason  plausibility  "
      ]
     },
     "execution_count": 11,
     "metadata": {},
     "output_type": "execute_result"
    }
   ],
   "source": [
    "postags = assign_reasoning_tags(dfs['v_8345etseq'], posexes)\n",
    "postags['level_1'], postags['level_2'] = list(zip(*[tag.split(':') if len(tag.split(':')) > 1 \n",
    "                                                 else tag.split(':') + ['']\n",
    "                                          for tag in postags.Tag \n",
    "                                          ]))\n",
    "postags.head()"
   ]
  },
  {
   "cell_type": "code",
   "execution_count": 12,
   "metadata": {
    "scrolled": true
   },
   "outputs": [
    {
     "data": {
      "text/html": [
       "<div>\n",
       "<style scoped>\n",
       "    .dataframe tbody tr th:only-of-type {\n",
       "        vertical-align: middle;\n",
       "    }\n",
       "\n",
       "    .dataframe tbody tr th {\n",
       "        vertical-align: top;\n",
       "    }\n",
       "\n",
       "    .dataframe thead th {\n",
       "        text-align: right;\n",
       "    }\n",
       "</style>\n",
       "<table border=\"1\" class=\"dataframe\">\n",
       "  <thead>\n",
       "    <tr style=\"text-align: right;\">\n",
       "      <th></th>\n",
       "      <th></th>\n",
       "      <th>Tag</th>\n",
       "    </tr>\n",
       "    <tr>\n",
       "      <th>level_1</th>\n",
       "      <th>level_2</th>\n",
       "      <th></th>\n",
       "    </tr>\n",
       "  </thead>\n",
       "  <tbody>\n",
       "    <tr>\n",
       "      <th></th>\n",
       "      <th></th>\n",
       "      <td>31</td>\n",
       "    </tr>\n",
       "    <tr>\n",
       "      <th>NotAnswered</th>\n",
       "      <th></th>\n",
       "      <td>1</td>\n",
       "    </tr>\n",
       "    <tr>\n",
       "      <th rowspan=\"3\" valign=\"top\">reason</th>\n",
       "      <th>originality</th>\n",
       "      <td>5</td>\n",
       "    </tr>\n",
       "    <tr>\n",
       "      <th>plausibility</th>\n",
       "      <td>34</td>\n",
       "    </tr>\n",
       "    <tr>\n",
       "      <th>relevance</th>\n",
       "      <td>63</td>\n",
       "    </tr>\n",
       "    <tr>\n",
       "      <th rowspan=\"2\" valign=\"top\">source</th>\n",
       "      <th>experience</th>\n",
       "      <td>6</td>\n",
       "    </tr>\n",
       "    <tr>\n",
       "      <th>opinion</th>\n",
       "      <td>12</td>\n",
       "    </tr>\n",
       "  </tbody>\n",
       "</table>\n",
       "</div>"
      ],
      "text/plain": [
       "                          Tag\n",
       "level_1     level_2          \n",
       "                           31\n",
       "NotAnswered                 1\n",
       "reason      originality     5\n",
       "            plausibility   34\n",
       "            relevance      63\n",
       "source      experience      6\n",
       "            opinion        12"
      ]
     },
     "execution_count": 12,
     "metadata": {},
     "output_type": "execute_result"
    }
   ],
   "source": [
    "postags.groupby(['level_1', 'level_2']).count()[['Tag']]"
   ]
  },
  {
   "cell_type": "code",
   "execution_count": 13,
   "metadata": {},
   "outputs": [
    {
     "name": "stdout",
     "output_type": "stream",
     "text": [
      "File stored at ../../analysis/freetext/v_8345etseq_coded_prelim.csv.\n"
     ]
    }
   ],
   "source": [
    "#write_coded(postags[postags.columns.values[:-2]], 'v_8345etseq', prelim=True, sep=';')"
   ]
  },
  {
   "cell_type": "code",
   "execution_count": 14,
   "metadata": {
    "scrolled": false
   },
   "outputs": [
    {
     "data": {
      "text/plain": [
       "['A learning-by-example method is one of the most efficient tools allowing for decreasing the uncertainty in the future.',\n",
       " 'Benchmarks are the start of everything.',\n",
       " 'A many more automatical methods shall support and ease the work of RE. Especially for standardised requirements, security, safety, traceability analysis,etc. ',\n",
       " 'non-functional reqs have the biggest impact on architecture and may not be left aside ',\n",
       " 'it will give me good reasones for RE that managers will understand',\n",
       " \"aren't they connected?\",\n",
       " 'Because of the conflict between complete requirements and fast requirements.',\n",
       " 'A lot of regulations are contradictory, it is good to have an overview for decision making',\n",
       " 'Green field happens from time to time; incremental improvements are very common. Change requests occur frequently',\n",
       " 'Non-functional requirements do not always get the attention they deserve.  Correlating understanding of non-functional requirements to project success would be of interest. ',\n",
       " 'To many goverment project get out of budget and time and in many cases the supplier just want to earn money and not focus on customer needs.',\n",
       " 'Product managers in general and the product owner role in the agile context is misintrerpreted, poorly performed. many times by software managers with no expertice in the specific application domain. ',\n",
       " 'Systems (including vehicles) are becoming more autonomous and adaptive, and there is a lot to be done here.',\n",
       " 'To avoid last minute surprise at end. ',\n",
       " 'it is a great way of tracking customer satisfaction and its impacts',\n",
       " 'Without a traceability stratergy an organisation will not be in a position to implement any project that delivers on their planned stratergy or visions.',\n",
       " 'Demand in growing systems to guarantee traceability ',\n",
       " 'um einen sichereen Überblick über die beschriebenen Ablaüfe zu erhalten',\n",
       " 'User developer communication is usually very complcated because they come from different domains and focus on different goals and details.',\n",
       " 'To understand more from the interview also to make sure the interviewee is the right person ',\n",
       " 'companies and businesses still use a high amount of textual documents which can be used for RE purposes',\n",
       " 'More and more software is cinnected with others, big projects reuslt and are not easy to define and manage',\n",
       " 'Will enable upfront proof and a way to measure in practice. Confidence to the team and the client.',\n",
       " 'It can antecipate risks in the decision making and eventually avoid to elect unadequate requirements to be implemented',\n",
       " 'The conflict point is IT security - one party wants simple access, the other party wants to close the door with seven locks.',\n",
       " 'Writing specs and requirements needs a big amount of time in projects. If you have a good spec at the end why not using the whole spec or parts again in case there is a good approach. Often a good, existing spec is taken, but not according a real concept.',\n",
       " 'one of the most insidious defects in software is a system being in an illegal state.  hard to find in testing, it tends to appear randomly.',\n",
       " 'Visual representation is worth a 1000 words, and nobody wants to read 1000 words. Requirements evolve and this is often missed.',\n",
       " 'Provide a lead in architecture definition ',\n",
       " 'To avoid rework and not-fit-for-purpose solutions on delivery',\n",
       " \"The people who pay the bills don't always consider all the impact changes can make. having a way to prove what you are recommending is worth while.\"]"
      ]
     },
     "execution_count": 14,
     "metadata": {},
     "output_type": "execute_result"
    }
   ],
   "source": [
    "list(get_unmatched(postags).reasoning.values)"
   ]
  },
  {
   "cell_type": "code",
   "execution_count": 15,
   "metadata": {},
   "outputs": [
    {
     "data": {
      "text/html": [
       "<div>\n",
       "<style scoped>\n",
       "    .dataframe tbody tr th:only-of-type {\n",
       "        vertical-align: middle;\n",
       "    }\n",
       "\n",
       "    .dataframe tbody tr th {\n",
       "        vertical-align: top;\n",
       "    }\n",
       "\n",
       "    .dataframe thead th {\n",
       "        text-align: right;\n",
       "    }\n",
       "</style>\n",
       "<table border=\"1\" class=\"dataframe\">\n",
       "  <thead>\n",
       "    <tr style=\"text-align: right;\">\n",
       "      <th></th>\n",
       "      <th></th>\n",
       "      <th>Tag</th>\n",
       "    </tr>\n",
       "    <tr>\n",
       "      <th>level_1</th>\n",
       "      <th>level_2</th>\n",
       "      <th></th>\n",
       "    </tr>\n",
       "  </thead>\n",
       "  <tbody>\n",
       "    <tr>\n",
       "      <th></th>\n",
       "      <th></th>\n",
       "      <td>31</td>\n",
       "    </tr>\n",
       "    <tr>\n",
       "      <th>NotAnswered</th>\n",
       "      <th></th>\n",
       "      <td>1</td>\n",
       "    </tr>\n",
       "    <tr>\n",
       "      <th rowspan=\"3\" valign=\"top\">reason</th>\n",
       "      <th>originality</th>\n",
       "      <td>5</td>\n",
       "    </tr>\n",
       "    <tr>\n",
       "      <th>plausibility</th>\n",
       "      <td>34</td>\n",
       "    </tr>\n",
       "    <tr>\n",
       "      <th>relevance</th>\n",
       "      <td>63</td>\n",
       "    </tr>\n",
       "    <tr>\n",
       "      <th rowspan=\"2\" valign=\"top\">source</th>\n",
       "      <th>experience</th>\n",
       "      <td>6</td>\n",
       "    </tr>\n",
       "    <tr>\n",
       "      <th>opinion</th>\n",
       "      <td>12</td>\n",
       "    </tr>\n",
       "  </tbody>\n",
       "</table>\n",
       "</div>"
      ],
      "text/plain": [
       "                          Tag\n",
       "level_1     level_2          \n",
       "                           31\n",
       "NotAnswered                 1\n",
       "reason      originality     5\n",
       "            plausibility   34\n",
       "            relevance      63\n",
       "source      experience      6\n",
       "            opinion        12"
      ]
     },
     "execution_count": 15,
     "metadata": {},
     "output_type": "execute_result"
    }
   ],
   "source": [
    "postags.groupby(['level_1', 'level_2']).count()[['Tag']]"
   ]
  },
  {
   "cell_type": "markdown",
   "metadata": {},
   "source": [
    "#### Negative Reasoning"
   ]
  },
  {
   "cell_type": "markdown",
   "metadata": {},
   "source": [
    "Reasons:\n",
    "- Lack of Practical Relevance (notimportant - Critique of the Problem Addressed)\n",
    "- Solution takes too much Effort (notefficient - Critique of the Solution Presented)\n",
    "- Research not interesting (notinteresting - General Critique)\n",
    "- Approach or Solution unconvincing (notconvincing - Critique of the Approach in General or of the Solution Presented)\n",
    "- Research already exists (notoriginal - Critique of the Approach)\n",
    "- Setup unrealistic (notrealistic - Critique of the Approach)\n",
    "- Explicit Reference to Own Attitude as a Reason (respondentattitude - No Real Critique)\n",
    "- Content too complicated (toocomplicated)\n",
    "- Content too narrow (toospecialized)\n",
    "- Description too vague (toovague)\n",
    "- Too much Opinion (toosubjective)\n",
    "\n",
    "Rejection:\n",
    "- Of the Question itself (\"Sorry, I didn't understand...\")\n",
    "- Of the Assumption Contained in the Question (\"it's not a lower rating\")"
   ]
  },
  {
   "cell_type": "markdown",
   "metadata": {},
   "source": [
    "Observations: \n",
    "- Reasons for negative evaluations are much more diverse than reasons for positive evaluations\n",
    "  - I.e., practitioners are much more specific when they state what they dislike about research than when they state what they like about research\n",
    "  - I.e., RE Research dissatisfiers are more diverse than RE Research satisfiers/delighters\n",
    "- Some answers are so specific that they can only be properly understood when taking a look at the rated summary\n",
    "- Even with the more fine grained coding scheme, there are two categories that are quite heterogeneous:\n",
    "  - notimportant\n",
    "  - notconvincing"
   ]
  },
  {
   "cell_type": "markdown",
   "metadata": {},
   "source": [
    "#### NB: The regex have gotten a little ugly and need cleanup/refactoring.\n",
    "\n",
    "At this point, they are likely overinclusive..."
   ]
  },
  {
   "cell_type": "code",
   "execution_count": 16,
   "metadata": {},
   "outputs": [],
   "source": [
    "# nb some refer to problem some to solution some to question itself\n",
    "negexes = {\n",
    "    # not that 'not important' refers to absolute and relative (=prioritization) importance reasonings\n",
    "    'reason:notimportant': ('not?\\W.{,50}(?:impor|relev|need|necess|frequ)|'\n",
    "                    + 'distract|decr.*?relev|not?\\W.{,20}(priori|essent)|not.*?big.*?prob'),\n",
    "    'reason:notefficient': 'effort',\n",
    "    'reason:notinteresting':  '(?:not?\\W.{,10}|un)interest',\n",
    "    # not that 'not convincing' statements are quite diffuse - critique of assumptions, critique of procedures, ...\n",
    "    'reason:notconvincing': \n",
    "                (\"(?:n't|not?)\\W.{,10}?(?:conv|impr)|not?\\W.{,30}?(help|use)|(?:n'?t|not?)\\W.{,10}sense|\"\n",
    "                    +\"pointless|worse|harm|waste|fail|simplistic|obscure|impractical|not?\\W.*?good|\"\n",
    "                    + \"(?:(?:ca|do)n'?t|not?)\\W.{,10}work|\"\n",
    "                    +\"(?:not?\\W|don'?t|can'?t|can\\s?not).{,30}(?:value|benefit)\"),\n",
    "    'reason:notoriginal': 'already',\n",
    "    'reason:notrealistic': 'to.{,5}(?:theoretic|acad)|skill|scenario|real-w',\n",
    "    'reason:toocomplicated': \"(?:not\\W|n't).*?\\Wund|to.{,5}technical\", # ie not understood\n",
    "    'reason:toospecialized': 'to.{,10}specif|particular|special.*?domain|limit|should.*?wider|narrow', \n",
    "    'reason:toovague': \"fluffy|don't know.*?use|not.*?understood\",\n",
    "    'reason:toosubjective': 'subjecti',\n",
    "    'reason:respondentattitude': 'attitude',\n",
    "    'rejection:ratingnotnegative': 'not?\\W.*?lower', \n",
    "    'rejection:questionnotunderstood': 'not?\\W.*?underst.*?quest|sorry'\n",
    "}"
   ]
  },
  {
   "cell_type": "code",
   "execution_count": 17,
   "metadata": {},
   "outputs": [
    {
     "data": {
      "text/html": [
       "<div>\n",
       "<style scoped>\n",
       "    .dataframe tbody tr th:only-of-type {\n",
       "        vertical-align: middle;\n",
       "    }\n",
       "\n",
       "    .dataframe tbody tr th {\n",
       "        vertical-align: top;\n",
       "    }\n",
       "\n",
       "    .dataframe thead th {\n",
       "        text-align: right;\n",
       "    }\n",
       "</style>\n",
       "<table border=\"1\" class=\"dataframe\">\n",
       "  <thead>\n",
       "    <tr style=\"text-align: right;\">\n",
       "      <th></th>\n",
       "      <th>PaperID</th>\n",
       "      <th>lfdn</th>\n",
       "      <th>reasoning</th>\n",
       "      <th>Tag</th>\n",
       "      <th>level_1</th>\n",
       "      <th>level_2</th>\n",
       "    </tr>\n",
       "  </thead>\n",
       "  <tbody>\n",
       "    <tr>\n",
       "      <th>0</th>\n",
       "      <td>4</td>\n",
       "      <td>30</td>\n",
       "      <td>no one cares 'how' you developed, just that yo...</td>\n",
       "      <td>reason:notconvincing</td>\n",
       "      <td>reason</td>\n",
       "      <td>notconvincing</td>\n",
       "    </tr>\n",
       "    <tr>\n",
       "      <th>0</th>\n",
       "      <td>5</td>\n",
       "      <td>35</td>\n",
       "      <td>Document driven approaches are decreasing in r...</td>\n",
       "      <td>reason:notimportant</td>\n",
       "      <td>reason</td>\n",
       "      <td>notimportant</td>\n",
       "    </tr>\n",
       "  </tbody>\n",
       "</table>\n",
       "</div>"
      ],
      "text/plain": [
       "  PaperID lfdn                                          reasoning  \\\n",
       "0       4   30  no one cares 'how' you developed, just that yo...   \n",
       "0       5   35  Document driven approaches are decreasing in r...   \n",
       "\n",
       "                    Tag level_1        level_2  \n",
       "0  reason:notconvincing  reason  notconvincing  \n",
       "0   reason:notimportant  reason   notimportant  "
      ]
     },
     "execution_count": 17,
     "metadata": {},
     "output_type": "execute_result"
    }
   ],
   "source": [
    "negtags = assign_reasoning_tags(dfs['v_8780etseq'], negexes)\n",
    "negtags['level_1'], negtags['level_2'] = list(zip(*[tag.split(':') if len(tag.split(':')) > 1 \n",
    "                                                 else tag.split(':') + ['']\n",
    "                                          for tag in negtags.Tag \n",
    "                                          ]))\n",
    "negtags.head(2)"
   ]
  },
  {
   "cell_type": "code",
   "execution_count": 18,
   "metadata": {},
   "outputs": [
    {
     "name": "stdout",
     "output_type": "stream",
     "text": [
      "File stored at ../../analysis/freetext/v_8780etseq_coded_prelim.csv.\n"
     ]
    }
   ],
   "source": [
    "#write_coded(negtags[negtags.columns.values[:-2]], 'v_8780etseq', prelim=True, sep=';')"
   ]
  },
  {
   "cell_type": "code",
   "execution_count": 19,
   "metadata": {},
   "outputs": [
    {
     "data": {
      "text/plain": [
       "['If we could see how ambiguous documentation can affect a software project, perhaps software industry could be persuaded to do a better requirements documentation.',\n",
       " 'because it can benefit the reusability of solutions',\n",
       " 'Quantitative analysis of usability is confusing and misleding',\n",
       " 'not for all, some is, some not.',\n",
       " \"I selected the option 'Worthwhile', so I consider it important.\",\n",
       " 'Form specification would solve a lot of problem, however I do not know any industry project which could specifiy the system with formal language. Yes we need a more dynamic way of specifiying our systems',\n",
       " 'As a practioner, I prefer learning about the answers than learning about the problems we all know we have.',\n",
       " 'In my experience, most modeling language research never goes beyond the PhD lab. It may be valuable eventually, but this needs application before asserting its utility.',\n",
       " 'creativity ist nicht der entscheidende Punkt, eher geht es um Kenntnis der Probreme eines Anwendungsbereichs',\n",
       " 'i am not clear not this',\n",
       " 'Too many different personal opinions, different standards in different industries',\n",
       " 'To me it is unclear how the self-understanding of product managers is a beneficial input for the education of product managers. More relevant would be the problems that hinder product manager from doing their work effectively.',\n",
       " 'Better to have involving than from paper work',\n",
       " 'It is not clear to me how simple  data  (whatever that means) can help to create requirements or just recommendations.',\n",
       " 'Sounds more like a specialised piece of analytics research for which is a field in its own right. We have specialists that do this work.',\n",
       " 'The product that we deliver is not a web page.',\n",
       " 'Usually, one mind is the head of the project. This person gives the direction, thus s/he is the only person which needs to align the different between the requirements and the customer needs.',\n",
       " 'I consider that domain professionals are better placed to recommend and oversight the rehabilitation process (human interactions still important I guess ;)',\n",
       " 'keyword AI: how can requirements for AIs be defined?',\n",
       " 'the level at which architects work and the magnitude of software system projects does not always justify the means',\n",
       " 'Each project is very different and is impacted by a multitude of variables that are not consistent across all industry domains and corporation operations. This would make it very diificult to design an algorithm that can reliably predict integration bugs',\n",
       " 'The industry has never go too far from natural language specifications. ',\n",
       " 'automatic extracted requirement needs to reviewed again by person.',\n",
       " 'The prerequisites from applying the investigated method are rarely met. It is like an investigation  Given the assumption that humans can fly, what would be the effect on CO_2 polution ',\n",
       " 'Because the regulations are changed',\n",
       " \"It's a work that human beings can do without a high technology level involved.\",\n",
       " 'Advances in technology and changes in society are rapid, systems need to be able to keep up with it.',\n",
       " 'The decision of which feature next is not based on uncertainty but on an economic or technical risk view as e.g. in WSJF.',\n",
       " \"It's always important to have a clear prioritization mechanism so we don't get additional conflicts and frustrations\",\n",
       " 'Do not understand the he problem with safety requirement.',\n",
       " \"Availability is only one of many NFRs, and I don't see why this one should receive special attention.\",\n",
       " 'For us it is important to continiously check if the requirements are still up to date. ',\n",
       " 'Agile approach, I do not see this as applicable (at the moment) in the automotive industry ',\n",
       " 'first things first. Big-bang integration are history in an agile world. Design and architecture have major impact on complexity.',\n",
       " 'Blablabla ',\n",
       " \"it's important if one is searching for a good tool to do RE. I did this once and it was difficult.\"]"
      ]
     },
     "execution_count": 19,
     "metadata": {},
     "output_type": "execute_result"
    }
   ],
   "source": [
    "list(get_unmatched(negtags).reasoning.values)"
   ]
  },
  {
   "cell_type": "code",
   "execution_count": 20,
   "metadata": {},
   "outputs": [
    {
     "data": {
      "text/html": [
       "<div>\n",
       "<style scoped>\n",
       "    .dataframe tbody tr th:only-of-type {\n",
       "        vertical-align: middle;\n",
       "    }\n",
       "\n",
       "    .dataframe tbody tr th {\n",
       "        vertical-align: top;\n",
       "    }\n",
       "\n",
       "    .dataframe thead th {\n",
       "        text-align: right;\n",
       "    }\n",
       "</style>\n",
       "<table border=\"1\" class=\"dataframe\">\n",
       "  <thead>\n",
       "    <tr style=\"text-align: right;\">\n",
       "      <th></th>\n",
       "      <th></th>\n",
       "      <th>Tag</th>\n",
       "    </tr>\n",
       "    <tr>\n",
       "      <th>level_1</th>\n",
       "      <th>level_2</th>\n",
       "      <th></th>\n",
       "    </tr>\n",
       "  </thead>\n",
       "  <tbody>\n",
       "    <tr>\n",
       "      <th></th>\n",
       "      <th></th>\n",
       "      <td>36</td>\n",
       "    </tr>\n",
       "    <tr>\n",
       "      <th>NotAnswered</th>\n",
       "      <th></th>\n",
       "      <td>1</td>\n",
       "    </tr>\n",
       "    <tr>\n",
       "      <th rowspan=\"11\" valign=\"top\">reason</th>\n",
       "      <th>notconvincing</th>\n",
       "      <td>26</td>\n",
       "    </tr>\n",
       "    <tr>\n",
       "      <th>notefficient</th>\n",
       "      <td>5</td>\n",
       "    </tr>\n",
       "    <tr>\n",
       "      <th>notimportant</th>\n",
       "      <td>18</td>\n",
       "    </tr>\n",
       "    <tr>\n",
       "      <th>notinteresting</th>\n",
       "      <td>5</td>\n",
       "    </tr>\n",
       "    <tr>\n",
       "      <th>notoriginal</th>\n",
       "      <td>3</td>\n",
       "    </tr>\n",
       "    <tr>\n",
       "      <th>notrealistic</th>\n",
       "      <td>7</td>\n",
       "    </tr>\n",
       "    <tr>\n",
       "      <th>respondentattitude</th>\n",
       "      <td>1</td>\n",
       "    </tr>\n",
       "    <tr>\n",
       "      <th>toocomplicated</th>\n",
       "      <td>6</td>\n",
       "    </tr>\n",
       "    <tr>\n",
       "      <th>toospecialized</th>\n",
       "      <td>7</td>\n",
       "    </tr>\n",
       "    <tr>\n",
       "      <th>toosubjective</th>\n",
       "      <td>1</td>\n",
       "    </tr>\n",
       "    <tr>\n",
       "      <th>toovague</th>\n",
       "      <td>3</td>\n",
       "    </tr>\n",
       "    <tr>\n",
       "      <th rowspan=\"2\" valign=\"top\">rejection</th>\n",
       "      <th>questionnotunderstood</th>\n",
       "      <td>3</td>\n",
       "    </tr>\n",
       "    <tr>\n",
       "      <th>ratingnotnegative</th>\n",
       "      <td>1</td>\n",
       "    </tr>\n",
       "  </tbody>\n",
       "</table>\n",
       "</div>"
      ],
      "text/plain": [
       "                                   Tag\n",
       "level_1     level_2                   \n",
       "                                    36\n",
       "NotAnswered                          1\n",
       "reason      notconvincing           26\n",
       "            notefficient             5\n",
       "            notimportant            18\n",
       "            notinteresting           5\n",
       "            notoriginal              3\n",
       "            notrealistic             7\n",
       "            respondentattitude       1\n",
       "            toocomplicated           6\n",
       "            toospecialized           7\n",
       "            toosubjective            1\n",
       "            toovague                 3\n",
       "rejection   questionnotunderstood    3\n",
       "            ratingnotnegative        1"
      ]
     },
     "execution_count": 20,
     "metadata": {},
     "output_type": "execute_result"
    }
   ],
   "source": [
    "negtags.groupby(['level_1', 'level_2']).count()[['Tag']]"
   ]
  },
  {
   "cell_type": "markdown",
   "metadata": {},
   "source": [
    "###  Appendix: Vocab Exploration for Positive and Negative Reasoning"
   ]
  },
  {
   "cell_type": "code",
   "execution_count": 23,
   "metadata": {},
   "outputs": [],
   "source": [
    "from gensim.parsing.preprocessing import preprocess_documents\n",
    "from gensim import corpora, models"
   ]
  },
  {
   "cell_type": "code",
   "execution_count": 33,
   "metadata": {},
   "outputs": [],
   "source": [
    "from collections import Counter"
   ]
  },
  {
   "cell_type": "code",
   "execution_count": 25,
   "metadata": {},
   "outputs": [
    {
     "name": "stdout",
     "output_type": "stream",
     "text": [
      "Dictionary(544 unique tokens: ['align', 'case', 'chang', 'cumbersum', 'especi']...)\n"
     ]
    }
   ],
   "source": [
    "documents = list(dfs['v_8345etseq']['reasoning'])\n",
    "texts = preprocess_documents(documents)\n",
    "dictionary = corpora.Dictionary(texts)\n",
    "print(dictionary)"
   ]
  },
  {
   "cell_type": "code",
   "execution_count": null,
   "metadata": {},
   "outputs": [],
   "source": [
    "# a list of word stems, sorted by frequency in the answers DESC\n",
    "sorted([(k,v) for k,v in Counter([elem[x] for elem in texts for x in range(len(elem))]).items()], \n",
    "       key=lambda x:(x[1],x[0]), reverse=True)"
   ]
  },
  {
   "cell_type": "code",
   "execution_count": 55,
   "metadata": {},
   "outputs": [
    {
     "name": "stdout",
     "output_type": "stream",
     "text": [
      "Dictionary(462 unique tokens: ['care', 'develop', 'person', 'specif', 'us']...)\n"
     ]
    }
   ],
   "source": [
    "documents2 = list(dfs['v_8780etseq']['reasoning'])\n",
    "texts2 = preprocess_documents(documents2)\n",
    "dictionary2 = corpora.Dictionary(texts2)\n",
    "print(dictionary2)"
   ]
  },
  {
   "cell_type": "code",
   "execution_count": null,
   "metadata": {},
   "outputs": [],
   "source": [
    "sorted([(k,v) for k,v in Counter([elem[x] for elem in texts2 for x in range(len(elem))]).items()], \n",
    "       key=lambda x:(x[1],x[0]), reverse=True)"
   ]
  },
  {
   "cell_type": "markdown",
   "metadata": {},
   "source": [
    "The End."
   ]
  }
 ],
 "metadata": {
  "kernelspec": {
   "display_name": "Python [conda env:tum]",
   "language": "python",
   "name": "conda-env-tum-py"
  },
  "language_info": {
   "codemirror_mode": {
    "name": "ipython",
    "version": 3
   },
   "file_extension": ".py",
   "mimetype": "text/x-python",
   "name": "python",
   "nbconvert_exporter": "python",
   "pygments_lexer": "ipython3",
   "version": "3.6.4"
  }
 },
 "nbformat": 4,
 "nbformat_minor": 2
}
