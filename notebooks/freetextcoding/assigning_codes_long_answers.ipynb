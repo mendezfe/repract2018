{
 "cells": [
  {
   "cell_type": "markdown",
   "metadata": {},
   "source": [
    "#### Variables coded in this notebook: 18, 1373, 8345 et seq, 8780 et seq"
   ]
  },
  {
   "cell_type": "code",
   "execution_count": 4,
   "metadata": {},
   "outputs": [],
   "source": [
    "import os, pandas as pd, re"
   ]
  },
  {
   "cell_type": "code",
   "execution_count": 5,
   "metadata": {},
   "outputs": [],
   "source": [
    "exportdate = 20180327\n",
    "projectname = 'repract'"
   ]
  },
  {
   "cell_type": "code",
   "execution_count": 6,
   "metadata": {},
   "outputs": [
    {
     "data": {
      "text/html": [
       "<div>\n",
       "<style scoped>\n",
       "    .dataframe tbody tr th:only-of-type {\n",
       "        vertical-align: middle;\n",
       "    }\n",
       "\n",
       "    .dataframe tbody tr th {\n",
       "        vertical-align: top;\n",
       "    }\n",
       "\n",
       "    .dataframe thead th {\n",
       "        text-align: right;\n",
       "    }\n",
       "</style>\n",
       "<table border=\"1\" class=\"dataframe\">\n",
       "  <thead>\n",
       "    <tr style=\"text-align: right;\">\n",
       "      <th></th>\n",
       "      <th>lfdn</th>\n",
       "      <th>external_lfdn</th>\n",
       "      <th>tester</th>\n",
       "      <th>dispcode</th>\n",
       "      <th>lastpage</th>\n",
       "      <th>quality</th>\n",
       "      <th>duration</th>\n",
       "      <th>v_7039</th>\n",
       "      <th>v_7040</th>\n",
       "      <th>v_7041</th>\n",
       "      <th>...</th>\n",
       "      <th>output_mode</th>\n",
       "      <th>javascript</th>\n",
       "      <th>flash</th>\n",
       "      <th>session_id</th>\n",
       "      <th>language</th>\n",
       "      <th>cleaned</th>\n",
       "      <th>ats</th>\n",
       "      <th>datetime</th>\n",
       "      <th>date_of_last_access</th>\n",
       "      <th>date_of_first_mail</th>\n",
       "    </tr>\n",
       "  </thead>\n",
       "  <tbody>\n",
       "    <tr>\n",
       "      <th>0</th>\n",
       "      <td>106</td>\n",
       "      <td>0</td>\n",
       "      <td>no tester</td>\n",
       "      <td>Completed after break (32)</td>\n",
       "      <td>2138658</td>\n",
       "      <td>NotShown</td>\n",
       "      <td>-1</td>\n",
       "      <td>NotShown</td>\n",
       "      <td>NotShown</td>\n",
       "      <td>0</td>\n",
       "      <td>...</td>\n",
       "      <td>HTML</td>\n",
       "      <td>NotShown</td>\n",
       "      <td>NotShown</td>\n",
       "      <td>3bb21c1b318e2f6b87557566bdd6b4d9</td>\n",
       "      <td>English</td>\n",
       "      <td>Not cleaned</td>\n",
       "      <td>1515411510</td>\n",
       "      <td>2018-01-08 11:38:30</td>\n",
       "      <td>2018-01-08 13:07:14</td>\n",
       "      <td>0000-00-00 00:00:00</td>\n",
       "    </tr>\n",
       "    <tr>\n",
       "      <th>1</th>\n",
       "      <td>131</td>\n",
       "      <td>0</td>\n",
       "      <td>no tester</td>\n",
       "      <td>Completed (31)</td>\n",
       "      <td>2138658</td>\n",
       "      <td>NotShown</td>\n",
       "      <td>3805</td>\n",
       "      <td>NotShown</td>\n",
       "      <td>NotShown</td>\n",
       "      <td>NotShown</td>\n",
       "      <td>...</td>\n",
       "      <td>HTML</td>\n",
       "      <td>NotShown</td>\n",
       "      <td>NotShown</td>\n",
       "      <td>fc38f6556787a459c2cc604abf799448</td>\n",
       "      <td>English</td>\n",
       "      <td>Not cleaned</td>\n",
       "      <td>1515667019</td>\n",
       "      <td>2018-01-11 10:36:59</td>\n",
       "      <td>2018-01-11 11:40:24</td>\n",
       "      <td>0000-00-00 00:00:00</td>\n",
       "    </tr>\n",
       "  </tbody>\n",
       "</table>\n",
       "<p>2 rows × 1360 columns</p>\n",
       "</div>"
      ],
      "text/plain": [
       "   lfdn  external_lfdn     tester                    dispcode  lastpage  \\\n",
       "0   106              0  no tester  Completed after break (32)   2138658   \n",
       "1   131              0  no tester              Completed (31)   2138658   \n",
       "\n",
       "    quality  duration    v_7039    v_7040    v_7041         ...           \\\n",
       "0  NotShown        -1  NotShown  NotShown         0         ...            \n",
       "1  NotShown      3805  NotShown  NotShown  NotShown         ...            \n",
       "\n",
       "  output_mode javascript     flash                        session_id language  \\\n",
       "0        HTML   NotShown  NotShown  3bb21c1b318e2f6b87557566bdd6b4d9  English   \n",
       "1        HTML   NotShown  NotShown  fc38f6556787a459c2cc604abf799448  English   \n",
       "\n",
       "       cleaned         ats             datetime  date_of_last_access  \\\n",
       "0  Not cleaned  1515411510  2018-01-08 11:38:30  2018-01-08 13:07:14   \n",
       "1  Not cleaned  1515667019  2018-01-11 10:36:59  2018-01-11 11:40:24   \n",
       "\n",
       "    date_of_first_mail  \n",
       "0  0000-00-00 00:00:00  \n",
       "1  0000-00-00 00:00:00  \n",
       "\n",
       "[2 rows x 1360 columns]"
      ]
     },
     "execution_count": 6,
     "metadata": {},
     "output_type": "execute_result"
    }
   ],
   "source": [
    "df = pd.read_csv(f'../../data/{exportdate}{projectname}.csv')\n",
    "df.head(2)"
   ]
  },
  {
   "cell_type": "code",
   "execution_count": 7,
   "metadata": {},
   "outputs": [],
   "source": [
    "basedir = '../../data/freetext'\n",
    "freetextfiles = os.listdir(basedir)\n",
    "dfs = {file[:-4]:pd.read_csv(f'{basedir}/{file}') for file in freetextfiles}"
   ]
  },
  {
   "cell_type": "code",
   "execution_count": 8,
   "metadata": {},
   "outputs": [
    {
     "data": {
      "text/plain": [
       "dict_keys(['.DS_S', 'v_11', 'v_1373', 'v_16', 'v_18', 'v_19', 'v_6', 'v_8345etseq', 'v_8780etseq'])"
      ]
     },
     "execution_count": 8,
     "metadata": {},
     "output_type": "execute_result"
    }
   ],
   "source": [
    "dfs.keys()"
   ]
  },
  {
   "cell_type": "markdown",
   "metadata": {},
   "source": [
    "Leaving this here temporarily merely for reference!"
   ]
  },
  {
   "cell_type": "code",
   "execution_count": 120,
   "metadata": {},
   "outputs": [],
   "source": [
    "def add_unique_code(df, func, varname):\n",
    "    df[f'{varname}_coded'] = func(df[varname])\n",
    "    return df"
   ]
  },
  {
   "cell_type": "code",
   "execution_count": 79,
   "metadata": {},
   "outputs": [],
   "source": [
    "codedir = '../../analysis/freetext'\n",
    "def write_coded(df, varname):\n",
    "    filepath = f'{codedir}/{varname}_coded.csv'\n",
    "    df.to_csv(f'{codedir}/{varname}_coded.csv', index=False)\n",
    "    print(f'File stored at {filepath}.')"
   ]
  },
  {
   "cell_type": "markdown",
   "metadata": {},
   "source": [
    "For long entries, we actually want to enable multiple tagging, therefore, we want to produce a long-form DF"
   ]
  },
  {
   "cell_type": "code",
   "execution_count": 24,
   "metadata": {},
   "outputs": [],
   "source": [
    "def code_var_long(df, index_col, coding_col, codes, match_func):\n",
    "    new_df = pd.DataFrame(columns=[index_col, f'{coding_col}_code'])\n",
    "    for row in df[[index_col, coding_col]].iterrows():\n",
    "        for code in codes:\n",
    "            if match_func(row[1][1], code):\n",
    "                new_df = new_df.append(pd.DataFrame({index_col:[row[1][0]],f'{coding_col}_code':[code]}))\n",
    "    return new_df.reset_index().drop('index', axis=1)"
   ]
  },
  {
   "cell_type": "code",
   "execution_count": 34,
   "metadata": {},
   "outputs": [],
   "source": [
    "# Test bogus\n",
    "def match_v18(statement, code):\n",
    "    if len(str(statement)) < len(code):\n",
    "        return True\n",
    "    else:\n",
    "        return False\n",
    "    \n",
    "def v_18_codes():\n",
    "    return ['Code_A', 'Code_B']"
   ]
  },
  {
   "cell_type": "code",
   "execution_count": 35,
   "metadata": {},
   "outputs": [
    {
     "data": {
      "text/html": [
       "<div>\n",
       "<style scoped>\n",
       "    .dataframe tbody tr th:only-of-type {\n",
       "        vertical-align: middle;\n",
       "    }\n",
       "\n",
       "    .dataframe tbody tr th {\n",
       "        vertical-align: top;\n",
       "    }\n",
       "\n",
       "    .dataframe thead th {\n",
       "        text-align: right;\n",
       "    }\n",
       "</style>\n",
       "<table border=\"1\" class=\"dataframe\">\n",
       "  <thead>\n",
       "    <tr style=\"text-align: right;\">\n",
       "      <th></th>\n",
       "      <th>lfdn</th>\n",
       "      <th>v_18_code</th>\n",
       "    </tr>\n",
       "  </thead>\n",
       "  <tbody>\n",
       "    <tr>\n",
       "      <th>0</th>\n",
       "      <td>224</td>\n",
       "      <td>Code_A</td>\n",
       "    </tr>\n",
       "    <tr>\n",
       "      <th>1</th>\n",
       "      <td>224</td>\n",
       "      <td>Code_B</td>\n",
       "    </tr>\n",
       "    <tr>\n",
       "      <th>2</th>\n",
       "      <td>409</td>\n",
       "      <td>Code_A</td>\n",
       "    </tr>\n",
       "    <tr>\n",
       "      <th>3</th>\n",
       "      <td>409</td>\n",
       "      <td>Code_B</td>\n",
       "    </tr>\n",
       "    <tr>\n",
       "      <th>4</th>\n",
       "      <td>411</td>\n",
       "      <td>Code_A</td>\n",
       "    </tr>\n",
       "    <tr>\n",
       "      <th>5</th>\n",
       "      <td>411</td>\n",
       "      <td>Code_B</td>\n",
       "    </tr>\n",
       "    <tr>\n",
       "      <th>6</th>\n",
       "      <td>1027</td>\n",
       "      <td>Code_A</td>\n",
       "    </tr>\n",
       "    <tr>\n",
       "      <th>7</th>\n",
       "      <td>1027</td>\n",
       "      <td>Code_B</td>\n",
       "    </tr>\n",
       "  </tbody>\n",
       "</table>\n",
       "</div>"
      ],
      "text/plain": [
       "   lfdn v_18_code\n",
       "0   224    Code_A\n",
       "1   224    Code_B\n",
       "2   409    Code_A\n",
       "3   409    Code_B\n",
       "4   411    Code_A\n",
       "5   411    Code_B\n",
       "6  1027    Code_A\n",
       "7  1027    Code_B"
      ]
     },
     "execution_count": 35,
     "metadata": {},
     "output_type": "execute_result"
    }
   ],
   "source": [
    "code_var_long(dfs['v_18'], 'lfdn', 'v_18', v_18_codes(), match_v18)"
   ]
  },
  {
   "cell_type": "code",
   "execution_count": null,
   "metadata": {},
   "outputs": [],
   "source": []
  }
 ],
 "metadata": {
  "kernelspec": {
   "display_name": "Python [conda env:tum]",
   "language": "python",
   "name": "conda-env-tum-py"
  },
  "language_info": {
   "codemirror_mode": {
    "name": "ipython",
    "version": 3
   },
   "file_extension": ".py",
   "mimetype": "text/x-python",
   "name": "python",
   "nbconvert_exporter": "python",
   "pygments_lexer": "ipython3",
   "version": "3.6.4"
  }
 },
 "nbformat": 4,
 "nbformat_minor": 2
}
