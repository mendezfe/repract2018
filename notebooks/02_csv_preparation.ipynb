{
 "cells": [
  {
   "cell_type": "markdown",
   "metadata": {},
   "source": [
    "### This is a service notebook to create csvs to use as dfs in other notebooks."
   ]
  },
  {
   "cell_type": "markdown",
   "metadata": {},
   "source": [
    "### NB:\n",
    "\n",
    "At the very end of this notebook, we generate a votelist with coded respondent metadata.\n",
    "This votelist needs to be re-generated if the coding changes."
   ]
  },
  {
   "cell_type": "code",
   "execution_count": 1,
   "metadata": {},
   "outputs": [],
   "source": [
    "import pandas as pd"
   ]
  },
  {
   "cell_type": "code",
   "execution_count": 2,
   "metadata": {},
   "outputs": [],
   "source": [
    "exportdate = 20180327\n",
    "projectname = 'repract'"
   ]
  },
  {
   "cell_type": "code",
   "execution_count": 3,
   "metadata": {},
   "outputs": [],
   "source": [
    "number_of_papers = 435"
   ]
  },
  {
   "cell_type": "markdown",
   "metadata": {},
   "source": [
    "#### DataFrame with Evaluation Counts and Paper Metadata"
   ]
  },
  {
   "cell_type": "code",
   "execution_count": 4,
   "metadata": {},
   "outputs": [],
   "source": [
    "evaluation_counts = pd.read_csv(f'../analysis/{exportdate}{projectname}_evaluation_counts.csv')"
   ]
  },
  {
   "cell_type": "code",
   "execution_count": 5,
   "metadata": {},
   "outputs": [],
   "source": [
    "xls = pd.read_csv('../data/all_conferences_from_googledrive.csv', sep=';',\n",
    "                 usecols=['Unipark ID', 'Title', 'Authors', 'Venue', 'Year', 'Nb. pages',\n",
    "       'Academic vs. industry', 'Industry track', 'Summary'],\n",
    "                 nrows=435)\n",
    "xls = xls[['Unipark ID', 'Venue', 'Year', 'Nb. pages', 'Industry track', 'Academic vs. industry',\n",
    "       'Title', 'Authors', 'Summary']]"
   ]
  },
  {
   "cell_type": "code",
   "execution_count": 6,
   "metadata": {},
   "outputs": [],
   "source": [
    "papermeta = evaluation_counts.merge(xls, left_on='PaperID', right_on='Unipark ID').drop([\n",
    "    'Unipark ID'], axis=1)\n",
    "# To avoid malformed csvs (due to ONE carriage return...)\n",
    "papermeta['Title'] = [x.replace('\\r', '') for x in list(papermeta['Title'].values)]\n",
    "# Renaming for more comfortable coding\n",
    "papermeta = papermeta.rename({'Nb. pages': 'TotalPages', \n",
    "               'Industry track': 'IndTrack', \n",
    "               'Academic vs. industry': 'AcadVsInd'}, axis=1)"
   ]
  },
  {
   "cell_type": "code",
   "execution_count": 7,
   "metadata": {},
   "outputs": [],
   "source": [
    "#papermeta.to_csv(\n",
    "#    f'../analysis/{exportdate}{projectname}_evaluation_counts_with_papermeta.csv', index=False)"
   ]
  },
  {
   "cell_type": "markdown",
   "metadata": {},
   "source": [
    "#### Long-Form df with List of Votes"
   ]
  },
  {
   "cell_type": "code",
   "execution_count": 8,
   "metadata": {},
   "outputs": [],
   "source": [
    "df = pd.read_csv(f'../data/{exportdate}{projectname}.csv')"
   ]
  },
  {
   "cell_type": "code",
   "execution_count": 9,
   "metadata": {},
   "outputs": [],
   "source": [
    "votelist = pd.DataFrame(columns=['EvID', 'PaperID', 'Vote'])\n",
    "ratings = ['Essential', 'Worthwhile', 'Unimportant', 'Unwise']\n",
    "for row in df[['v_'+str(x) for x in range(7039,7039+number_of_papers)]].iterrows():\n",
    "    for idx, elem in enumerate(row[1]):\n",
    "        if elem in ratings:\n",
    "            minidf = pd.DataFrame({'EvID':[row[0]], 'PaperID':[idx+1], 'Vote':[elem]})\n",
    "            votelist = votelist.append(minidf)\n",
    "votelist = votelist.reset_index().drop('index', axis=1)"
   ]
  },
  {
   "cell_type": "code",
   "execution_count": 10,
   "metadata": {},
   "outputs": [],
   "source": [
    "#votelist.to_csv(f'../analysis/{exportdate}repract_votelist.csv', index=False)"
   ]
  },
  {
   "cell_type": "markdown",
   "metadata": {},
   "source": [
    "#### DataFrame with One Row per Evaluation and Participant Metadata"
   ]
  },
  {
   "cell_type": "markdown",
   "metadata": {},
   "source": [
    "* v_5: primary working area\n",
    "* v_6: free text in case of other in v5\n",
    "* v_11: free text years of primary working area experience\n",
    "* v_118-v_121: intensity of involvement in RE (v118 most intense)\n",
    "* v_12: CS degree\n",
    "* v_14: team size\n",
    "* v_15: class of systems in project scope\n",
    "* v_16: free text in case of other in v15\n",
    "* v_19: free text industry sector\n",
    "* v_124: country"
   ]
  },
  {
   "cell_type": "code",
   "execution_count": 11,
   "metadata": {},
   "outputs": [],
   "source": [
    "demographics = ['v_5', 'v_6', 'v_11', 'v_12', 'v_14', 'v_15', 'v_16', 'v_19', 'v_124']\n",
    "reqinvolvement = ['v_118', 'v_119', 'v_120', 'v_121']"
   ]
  },
  {
   "cell_type": "code",
   "execution_count": 12,
   "metadata": {},
   "outputs": [
    {
     "data": {
      "text/html": [
       "<div>\n",
       "<style scoped>\n",
       "    .dataframe tbody tr th:only-of-type {\n",
       "        vertical-align: middle;\n",
       "    }\n",
       "\n",
       "    .dataframe tbody tr th {\n",
       "        vertical-align: top;\n",
       "    }\n",
       "\n",
       "    .dataframe thead th {\n",
       "        text-align: right;\n",
       "    }\n",
       "</style>\n",
       "<table border=\"1\" class=\"dataframe\">\n",
       "  <thead>\n",
       "    <tr style=\"text-align: right;\">\n",
       "      <th></th>\n",
       "      <th>EvID</th>\n",
       "      <th>PaperID</th>\n",
       "      <th>Vote</th>\n",
       "      <th>v_5</th>\n",
       "      <th>v_6</th>\n",
       "      <th>v_11</th>\n",
       "      <th>v_12</th>\n",
       "      <th>v_14</th>\n",
       "      <th>v_15</th>\n",
       "      <th>v_16</th>\n",
       "      <th>v_19</th>\n",
       "      <th>v_124</th>\n",
       "      <th>v_118</th>\n",
       "      <th>v_119</th>\n",
       "      <th>v_120</th>\n",
       "      <th>v_121</th>\n",
       "    </tr>\n",
       "  </thead>\n",
       "  <tbody>\n",
       "    <tr>\n",
       "      <th>0</th>\n",
       "      <td>2</td>\n",
       "      <td>10</td>\n",
       "      <td>Worthwhile</td>\n",
       "      <td>Other (please specify)</td>\n",
       "      <td>Product Management Coach</td>\n",
       "      <td>10</td>\n",
       "      <td>No</td>\n",
       "      <td>Medium (5-10)</td>\n",
       "      <td>Other (please specify)</td>\n",
       "      <td>Customer facing software products</td>\n",
       "      <td>Wide range (from automotive supplier to insura...</td>\n",
       "      <td>Germany</td>\n",
       "      <td>quoted</td>\n",
       "      <td>quoted</td>\n",
       "      <td>quoted</td>\n",
       "      <td>not quoted</td>\n",
       "    </tr>\n",
       "    <tr>\n",
       "      <th>1</th>\n",
       "      <td>2</td>\n",
       "      <td>23</td>\n",
       "      <td>Unwise</td>\n",
       "      <td>Other (please specify)</td>\n",
       "      <td>Product Management Coach</td>\n",
       "      <td>10</td>\n",
       "      <td>No</td>\n",
       "      <td>Medium (5-10)</td>\n",
       "      <td>Other (please specify)</td>\n",
       "      <td>Customer facing software products</td>\n",
       "      <td>Wide range (from automotive supplier to insura...</td>\n",
       "      <td>Germany</td>\n",
       "      <td>quoted</td>\n",
       "      <td>quoted</td>\n",
       "      <td>quoted</td>\n",
       "      <td>not quoted</td>\n",
       "    </tr>\n",
       "    <tr>\n",
       "      <th>2</th>\n",
       "      <td>2</td>\n",
       "      <td>49</td>\n",
       "      <td>Essential</td>\n",
       "      <td>Other (please specify)</td>\n",
       "      <td>Product Management Coach</td>\n",
       "      <td>10</td>\n",
       "      <td>No</td>\n",
       "      <td>Medium (5-10)</td>\n",
       "      <td>Other (please specify)</td>\n",
       "      <td>Customer facing software products</td>\n",
       "      <td>Wide range (from automotive supplier to insura...</td>\n",
       "      <td>Germany</td>\n",
       "      <td>quoted</td>\n",
       "      <td>quoted</td>\n",
       "      <td>quoted</td>\n",
       "      <td>not quoted</td>\n",
       "    </tr>\n",
       "    <tr>\n",
       "      <th>3</th>\n",
       "      <td>2</td>\n",
       "      <td>64</td>\n",
       "      <td>Unimportant</td>\n",
       "      <td>Other (please specify)</td>\n",
       "      <td>Product Management Coach</td>\n",
       "      <td>10</td>\n",
       "      <td>No</td>\n",
       "      <td>Medium (5-10)</td>\n",
       "      <td>Other (please specify)</td>\n",
       "      <td>Customer facing software products</td>\n",
       "      <td>Wide range (from automotive supplier to insura...</td>\n",
       "      <td>Germany</td>\n",
       "      <td>quoted</td>\n",
       "      <td>quoted</td>\n",
       "      <td>quoted</td>\n",
       "      <td>not quoted</td>\n",
       "    </tr>\n",
       "    <tr>\n",
       "      <th>4</th>\n",
       "      <td>2</td>\n",
       "      <td>68</td>\n",
       "      <td>Unwise</td>\n",
       "      <td>Other (please specify)</td>\n",
       "      <td>Product Management Coach</td>\n",
       "      <td>10</td>\n",
       "      <td>No</td>\n",
       "      <td>Medium (5-10)</td>\n",
       "      <td>Other (please specify)</td>\n",
       "      <td>Customer facing software products</td>\n",
       "      <td>Wide range (from automotive supplier to insura...</td>\n",
       "      <td>Germany</td>\n",
       "      <td>quoted</td>\n",
       "      <td>quoted</td>\n",
       "      <td>quoted</td>\n",
       "      <td>not quoted</td>\n",
       "    </tr>\n",
       "  </tbody>\n",
       "</table>\n",
       "</div>"
      ],
      "text/plain": [
       "  EvID PaperID         Vote                     v_5                       v_6  \\\n",
       "0    2      10   Worthwhile  Other (please specify)  Product Management Coach   \n",
       "1    2      23       Unwise  Other (please specify)  Product Management Coach   \n",
       "2    2      49    Essential  Other (please specify)  Product Management Coach   \n",
       "3    2      64  Unimportant  Other (please specify)  Product Management Coach   \n",
       "4    2      68       Unwise  Other (please specify)  Product Management Coach   \n",
       "\n",
       "  v_11 v_12           v_14                    v_15  \\\n",
       "0   10   No  Medium (5-10)  Other (please specify)   \n",
       "1   10   No  Medium (5-10)  Other (please specify)   \n",
       "2   10   No  Medium (5-10)  Other (please specify)   \n",
       "3   10   No  Medium (5-10)  Other (please specify)   \n",
       "4   10   No  Medium (5-10)  Other (please specify)   \n",
       "\n",
       "                                v_16  \\\n",
       "0  Customer facing software products   \n",
       "1  Customer facing software products   \n",
       "2  Customer facing software products   \n",
       "3  Customer facing software products   \n",
       "4  Customer facing software products   \n",
       "\n",
       "                                                v_19    v_124   v_118   v_119  \\\n",
       "0  Wide range (from automotive supplier to insura...  Germany  quoted  quoted   \n",
       "1  Wide range (from automotive supplier to insura...  Germany  quoted  quoted   \n",
       "2  Wide range (from automotive supplier to insura...  Germany  quoted  quoted   \n",
       "3  Wide range (from automotive supplier to insura...  Germany  quoted  quoted   \n",
       "4  Wide range (from automotive supplier to insura...  Germany  quoted  quoted   \n",
       "\n",
       "    v_120       v_121  \n",
       "0  quoted  not quoted  \n",
       "1  quoted  not quoted  \n",
       "2  quoted  not quoted  \n",
       "3  quoted  not quoted  \n",
       "4  quoted  not quoted  "
      ]
     },
     "execution_count": 12,
     "metadata": {},
     "output_type": "execute_result"
    }
   ],
   "source": [
    "votelist_with_respondentmeta = votelist.merge(\n",
    "    df[demographics+reqinvolvement].reset_index().rename({'index':'EvID'}, axis=1))\n",
    "votelist_with_respondentmeta.head(5)"
   ]
  },
  {
   "cell_type": "code",
   "execution_count": 13,
   "metadata": {},
   "outputs": [],
   "source": [
    "#votelist_with_respondentmeta.to_csv(\n",
    "#    f'../analysis/{exportdate}{projectname}_votelist_with_respondentmeta.csv', \n",
    "#                                    index=False)"
   ]
  },
  {
   "cell_type": "markdown",
   "metadata": {},
   "source": [
    "### Here a version with coded short free-text answers:"
   ]
  },
  {
   "cell_type": "code",
   "execution_count": 12,
   "metadata": {},
   "outputs": [],
   "source": [
    "votelist = pd.read_csv(f'../analysis/{exportdate}repract_votelist.csv')"
   ]
  },
  {
   "cell_type": "code",
   "execution_count": 7,
   "metadata": {},
   "outputs": [
    {
     "data": {
      "text/plain": [
       "(154, 1327)"
      ]
     },
     "execution_count": 7,
     "metadata": {},
     "output_type": "execute_result"
    }
   ],
   "source": [
    "df_coded = pd.read_csv(f'../analysis/{exportdate}{projectname}_with_shorttext_integration.csv')\n",
    "df_coded.shape"
   ]
  },
  {
   "cell_type": "code",
   "execution_count": 10,
   "metadata": {},
   "outputs": [
    {
     "data": {
      "text/plain": [
       "array(['v_11_coded', 'v_19_coded', 'v_6_coded', 'v_5_6_merged',\n",
       "       'v_16_coded', 'v_15_16_merged'], dtype=object)"
      ]
     },
     "execution_count": 10,
     "metadata": {},
     "output_type": "execute_result"
    }
   ],
   "source": [
    "# these columns are not present in the original data\n",
    "df_coded.columns.values.flatten()[-6:]"
   ]
  },
  {
   "cell_type": "code",
   "execution_count": 11,
   "metadata": {},
   "outputs": [],
   "source": [
    "demographics_coded = ['v_5', 'v_6', 'v_6_coded', 'v_5_6_merged', \n",
    "                      'v_11', 'v_11_coded', \n",
    "                      'v_12', 'v_14', \n",
    "                      'v_15', 'v_16', 'v_16_coded', 'v_15_16_merged',\n",
    "                      'v_19', 'v_19_coded', 'v_124']\n",
    "reqinvolvement = ['v_118', 'v_119', 'v_120', 'v_121']"
   ]
  },
  {
   "cell_type": "code",
   "execution_count": 14,
   "metadata": {},
   "outputs": [
    {
     "data": {
      "text/html": [
       "<div>\n",
       "<style scoped>\n",
       "    .dataframe tbody tr th:only-of-type {\n",
       "        vertical-align: middle;\n",
       "    }\n",
       "\n",
       "    .dataframe tbody tr th {\n",
       "        vertical-align: top;\n",
       "    }\n",
       "\n",
       "    .dataframe thead th {\n",
       "        text-align: right;\n",
       "    }\n",
       "</style>\n",
       "<table border=\"1\" class=\"dataframe\">\n",
       "  <thead>\n",
       "    <tr style=\"text-align: right;\">\n",
       "      <th></th>\n",
       "      <th>EvID</th>\n",
       "      <th>PaperID</th>\n",
       "      <th>Vote</th>\n",
       "      <th>v_5</th>\n",
       "      <th>v_6</th>\n",
       "      <th>v_6_coded</th>\n",
       "      <th>v_5_6_merged</th>\n",
       "      <th>v_11</th>\n",
       "      <th>v_11_coded</th>\n",
       "      <th>v_12</th>\n",
       "      <th>...</th>\n",
       "      <th>v_16</th>\n",
       "      <th>v_16_coded</th>\n",
       "      <th>v_15_16_merged</th>\n",
       "      <th>v_19</th>\n",
       "      <th>v_19_coded</th>\n",
       "      <th>v_124</th>\n",
       "      <th>v_118</th>\n",
       "      <th>v_119</th>\n",
       "      <th>v_120</th>\n",
       "      <th>v_121</th>\n",
       "    </tr>\n",
       "  </thead>\n",
       "  <tbody>\n",
       "    <tr>\n",
       "      <th>0</th>\n",
       "      <td>2</td>\n",
       "      <td>10</td>\n",
       "      <td>Worthwhile</td>\n",
       "      <td>Other (please specify)</td>\n",
       "      <td>Product Management Coach</td>\n",
       "      <td>Manager</td>\n",
       "      <td>Manager</td>\n",
       "      <td>10</td>\n",
       "      <td>10.0</td>\n",
       "      <td>No</td>\n",
       "      <td>...</td>\n",
       "      <td>Customer facing software products</td>\n",
       "      <td>(Business) information systems</td>\n",
       "      <td>(Business) information systems</td>\n",
       "      <td>Wide range (from automotive supplier to insura...</td>\n",
       "      <td>Automotive</td>\n",
       "      <td>Germany</td>\n",
       "      <td>quoted</td>\n",
       "      <td>quoted</td>\n",
       "      <td>quoted</td>\n",
       "      <td>not quoted</td>\n",
       "    </tr>\n",
       "    <tr>\n",
       "      <th>1</th>\n",
       "      <td>2</td>\n",
       "      <td>23</td>\n",
       "      <td>Unwise</td>\n",
       "      <td>Other (please specify)</td>\n",
       "      <td>Product Management Coach</td>\n",
       "      <td>Manager</td>\n",
       "      <td>Manager</td>\n",
       "      <td>10</td>\n",
       "      <td>10.0</td>\n",
       "      <td>No</td>\n",
       "      <td>...</td>\n",
       "      <td>Customer facing software products</td>\n",
       "      <td>(Business) information systems</td>\n",
       "      <td>(Business) information systems</td>\n",
       "      <td>Wide range (from automotive supplier to insura...</td>\n",
       "      <td>Automotive</td>\n",
       "      <td>Germany</td>\n",
       "      <td>quoted</td>\n",
       "      <td>quoted</td>\n",
       "      <td>quoted</td>\n",
       "      <td>not quoted</td>\n",
       "    </tr>\n",
       "    <tr>\n",
       "      <th>2</th>\n",
       "      <td>2</td>\n",
       "      <td>49</td>\n",
       "      <td>Essential</td>\n",
       "      <td>Other (please specify)</td>\n",
       "      <td>Product Management Coach</td>\n",
       "      <td>Manager</td>\n",
       "      <td>Manager</td>\n",
       "      <td>10</td>\n",
       "      <td>10.0</td>\n",
       "      <td>No</td>\n",
       "      <td>...</td>\n",
       "      <td>Customer facing software products</td>\n",
       "      <td>(Business) information systems</td>\n",
       "      <td>(Business) information systems</td>\n",
       "      <td>Wide range (from automotive supplier to insura...</td>\n",
       "      <td>Automotive</td>\n",
       "      <td>Germany</td>\n",
       "      <td>quoted</td>\n",
       "      <td>quoted</td>\n",
       "      <td>quoted</td>\n",
       "      <td>not quoted</td>\n",
       "    </tr>\n",
       "    <tr>\n",
       "      <th>3</th>\n",
       "      <td>2</td>\n",
       "      <td>64</td>\n",
       "      <td>Unimportant</td>\n",
       "      <td>Other (please specify)</td>\n",
       "      <td>Product Management Coach</td>\n",
       "      <td>Manager</td>\n",
       "      <td>Manager</td>\n",
       "      <td>10</td>\n",
       "      <td>10.0</td>\n",
       "      <td>No</td>\n",
       "      <td>...</td>\n",
       "      <td>Customer facing software products</td>\n",
       "      <td>(Business) information systems</td>\n",
       "      <td>(Business) information systems</td>\n",
       "      <td>Wide range (from automotive supplier to insura...</td>\n",
       "      <td>Automotive</td>\n",
       "      <td>Germany</td>\n",
       "      <td>quoted</td>\n",
       "      <td>quoted</td>\n",
       "      <td>quoted</td>\n",
       "      <td>not quoted</td>\n",
       "    </tr>\n",
       "    <tr>\n",
       "      <th>4</th>\n",
       "      <td>2</td>\n",
       "      <td>68</td>\n",
       "      <td>Unwise</td>\n",
       "      <td>Other (please specify)</td>\n",
       "      <td>Product Management Coach</td>\n",
       "      <td>Manager</td>\n",
       "      <td>Manager</td>\n",
       "      <td>10</td>\n",
       "      <td>10.0</td>\n",
       "      <td>No</td>\n",
       "      <td>...</td>\n",
       "      <td>Customer facing software products</td>\n",
       "      <td>(Business) information systems</td>\n",
       "      <td>(Business) information systems</td>\n",
       "      <td>Wide range (from automotive supplier to insura...</td>\n",
       "      <td>Automotive</td>\n",
       "      <td>Germany</td>\n",
       "      <td>quoted</td>\n",
       "      <td>quoted</td>\n",
       "      <td>quoted</td>\n",
       "      <td>not quoted</td>\n",
       "    </tr>\n",
       "  </tbody>\n",
       "</table>\n",
       "<p>5 rows × 22 columns</p>\n",
       "</div>"
      ],
      "text/plain": [
       "   EvID  PaperID         Vote                     v_5  \\\n",
       "0     2       10   Worthwhile  Other (please specify)   \n",
       "1     2       23       Unwise  Other (please specify)   \n",
       "2     2       49    Essential  Other (please specify)   \n",
       "3     2       64  Unimportant  Other (please specify)   \n",
       "4     2       68       Unwise  Other (please specify)   \n",
       "\n",
       "                        v_6 v_6_coded v_5_6_merged v_11  v_11_coded v_12  \\\n",
       "0  Product Management Coach   Manager      Manager   10        10.0   No   \n",
       "1  Product Management Coach   Manager      Manager   10        10.0   No   \n",
       "2  Product Management Coach   Manager      Manager   10        10.0   No   \n",
       "3  Product Management Coach   Manager      Manager   10        10.0   No   \n",
       "4  Product Management Coach   Manager      Manager   10        10.0   No   \n",
       "\n",
       "      ...                                   v_16  \\\n",
       "0     ...      Customer facing software products   \n",
       "1     ...      Customer facing software products   \n",
       "2     ...      Customer facing software products   \n",
       "3     ...      Customer facing software products   \n",
       "4     ...      Customer facing software products   \n",
       "\n",
       "                       v_16_coded                  v_15_16_merged  \\\n",
       "0  (Business) information systems  (Business) information systems   \n",
       "1  (Business) information systems  (Business) information systems   \n",
       "2  (Business) information systems  (Business) information systems   \n",
       "3  (Business) information systems  (Business) information systems   \n",
       "4  (Business) information systems  (Business) information systems   \n",
       "\n",
       "                                                v_19  v_19_coded    v_124  \\\n",
       "0  Wide range (from automotive supplier to insura...  Automotive  Germany   \n",
       "1  Wide range (from automotive supplier to insura...  Automotive  Germany   \n",
       "2  Wide range (from automotive supplier to insura...  Automotive  Germany   \n",
       "3  Wide range (from automotive supplier to insura...  Automotive  Germany   \n",
       "4  Wide range (from automotive supplier to insura...  Automotive  Germany   \n",
       "\n",
       "    v_118   v_119   v_120       v_121  \n",
       "0  quoted  quoted  quoted  not quoted  \n",
       "1  quoted  quoted  quoted  not quoted  \n",
       "2  quoted  quoted  quoted  not quoted  \n",
       "3  quoted  quoted  quoted  not quoted  \n",
       "4  quoted  quoted  quoted  not quoted  \n",
       "\n",
       "[5 rows x 22 columns]"
      ]
     },
     "execution_count": 14,
     "metadata": {},
     "output_type": "execute_result"
    }
   ],
   "source": [
    "votelist_with_respondentmeta_coded = votelist.merge(\n",
    "    df_coded[demographics_coded+reqinvolvement].reset_index().rename({'index':'EvID'}, axis=1))\n",
    "votelist_with_respondentmeta_coded.head(5)"
   ]
  },
  {
   "cell_type": "code",
   "execution_count": 15,
   "metadata": {},
   "outputs": [],
   "source": [
    "#votelist_with_respondentmeta_coded.to_csv(\n",
    "#    f'../analysis/{exportdate}{projectname}_votelist_with_respondentmeta_coded.csv', \n",
    "#                                    index=False)"
   ]
  },
  {
   "cell_type": "markdown",
   "metadata": {},
   "source": [
    "The End."
   ]
  }
 ],
 "metadata": {
  "kernelspec": {
   "display_name": "Python [conda env:tum]",
   "language": "python",
   "name": "conda-env-tum-py"
  },
  "language_info": {
   "codemirror_mode": {
    "name": "ipython",
    "version": 3
   },
   "file_extension": ".py",
   "mimetype": "text/x-python",
   "name": "python",
   "nbconvert_exporter": "python",
   "pygments_lexer": "ipython3",
   "version": "3.6.4"
  }
 },
 "nbformat": 4,
 "nbformat_minor": 2
}
