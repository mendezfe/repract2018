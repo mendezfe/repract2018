{
 "cells": [
  {
   "cell_type": "markdown",
   "metadata": {},
   "source": [
    "# Analysis of Free-Text Answers"
   ]
  },
  {
   "cell_type": "markdown",
   "metadata": {},
   "source": [
    "## Setup"
   ]
  },
  {
   "cell_type": "code",
   "execution_count": 10,
   "metadata": {},
   "outputs": [],
   "source": [
    "%run setup.py\n",
    "%matplotlib inline"
   ]
  },
  {
   "cell_type": "markdown",
   "metadata": {},
   "source": [
    "# Research Suggestions"
   ]
  },
  {
   "cell_type": "code",
   "execution_count": 8,
   "metadata": {},
   "outputs": [
    {
     "data": {
      "text/html": [
       "<div>\n",
       "<style scoped>\n",
       "    .dataframe tbody tr th:only-of-type {\n",
       "        vertical-align: middle;\n",
       "    }\n",
       "\n",
       "    .dataframe tbody tr th {\n",
       "        vertical-align: top;\n",
       "    }\n",
       "\n",
       "    .dataframe thead th {\n",
       "        text-align: right;\n",
       "    }\n",
       "</style>\n",
       "<table border=\"1\" class=\"dataframe\">\n",
       "  <thead>\n",
       "    <tr style=\"text-align: right;\">\n",
       "      <th></th>\n",
       "      <th>ID</th>\n",
       "      <th>Suggestion</th>\n",
       "      <th>Validity</th>\n",
       "      <th>GRANULARITY</th>\n",
       "      <th>PROCESS</th>\n",
       "      <th>CONTEXT</th>\n",
       "      <th>CRITIQUE</th>\n",
       "      <th>CRITIQUE DETAIL</th>\n",
       "      <th>Topic 1</th>\n",
       "      <th>Topic 2</th>\n",
       "      <th>Topic 3</th>\n",
       "      <th>Topic 4</th>\n",
       "    </tr>\n",
       "  </thead>\n",
       "  <tbody>\n",
       "    <tr>\n",
       "      <th>0</th>\n",
       "      <td>139.0</td>\n",
       "      <td>Building of economic models for comparing and ...</td>\n",
       "      <td>YES</td>\n",
       "      <td>DETAILED</td>\n",
       "      <td>NaN</td>\n",
       "      <td>NaN</td>\n",
       "      <td>NaN</td>\n",
       "      <td>NaN</td>\n",
       "      <td>Requirements prioritization</td>\n",
       "      <td>Model construction</td>\n",
       "      <td>NaN</td>\n",
       "      <td>NaN</td>\n",
       "    </tr>\n",
       "    <tr>\n",
       "      <th>1</th>\n",
       "      <td>139.0</td>\n",
       "      <td>Predicting the business impact of future softw...</td>\n",
       "      <td>YES</td>\n",
       "      <td>DETAILED</td>\n",
       "      <td>NaN</td>\n",
       "      <td>NaN</td>\n",
       "      <td>NaN</td>\n",
       "      <td>NaN</td>\n",
       "      <td>RE and organization</td>\n",
       "      <td>NaN</td>\n",
       "      <td>NaN</td>\n",
       "      <td>NaN</td>\n",
       "    </tr>\n",
       "    <tr>\n",
       "      <th>2</th>\n",
       "      <td>139.0</td>\n",
       "      <td>Observing user behaviour and connecting it to ...</td>\n",
       "      <td>YES</td>\n",
       "      <td>DETAILED</td>\n",
       "      <td>NaN</td>\n",
       "      <td>NaN</td>\n",
       "      <td>NaN</td>\n",
       "      <td>NaN</td>\n",
       "      <td>Data-driven RE</td>\n",
       "      <td>Human in the loop</td>\n",
       "      <td>NaN</td>\n",
       "      <td>NaN</td>\n",
       "    </tr>\n",
       "  </tbody>\n",
       "</table>\n",
       "</div>"
      ],
      "text/plain": [
       "      ID                                         Suggestion Validity  \\\n",
       "0  139.0  Building of economic models for comparing and ...      YES   \n",
       "1  139.0  Predicting the business impact of future softw...      YES   \n",
       "2  139.0  Observing user behaviour and connecting it to ...      YES   \n",
       "\n",
       "  GRANULARITY PROCESS CONTEXT CRITIQUE CRITIQUE DETAIL  \\\n",
       "0    DETAILED     NaN     NaN      NaN             NaN   \n",
       "1    DETAILED     NaN     NaN      NaN             NaN   \n",
       "2    DETAILED     NaN     NaN      NaN             NaN   \n",
       "\n",
       "                       Topic 1             Topic 2 Topic 3 Topic 4  \n",
       "0  Requirements prioritization  Model construction     NaN     NaN  \n",
       "1          RE and organization                 NaN     NaN     NaN  \n",
       "2               Data-driven RE   Human in the loop     NaN     NaN  "
      ]
     },
     "execution_count": 8,
     "metadata": {},
     "output_type": "execute_result"
    }
   ],
   "source": [
    "data = dfdict['freetext-suggestions-final']\n",
    "data.rename(columns={\"Big topic\": \"Topic 1\", \"Unnamed: 9\": \"Topic 2\", \"Unnamed: 10\": \"Topic 3\", \"Unnamed: 11\": \"Topic 4\"}, inplace=True)\n",
    "data.head(3)"
   ]
  },
  {
   "cell_type": "markdown",
   "metadata": {},
   "source": [
    "### Count topics"
   ]
  },
  {
   "cell_type": "code",
   "execution_count": null,
   "metadata": {},
   "outputs": [],
   "source": []
  },
  {
   "cell_type": "markdown",
   "metadata": {},
   "source": [
    "# Reasons for Positive Ratings"
   ]
  },
  {
   "cell_type": "code",
   "execution_count": 83,
   "metadata": {},
   "outputs": [
    {
     "data": {
      "text/html": [
       "<div>\n",
       "<style scoped>\n",
       "    .dataframe tbody tr th:only-of-type {\n",
       "        vertical-align: middle;\n",
       "    }\n",
       "\n",
       "    .dataframe tbody tr th {\n",
       "        vertical-align: top;\n",
       "    }\n",
       "\n",
       "    .dataframe thead th {\n",
       "        text-align: right;\n",
       "    }\n",
       "</style>\n",
       "<table border=\"1\" class=\"dataframe\">\n",
       "  <thead>\n",
       "    <tr style=\"text-align: right;\">\n",
       "      <th></th>\n",
       "      <th>ID</th>\n",
       "      <th>Ifdn</th>\n",
       "      <th>Text</th>\n",
       "      <th>general</th>\n",
       "      <th>all industry</th>\n",
       "      <th>contextual</th>\n",
       "      <th>organizational</th>\n",
       "      <th>personal</th>\n",
       "      <th>not existing</th>\n",
       "      <th>scarce</th>\n",
       "      <th>difficult</th>\n",
       "      <th>unsatisfactory</th>\n",
       "      <th>adequate</th>\n",
       "      <th>plausible</th>\n",
       "      <th>on organization</th>\n",
       "      <th>on individual</th>\n",
       "      <th>Experience</th>\n",
       "      <th>not valid</th>\n",
       "      <th>not positive</th>\n",
       "    </tr>\n",
       "  </thead>\n",
       "  <tbody>\n",
       "    <tr>\n",
       "      <th>0</th>\n",
       "      <td>2</td>\n",
       "      <td>116</td>\n",
       "      <td>Aligning requirements to regulatory standards ...</td>\n",
       "      <td>NaN</td>\n",
       "      <td>1.0</td>\n",
       "      <td>NaN</td>\n",
       "      <td>NaN</td>\n",
       "      <td>NaN</td>\n",
       "      <td>NaN</td>\n",
       "      <td>NaN</td>\n",
       "      <td>NaN</td>\n",
       "      <td>1.0</td>\n",
       "      <td>NaN</td>\n",
       "      <td>NaN</td>\n",
       "      <td>NaN</td>\n",
       "      <td>NaN</td>\n",
       "      <td>NaN</td>\n",
       "      <td>NaN</td>\n",
       "      <td>NaN</td>\n",
       "    </tr>\n",
       "    <tr>\n",
       "      <th>1</th>\n",
       "      <td>5</td>\n",
       "      <td>152</td>\n",
       "      <td>.</td>\n",
       "      <td>NaN</td>\n",
       "      <td>NaN</td>\n",
       "      <td>NaN</td>\n",
       "      <td>NaN</td>\n",
       "      <td>NaN</td>\n",
       "      <td>NaN</td>\n",
       "      <td>NaN</td>\n",
       "      <td>NaN</td>\n",
       "      <td>NaN</td>\n",
       "      <td>NaN</td>\n",
       "      <td>NaN</td>\n",
       "      <td>NaN</td>\n",
       "      <td>NaN</td>\n",
       "      <td>NaN</td>\n",
       "      <td>1.0</td>\n",
       "      <td>NaN</td>\n",
       "    </tr>\n",
       "    <tr>\n",
       "      <th>2</th>\n",
       "      <td>8</td>\n",
       "      <td>94</td>\n",
       "      <td>In order to gain a better understanding from t...</td>\n",
       "      <td>1.0</td>\n",
       "      <td>NaN</td>\n",
       "      <td>NaN</td>\n",
       "      <td>NaN</td>\n",
       "      <td>NaN</td>\n",
       "      <td>NaN</td>\n",
       "      <td>NaN</td>\n",
       "      <td>NaN</td>\n",
       "      <td>NaN</td>\n",
       "      <td>1.0</td>\n",
       "      <td>NaN</td>\n",
       "      <td>NaN</td>\n",
       "      <td>NaN</td>\n",
       "      <td>NaN</td>\n",
       "      <td>NaN</td>\n",
       "      <td>NaN</td>\n",
       "    </tr>\n",
       "  </tbody>\n",
       "</table>\n",
       "</div>"
      ],
      "text/plain": [
       "   ID  Ifdn                                               Text  general  \\\n",
       "0   2   116  Aligning requirements to regulatory standards ...      NaN   \n",
       "1   5   152                                                  .      NaN   \n",
       "2   8    94  In order to gain a better understanding from t...      1.0   \n",
       "\n",
       "   all industry  contextual  organizational  personal  not existing  scarce  \\\n",
       "0           1.0         NaN             NaN       NaN           NaN     NaN   \n",
       "1           NaN         NaN             NaN       NaN           NaN     NaN   \n",
       "2           NaN         NaN             NaN       NaN           NaN     NaN   \n",
       "\n",
       "   difficult  unsatisfactory  adequate  plausible  on organization  \\\n",
       "0        NaN             1.0       NaN        NaN              NaN   \n",
       "1        NaN             NaN       NaN        NaN              NaN   \n",
       "2        NaN             NaN       1.0        NaN              NaN   \n",
       "\n",
       "   on individual  Experience  not valid  not positive  \n",
       "0            NaN         NaN        NaN           NaN  \n",
       "1            NaN         NaN        1.0           NaN  \n",
       "2            NaN         NaN        NaN           NaN  "
      ]
     },
     "execution_count": 83,
     "metadata": {},
     "output_type": "execute_result"
    }
   ],
   "source": [
    "data = dfdict['freetext-positive-final']\n",
    "data.head(3)"
   ]
  },
  {
   "cell_type": "markdown",
   "metadata": {},
   "source": [
    "### Filter invalid data"
   ]
  },
  {
   "cell_type": "code",
   "execution_count": 84,
   "metadata": {},
   "outputs": [
    {
     "name": "stdout",
     "output_type": "stream",
     "text": [
      "<class 'pandas.core.frame.DataFrame'>\n",
      "Int64Index: 119 entries, 0 to 121\n",
      "Data columns (total 19 columns):\n",
      "ID                 119 non-null int64\n",
      "Ifdn               119 non-null int64\n",
      "Text               119 non-null object\n",
      "general            49 non-null float64\n",
      "all industry       23 non-null float64\n",
      "contextual         7 non-null float64\n",
      "organizational     6 non-null float64\n",
      "personal           5 non-null float64\n",
      "not existing       10 non-null float64\n",
      "scarce             4 non-null float64\n",
      "difficult          5 non-null float64\n",
      "unsatisfactory     15 non-null float64\n",
      "adequate           25 non-null float64\n",
      "plausible          16 non-null float64\n",
      "on organization    6 non-null float64\n",
      "on individual      12 non-null float64\n",
      "Experience         6 non-null float64\n",
      "not valid          0 non-null float64\n",
      "not positive       0 non-null float64\n",
      "dtypes: float64(16), int64(2), object(1)\n",
      "memory usage: 18.6+ KB\n"
     ]
    }
   ],
   "source": [
    "data = data[(data[\"not valid\"].isnull() & data[\"not positive\"].isnull())]\n",
    "data.info()"
   ]
  },
  {
   "cell_type": "code",
   "execution_count": 85,
   "metadata": {},
   "outputs": [
    {
     "data": {
      "text/plain": [
       "general            49.0\n",
       "all industry       23.0\n",
       "contextual          7.0\n",
       "organizational      6.0\n",
       "personal            5.0\n",
       "not existing       10.0\n",
       "scarce              4.0\n",
       "difficult           5.0\n",
       "unsatisfactory     15.0\n",
       "adequate           25.0\n",
       "plausible          16.0\n",
       "on organization     6.0\n",
       "on individual      12.0\n",
       "Experience          6.0\n",
       "dtype: float64"
      ]
     },
     "execution_count": 85,
     "metadata": {},
     "output_type": "execute_result"
    }
   ],
   "source": [
    "positive_reasons = data[data.columns[3:17]].apply(pd.DataFrame.sum,skipna=True,axis=0)\n",
    "positive_reasons"
   ]
  },
  {
   "cell_type": "code",
   "execution_count": 86,
   "metadata": {},
   "outputs": [
    {
     "data": {
      "text/plain": [
       "<matplotlib.axes._subplots.AxesSubplot at 0x17c00b75320>"
      ]
     },
     "execution_count": 86,
     "metadata": {},
     "output_type": "execute_result"
    },
    {
     "data": {
      "image/png": "[encoded data removed]",
      "text/plain": [
       "<Figure size 432x288 with 1 Axes>"
      ]
     },
     "metadata": {},
     "output_type": "display_data"
    }
   ],
   "source": [
    "positive_reasons.sort_values().plot.bar()"
   ]
  },
  {
   "cell_type": "markdown",
   "metadata": {},
   "source": [
    "# Reasons for Negative Ratings"
   ]
  },
  {
   "cell_type": "code",
   "execution_count": 87,
   "metadata": {},
   "outputs": [
    {
     "name": "stdout",
     "output_type": "stream",
     "text": [
      "<class 'pandas.core.frame.DataFrame'>\n",
      "RangeIndex: 117 entries, 0 to 116\n",
      "Data columns (total 23 columns):\n",
      "ID                         117 non-null int64\n",
      "Ifdn                       117 non-null int64\n",
      "Text                       117 non-null object\n",
      "not agreed                 19 non-null float64\n",
      "not convinced              9 non-null float64\n",
      "not needed - contextual    13 non-null float64\n",
      "not needed - universal     14 non-null float64\n",
      "not interesting            5 non-null float64\n",
      "old fashioned              2 non-null float64\n",
      "not state of the art       4 non-null float64\n",
      "not solid                  1 non-null float64\n",
      "weak evidence              5 non-null float64\n",
      "too vague                  3 non-null float64\n",
      "too specific               10 non-null float64\n",
      "not efficient              5 non-null float64\n",
      "not realistic              8 non-null float64\n",
      "too subjective             1 non-null float64\n",
      "too complicated            7 non-null float64\n",
      "general objection          3 non-null float64\n",
      "not RE                     3 non-null float64\n",
      "response not valid         5 non-null float64\n",
      "paper not understood       7 non-null float64\n",
      "rating not negative        7 non-null float64\n",
      "dtypes: float64(20), int64(2), object(1)\n",
      "memory usage: 21.1+ KB\n"
     ]
    }
   ],
   "source": [
    "data = dfdict['freetext-negative-final']\n",
    "data.info()"
   ]
  },
  {
   "cell_type": "markdown",
   "metadata": {},
   "source": [
    "### Filter invalid data"
   ]
  },
  {
   "cell_type": "code",
   "execution_count": 88,
   "metadata": {},
   "outputs": [
    {
     "data": {
      "text/html": [
       "<div>\n",
       "<style scoped>\n",
       "    .dataframe tbody tr th:only-of-type {\n",
       "        vertical-align: middle;\n",
       "    }\n",
       "\n",
       "    .dataframe tbody tr th {\n",
       "        vertical-align: top;\n",
       "    }\n",
       "\n",
       "    .dataframe thead th {\n",
       "        text-align: right;\n",
       "    }\n",
       "</style>\n",
       "<table border=\"1\" class=\"dataframe\">\n",
       "  <thead>\n",
       "    <tr style=\"text-align: right;\">\n",
       "      <th></th>\n",
       "      <th>ID</th>\n",
       "      <th>Ifdn</th>\n",
       "      <th>Text</th>\n",
       "      <th>not agreed</th>\n",
       "      <th>not convinced</th>\n",
       "      <th>not needed - contextual</th>\n",
       "      <th>not needed - universal</th>\n",
       "      <th>not interesting</th>\n",
       "      <th>old fashioned</th>\n",
       "      <th>not state of the art</th>\n",
       "      <th>...</th>\n",
       "      <th>too specific</th>\n",
       "      <th>not efficient</th>\n",
       "      <th>not realistic</th>\n",
       "      <th>too subjective</th>\n",
       "      <th>too complicated</th>\n",
       "      <th>general objection</th>\n",
       "      <th>not RE</th>\n",
       "      <th>response not valid</th>\n",
       "      <th>paper not understood</th>\n",
       "      <th>rating not negative</th>\n",
       "    </tr>\n",
       "  </thead>\n",
       "  <tbody>\n",
       "    <tr>\n",
       "      <th>0</th>\n",
       "      <td>4</td>\n",
       "      <td>30</td>\n",
       "      <td>no one cares how you developed, just that you ...</td>\n",
       "      <td>1.0</td>\n",
       "      <td>NaN</td>\n",
       "      <td>NaN</td>\n",
       "      <td>NaN</td>\n",
       "      <td>NaN</td>\n",
       "      <td>NaN</td>\n",
       "      <td>NaN</td>\n",
       "      <td>...</td>\n",
       "      <td>NaN</td>\n",
       "      <td>NaN</td>\n",
       "      <td>NaN</td>\n",
       "      <td>NaN</td>\n",
       "      <td>1.0</td>\n",
       "      <td>NaN</td>\n",
       "      <td>NaN</td>\n",
       "      <td>NaN</td>\n",
       "      <td>NaN</td>\n",
       "      <td>NaN</td>\n",
       "    </tr>\n",
       "    <tr>\n",
       "      <th>1</th>\n",
       "      <td>5</td>\n",
       "      <td>35</td>\n",
       "      <td>Document driven approaches are decreasing in r...</td>\n",
       "      <td>NaN</td>\n",
       "      <td>NaN</td>\n",
       "      <td>NaN</td>\n",
       "      <td>NaN</td>\n",
       "      <td>NaN</td>\n",
       "      <td>1.0</td>\n",
       "      <td>NaN</td>\n",
       "      <td>...</td>\n",
       "      <td>NaN</td>\n",
       "      <td>NaN</td>\n",
       "      <td>NaN</td>\n",
       "      <td>NaN</td>\n",
       "      <td>NaN</td>\n",
       "      <td>NaN</td>\n",
       "      <td>NaN</td>\n",
       "      <td>NaN</td>\n",
       "      <td>NaN</td>\n",
       "      <td>NaN</td>\n",
       "    </tr>\n",
       "    <tr>\n",
       "      <th>2</th>\n",
       "      <td>6</td>\n",
       "      <td>122</td>\n",
       "      <td>If we could see how ambiguous documentation ca...</td>\n",
       "      <td>NaN</td>\n",
       "      <td>1.0</td>\n",
       "      <td>NaN</td>\n",
       "      <td>NaN</td>\n",
       "      <td>1.0</td>\n",
       "      <td>NaN</td>\n",
       "      <td>NaN</td>\n",
       "      <td>...</td>\n",
       "      <td>NaN</td>\n",
       "      <td>NaN</td>\n",
       "      <td>NaN</td>\n",
       "      <td>NaN</td>\n",
       "      <td>NaN</td>\n",
       "      <td>NaN</td>\n",
       "      <td>NaN</td>\n",
       "      <td>NaN</td>\n",
       "      <td>NaN</td>\n",
       "      <td>NaN</td>\n",
       "    </tr>\n",
       "  </tbody>\n",
       "</table>\n",
       "<p>3 rows × 23 columns</p>\n",
       "</div>"
      ],
      "text/plain": [
       "   ID  Ifdn                                               Text  not agreed  \\\n",
       "0   4    30  no one cares how you developed, just that you ...         1.0   \n",
       "1   5    35  Document driven approaches are decreasing in r...         NaN   \n",
       "2   6   122  If we could see how ambiguous documentation ca...         NaN   \n",
       "\n",
       "   not convinced  not needed - contextual  not needed - universal  \\\n",
       "0            NaN                      NaN                     NaN   \n",
       "1            NaN                      NaN                     NaN   \n",
       "2            1.0                      NaN                     NaN   \n",
       "\n",
       "   not interesting  old fashioned  not state of the art         ...           \\\n",
       "0              NaN            NaN                   NaN         ...            \n",
       "1              NaN            1.0                   NaN         ...            \n",
       "2              1.0            NaN                   NaN         ...            \n",
       "\n",
       "   too specific  not efficient  not realistic  too subjective  \\\n",
       "0           NaN            NaN            NaN             NaN   \n",
       "1           NaN            NaN            NaN             NaN   \n",
       "2           NaN            NaN            NaN             NaN   \n",
       "\n",
       "   too complicated  general objection  not RE  response not valid  \\\n",
       "0              1.0                NaN     NaN                 NaN   \n",
       "1              NaN                NaN     NaN                 NaN   \n",
       "2              NaN                NaN     NaN                 NaN   \n",
       "\n",
       "   paper not understood  rating not negative  \n",
       "0                   NaN                  NaN  \n",
       "1                   NaN                  NaN  \n",
       "2                   NaN                  NaN  \n",
       "\n",
       "[3 rows x 23 columns]"
      ]
     },
     "execution_count": 88,
     "metadata": {},
     "output_type": "execute_result"
    }
   ],
   "source": [
    "data = data[(data[\"response not valid\"].isnull() & data[\"paper not understood\"].isnull() & data[\"rating not negative\"].isnull())]\n",
    "data.head(3)"
   ]
  },
  {
   "cell_type": "code",
   "execution_count": 89,
   "metadata": {},
   "outputs": [
    {
     "data": {
      "text/plain": [
       "not agreed                 19.0\n",
       "not convinced               9.0\n",
       "not needed - contextual    13.0\n",
       "not needed - universal     14.0\n",
       "not interesting             5.0\n",
       "old fashioned               2.0\n",
       "not state of the art        4.0\n",
       "not solid                   1.0\n",
       "weak evidence               5.0\n",
       "too vague                   3.0\n",
       "too specific               10.0\n",
       "not efficient               5.0\n",
       "not realistic               8.0\n",
       "too subjective              1.0\n",
       "too complicated             7.0\n",
       "general objection           3.0\n",
       "not RE                      3.0\n",
       "dtype: float64"
      ]
     },
     "execution_count": 89,
     "metadata": {},
     "output_type": "execute_result"
    }
   ],
   "source": [
    "negative_reasons = data[data.columns[3:20]].apply(pd.DataFrame.sum,skipna=True,axis=0)\n",
    "negative_reasons"
   ]
  },
  {
   "cell_type": "code",
   "execution_count": 90,
   "metadata": {},
   "outputs": [
    {
     "data": {
      "text/plain": [
       "<matplotlib.axes._subplots.AxesSubplot at 0x17c00bce8d0>"
      ]
     },
     "execution_count": 90,
     "metadata": {},
     "output_type": "execute_result"
    },
    {
     "data": {
      "image/png": "[encoded data removed]",
      "text/plain": [
       "<Figure size 432x288 with 1 Axes>"
      ]
     },
     "metadata": {},
     "output_type": "display_data"
    }
   ],
   "source": [
    "negative_reasons.sort_values().plot.bar()"
   ]
  }
 ],
 "metadata": {
  "kernelspec": {
   "display_name": "Python 3",
   "language": "python",
   "name": "python3"
  },
  "language_info": {
   "codemirror_mode": {
    "name": "ipython",
    "version": 3
   },
   "file_extension": ".py",
   "mimetype": "text/x-python",
   "name": "python",
   "nbconvert_exporter": "python",
   "pygments_lexer": "ipython3",
   "version": "3.6.6"
  }
 },
 "nbformat": 4,
 "nbformat_minor": 2
}
