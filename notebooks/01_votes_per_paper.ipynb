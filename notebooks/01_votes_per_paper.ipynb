{
 "cells": [
  {
   "cell_type": "markdown",
   "metadata": {},
   "source": [
    "### How many votes were cast for each paper?\n",
    "\n",
    "* Data export from unipark tool on **Mar 25, 2018**\n",
    "* At that time, **154 responses** were available"
   ]
  },
  {
   "cell_type": "code",
   "execution_count": 1,
   "metadata": {},
   "outputs": [],
   "source": [
    "exportdate = 20180325 # YYYYMMDD, appears in file name"
   ]
  },
  {
   "cell_type": "code",
   "execution_count": 2,
   "metadata": {},
   "outputs": [],
   "source": [
    "number_of_papers = 435 # this is constant"
   ]
  },
  {
   "cell_type": "code",
   "execution_count": 3,
   "metadata": {},
   "outputs": [],
   "source": [
    "import pandas as pd"
   ]
  },
  {
   "cell_type": "code",
   "execution_count": 4,
   "metadata": {},
   "outputs": [],
   "source": [
    "df = pd.read_csv(f'../data/{exportdate}repract.csv')"
   ]
  },
  {
   "cell_type": "markdown",
   "metadata": {},
   "source": [
    "How many rows and columns?"
   ]
  },
  {
   "cell_type": "code",
   "execution_count": 5,
   "metadata": {},
   "outputs": [
    {
     "data": {
      "text/plain": [
       "(154, 1360)"
      ]
     },
     "execution_count": 5,
     "metadata": {},
     "output_type": "execute_result"
    }
   ],
   "source": [
    "df.shape"
   ]
  },
  {
   "cell_type": "markdown",
   "metadata": {},
   "source": [
    "What does the data look like?"
   ]
  },
  {
   "cell_type": "code",
   "execution_count": 6,
   "metadata": {},
   "outputs": [
    {
     "data": {
      "text/html": [
       "<div>\n",
       "<style scoped>\n",
       "    .dataframe tbody tr th:only-of-type {\n",
       "        vertical-align: middle;\n",
       "    }\n",
       "\n",
       "    .dataframe tbody tr th {\n",
       "        vertical-align: top;\n",
       "    }\n",
       "\n",
       "    .dataframe thead th {\n",
       "        text-align: right;\n",
       "    }\n",
       "</style>\n",
       "<table border=\"1\" class=\"dataframe\">\n",
       "  <thead>\n",
       "    <tr style=\"text-align: right;\">\n",
       "      <th></th>\n",
       "      <th>lfdn</th>\n",
       "      <th>external_lfdn</th>\n",
       "      <th>tester</th>\n",
       "      <th>dispcode</th>\n",
       "      <th>lastpage</th>\n",
       "      <th>quality</th>\n",
       "      <th>duration</th>\n",
       "      <th>v_7039</th>\n",
       "      <th>v_7040</th>\n",
       "      <th>v_7041</th>\n",
       "      <th>...</th>\n",
       "      <th>output_mode</th>\n",
       "      <th>javascript</th>\n",
       "      <th>flash</th>\n",
       "      <th>session_id</th>\n",
       "      <th>language</th>\n",
       "      <th>cleaned</th>\n",
       "      <th>ats</th>\n",
       "      <th>datetime</th>\n",
       "      <th>date_of_last_access</th>\n",
       "      <th>date_of_first_mail</th>\n",
       "    </tr>\n",
       "  </thead>\n",
       "  <tbody>\n",
       "    <tr>\n",
       "      <th>0</th>\n",
       "      <td>106</td>\n",
       "      <td>0</td>\n",
       "      <td>no tester</td>\n",
       "      <td>Completed after break (32)</td>\n",
       "      <td>2138658</td>\n",
       "      <td>NotShown</td>\n",
       "      <td>-1</td>\n",
       "      <td>NotShown</td>\n",
       "      <td>NotShown</td>\n",
       "      <td>0</td>\n",
       "      <td>...</td>\n",
       "      <td>HTML</td>\n",
       "      <td>NotShown</td>\n",
       "      <td>NotShown</td>\n",
       "      <td>3bb21c1b318e2f6b87557566bdd6b4d9</td>\n",
       "      <td>English</td>\n",
       "      <td>Not cleaned</td>\n",
       "      <td>1515411510</td>\n",
       "      <td>2018-01-08 11:38:30</td>\n",
       "      <td>2018-01-08 13:07:14</td>\n",
       "      <td>0000-00-00 00:00:00</td>\n",
       "    </tr>\n",
       "    <tr>\n",
       "      <th>1</th>\n",
       "      <td>131</td>\n",
       "      <td>0</td>\n",
       "      <td>no tester</td>\n",
       "      <td>Completed (31)</td>\n",
       "      <td>2138658</td>\n",
       "      <td>NotShown</td>\n",
       "      <td>3805</td>\n",
       "      <td>NotShown</td>\n",
       "      <td>NotShown</td>\n",
       "      <td>NotShown</td>\n",
       "      <td>...</td>\n",
       "      <td>HTML</td>\n",
       "      <td>NotShown</td>\n",
       "      <td>NotShown</td>\n",
       "      <td>fc38f6556787a459c2cc604abf799448</td>\n",
       "      <td>English</td>\n",
       "      <td>Not cleaned</td>\n",
       "      <td>1515667019</td>\n",
       "      <td>2018-01-11 10:36:59</td>\n",
       "      <td>2018-01-11 11:40:24</td>\n",
       "      <td>0000-00-00 00:00:00</td>\n",
       "    </tr>\n",
       "  </tbody>\n",
       "</table>\n",
       "<p>2 rows × 1360 columns</p>\n",
       "</div>"
      ],
      "text/plain": [
       "   lfdn  external_lfdn     tester                    dispcode  lastpage  \\\n",
       "0   106              0  no tester  Completed after break (32)   2138658   \n",
       "1   131              0  no tester              Completed (31)   2138658   \n",
       "\n",
       "    quality  duration    v_7039    v_7040    v_7041         ...           \\\n",
       "0  NotShown        -1  NotShown  NotShown         0         ...            \n",
       "1  NotShown      3805  NotShown  NotShown  NotShown         ...            \n",
       "\n",
       "  output_mode javascript     flash                        session_id language  \\\n",
       "0        HTML   NotShown  NotShown  3bb21c1b318e2f6b87557566bdd6b4d9  English   \n",
       "1        HTML   NotShown  NotShown  fc38f6556787a459c2cc604abf799448  English   \n",
       "\n",
       "       cleaned         ats             datetime  date_of_last_access  \\\n",
       "0  Not cleaned  1515411510  2018-01-08 11:38:30  2018-01-08 13:07:14   \n",
       "1  Not cleaned  1515667019  2018-01-11 10:36:59  2018-01-11 11:40:24   \n",
       "\n",
       "    date_of_first_mail  \n",
       "0  0000-00-00 00:00:00  \n",
       "1  0000-00-00 00:00:00  \n",
       "\n",
       "[2 rows x 1360 columns]"
      ]
     },
     "execution_count": 6,
     "metadata": {},
     "output_type": "execute_result"
    }
   ],
   "source": [
    "df.head(2)"
   ]
  },
  {
   "cell_type": "markdown",
   "metadata": {},
   "source": [
    "### Getting the Data Into Shape\n",
    "\n",
    "1. Map PaperIDs to variables, starting at v_7039 for PaperID 1, ending at v_7473\n",
    "2. Create a df containing evaluations as rows and papers as columns\n",
    "3. Count number of valid values in each column"
   ]
  },
  {
   "cell_type": "code",
   "execution_count": 7,
   "metadata": {},
   "outputs": [],
   "source": [
    "paper_ids = list(zip(range(1,number_of_papers+1),\n",
    "                     ['v_'+str(x) for x in range(7039,7039+number_of_papers)]))\n",
    "paper_id_dict = {tup[1]:tup[0] for tup in paper_ids}"
   ]
  },
  {
   "cell_type": "code",
   "execution_count": 12,
   "metadata": {},
   "outputs": [
    {
     "data": {
      "text/html": [
       "<div>\n",
       "<style scoped>\n",
       "    .dataframe tbody tr th:only-of-type {\n",
       "        vertical-align: middle;\n",
       "    }\n",
       "\n",
       "    .dataframe tbody tr th {\n",
       "        vertical-align: top;\n",
       "    }\n",
       "\n",
       "    .dataframe thead th {\n",
       "        text-align: right;\n",
       "    }\n",
       "</style>\n",
       "<table border=\"1\" class=\"dataframe\">\n",
       "  <thead>\n",
       "    <tr style=\"text-align: right;\">\n",
       "      <th></th>\n",
       "      <th>1</th>\n",
       "      <th>2</th>\n",
       "      <th>3</th>\n",
       "      <th>4</th>\n",
       "      <th>5</th>\n",
       "      <th>6</th>\n",
       "      <th>7</th>\n",
       "      <th>8</th>\n",
       "      <th>9</th>\n",
       "      <th>10</th>\n",
       "      <th>...</th>\n",
       "      <th>426</th>\n",
       "      <th>427</th>\n",
       "      <th>428</th>\n",
       "      <th>429</th>\n",
       "      <th>430</th>\n",
       "      <th>431</th>\n",
       "      <th>432</th>\n",
       "      <th>433</th>\n",
       "      <th>434</th>\n",
       "      <th>435</th>\n",
       "    </tr>\n",
       "  </thead>\n",
       "  <tbody>\n",
       "    <tr>\n",
       "      <th>0</th>\n",
       "      <td>NotShown</td>\n",
       "      <td>NotShown</td>\n",
       "      <td>0</td>\n",
       "      <td>NotShown</td>\n",
       "      <td>NotShown</td>\n",
       "      <td>NotShown</td>\n",
       "      <td>NotShown</td>\n",
       "      <td>NotShown</td>\n",
       "      <td>NotShown</td>\n",
       "      <td>NotShown</td>\n",
       "      <td>...</td>\n",
       "      <td>NotShown</td>\n",
       "      <td>NotShown</td>\n",
       "      <td>NotShown</td>\n",
       "      <td>NotShown</td>\n",
       "      <td>NotShown</td>\n",
       "      <td>NotShown</td>\n",
       "      <td>NotShown</td>\n",
       "      <td>NotShown</td>\n",
       "      <td>NotShown</td>\n",
       "      <td>NotShown</td>\n",
       "    </tr>\n",
       "    <tr>\n",
       "      <th>1</th>\n",
       "      <td>NotShown</td>\n",
       "      <td>NotShown</td>\n",
       "      <td>NotShown</td>\n",
       "      <td>NotShown</td>\n",
       "      <td>NotShown</td>\n",
       "      <td>NotShown</td>\n",
       "      <td>NotShown</td>\n",
       "      <td>NotShown</td>\n",
       "      <td>NotShown</td>\n",
       "      <td>NotShown</td>\n",
       "      <td>...</td>\n",
       "      <td>NotShown</td>\n",
       "      <td>NotShown</td>\n",
       "      <td>NotShown</td>\n",
       "      <td>NotShown</td>\n",
       "      <td>NotShown</td>\n",
       "      <td>NotShown</td>\n",
       "      <td>NotShown</td>\n",
       "      <td>NotShown</td>\n",
       "      <td>NotShown</td>\n",
       "      <td>NotShown</td>\n",
       "    </tr>\n",
       "  </tbody>\n",
       "</table>\n",
       "<p>2 rows × 435 columns</p>\n",
       "</div>"
      ],
      "text/plain": [
       "        1         2         3         4         5         6         7    \\\n",
       "0  NotShown  NotShown         0  NotShown  NotShown  NotShown  NotShown   \n",
       "1  NotShown  NotShown  NotShown  NotShown  NotShown  NotShown  NotShown   \n",
       "\n",
       "        8         9         10     ...          426       427       428  \\\n",
       "0  NotShown  NotShown  NotShown    ...     NotShown  NotShown  NotShown   \n",
       "1  NotShown  NotShown  NotShown    ...     NotShown  NotShown  NotShown   \n",
       "\n",
       "        429       430       431       432       433       434       435  \n",
       "0  NotShown  NotShown  NotShown  NotShown  NotShown  NotShown  NotShown  \n",
       "1  NotShown  NotShown  NotShown  NotShown  NotShown  NotShown  NotShown  \n",
       "\n",
       "[2 rows x 435 columns]"
      ]
     },
     "execution_count": 12,
     "metadata": {},
     "output_type": "execute_result"
    }
   ],
   "source": [
    "evaluations = df.transpose()[7:7+number_of_papers].transpose()\n",
    "evaluations = evaluations.rename(paper_id_dict, axis=1)\n",
    "assert evaluations.shape == (df.shape[0], number_of_papers)\n",
    "evaluations.head(2)"
   ]
  },
  {
   "cell_type": "markdown",
   "metadata": {},
   "source": [
    "Distinct values in the evaluations df:"
   ]
  },
  {
   "cell_type": "code",
   "execution_count": 13,
   "metadata": {},
   "outputs": [
    {
     "data": {
      "text/plain": [
       "{'0', 'Essential', 'NotShown', 'Unimportant', 'Unwise', 'Worthwhile'}"
      ]
     },
     "execution_count": 13,
     "metadata": {},
     "output_type": "execute_result"
    }
   ],
   "source": [
    "set(evaluations.values.flatten())"
   ]
  },
  {
   "cell_type": "markdown",
   "metadata": {},
   "source": [
    "'NotShown' is used when papers were not shown to respondents (i.e., not part of their random sample). '0' is one of the survey tool's weird ways to say 'NotAnswered'. Later, we are generally  interested in 'Essential', 'Worthwhile', 'Unimportant', and 'Unwise'."
   ]
  },
  {
   "cell_type": "code",
   "execution_count": 14,
   "metadata": {},
   "outputs": [],
   "source": [
    "rating_values = ['Essential', 'Worthwhile', 'Unimportant', 'Unwise', '0', 'NotShown']"
   ]
  },
  {
   "cell_type": "code",
   "execution_count": 15,
   "metadata": {
    "scrolled": true
   },
   "outputs": [
    {
     "data": {
      "text/html": [
       "<div>\n",
       "<style scoped>\n",
       "    .dataframe tbody tr th:only-of-type {\n",
       "        vertical-align: middle;\n",
       "    }\n",
       "\n",
       "    .dataframe tbody tr th {\n",
       "        vertical-align: top;\n",
       "    }\n",
       "\n",
       "    .dataframe thead th {\n",
       "        text-align: right;\n",
       "    }\n",
       "</style>\n",
       "<table border=\"1\" class=\"dataframe\">\n",
       "  <thead>\n",
       "    <tr style=\"text-align: right;\">\n",
       "      <th></th>\n",
       "      <th>PaperId</th>\n",
       "      <th>Essential</th>\n",
       "      <th>Worthwhile</th>\n",
       "      <th>Unimportant</th>\n",
       "      <th>Unwise</th>\n",
       "      <th>0</th>\n",
       "      <th>NotShown</th>\n",
       "    </tr>\n",
       "  </thead>\n",
       "  <tbody>\n",
       "    <tr>\n",
       "      <th>1</th>\n",
       "      <td>1</td>\n",
       "      <td>1</td>\n",
       "      <td>3</td>\n",
       "      <td>1</td>\n",
       "      <td>0</td>\n",
       "      <td>0</td>\n",
       "      <td>149</td>\n",
       "    </tr>\n",
       "    <tr>\n",
       "      <th>2</th>\n",
       "      <td>2</td>\n",
       "      <td>2</td>\n",
       "      <td>1</td>\n",
       "      <td>1</td>\n",
       "      <td>0</td>\n",
       "      <td>1</td>\n",
       "      <td>149</td>\n",
       "    </tr>\n",
       "  </tbody>\n",
       "</table>\n",
       "</div>"
      ],
      "text/plain": [
       "   PaperId  Essential  Worthwhile  Unimportant  Unwise  0  NotShown\n",
       "1        1          1           3            1       0  0       149\n",
       "2        2          2           1            1       0  1       149"
      ]
     },
     "execution_count": 15,
     "metadata": {},
     "output_type": "execute_result"
    }
   ],
   "source": [
    "evaluation_counts = pd.DataFrame(columns=['PaperId']+rating_values, index=range(1, number_of_papers+1))\n",
    "for i in range(1, number_of_papers+1):\n",
    "    evaluation_counts.at[i,'PaperId'] = i \n",
    "    for idx, val in evaluations[i].value_counts().items():\n",
    "        evaluation_counts.at[i, idx] = val\n",
    "evaluation_counts = evaluation_counts.fillna(0)\n",
    "evaluation_counts.head(2)"
   ]
  },
  {
   "cell_type": "markdown",
   "metadata": {},
   "source": [
    "#### Now that we have the raw counts, we can aggregate positives, negatives and non-ratings:"
   ]
  },
  {
   "cell_type": "code",
   "execution_count": 16,
   "metadata": {},
   "outputs": [],
   "source": [
    "number_of_positives = evaluation_counts[['Essential', 'Worthwhile']].T.sum()\n",
    "number_of_negatives = evaluation_counts[['Unimportant', 'Unwise']].T.sum()\n",
    "number_of_ratings = evaluation_counts[['Essential', 'Worthwhile', 'Unimportant', 'Unwise']].T.sum()\n",
    "number_not_rated = evaluation_counts[['0', 'NotShown']].T.sum()"
   ]
  },
  {
   "cell_type": "markdown",
   "metadata": {},
   "source": [
    "#### Which papers have no ratings?"
   ]
  },
  {
   "cell_type": "code",
   "execution_count": 17,
   "metadata": {},
   "outputs": [
    {
     "data": {
      "text/plain": [
       "92     0\n",
       "250    0\n",
       "252    0\n",
       "267    0\n",
       "303    0\n",
       "376    0\n",
       "dtype: int64"
      ]
     },
     "execution_count": 17,
     "metadata": {},
     "output_type": "execute_result"
    }
   ],
   "source": [
    "number_of_ratings[number_of_ratings.values == 0]"
   ]
  },
  {
   "cell_type": "code",
   "execution_count": 18,
   "metadata": {},
   "outputs": [
    {
     "data": {
      "text/html": [
       "<div>\n",
       "<style scoped>\n",
       "    .dataframe tbody tr th:only-of-type {\n",
       "        vertical-align: middle;\n",
       "    }\n",
       "\n",
       "    .dataframe tbody tr th {\n",
       "        vertical-align: top;\n",
       "    }\n",
       "\n",
       "    .dataframe thead th {\n",
       "        text-align: right;\n",
       "    }\n",
       "</style>\n",
       "<table border=\"1\" class=\"dataframe\">\n",
       "  <thead>\n",
       "    <tr style=\"text-align: right;\">\n",
       "      <th></th>\n",
       "      <th>PaperId</th>\n",
       "      <th>Essential</th>\n",
       "      <th>Worthwhile</th>\n",
       "      <th>Unimportant</th>\n",
       "      <th>Unwise</th>\n",
       "      <th>ZeroRating</th>\n",
       "      <th>NotShown</th>\n",
       "      <th>PosRatings</th>\n",
       "      <th>NegRatings</th>\n",
       "      <th>TotalRatings</th>\n",
       "    </tr>\n",
       "  </thead>\n",
       "  <tbody>\n",
       "    <tr>\n",
       "      <th>1</th>\n",
       "      <td>1</td>\n",
       "      <td>1</td>\n",
       "      <td>3</td>\n",
       "      <td>1</td>\n",
       "      <td>0</td>\n",
       "      <td>0</td>\n",
       "      <td>149</td>\n",
       "      <td>4</td>\n",
       "      <td>1</td>\n",
       "      <td>5</td>\n",
       "    </tr>\n",
       "    <tr>\n",
       "      <th>2</th>\n",
       "      <td>2</td>\n",
       "      <td>2</td>\n",
       "      <td>1</td>\n",
       "      <td>1</td>\n",
       "      <td>0</td>\n",
       "      <td>1</td>\n",
       "      <td>149</td>\n",
       "      <td>3</td>\n",
       "      <td>1</td>\n",
       "      <td>4</td>\n",
       "    </tr>\n",
       "  </tbody>\n",
       "</table>\n",
       "</div>"
      ],
      "text/plain": [
       "   PaperId  Essential  Worthwhile  Unimportant  Unwise  ZeroRating  NotShown  \\\n",
       "1        1          1           3            1       0           0       149   \n",
       "2        2          2           1            1       0           1       149   \n",
       "\n",
       "   PosRatings  NegRatings  TotalRatings  \n",
       "1           4           1             5  \n",
       "2           3           1             4  "
      ]
     },
     "execution_count": 18,
     "metadata": {},
     "output_type": "execute_result"
    }
   ],
   "source": [
    "evaluation_counts = evaluation_counts.rename({'0': 'ZeroRating'}, axis=1)\n",
    "evaluation_counts['PosRatings'] = number_of_positives\n",
    "evaluation_counts['NegRatings'] = number_of_negatives\n",
    "evaluation_counts['TotalRatings'] = number_of_ratings\n",
    "evaluation_counts.head(2)"
   ]
  },
  {
   "cell_type": "markdown",
   "metadata": {},
   "source": [
    "Now, the evaluation df can be sorted by the number of ratings:"
   ]
  },
  {
   "cell_type": "code",
   "execution_count": 19,
   "metadata": {},
   "outputs": [
    {
     "data": {
      "text/html": [
       "<div>\n",
       "<style scoped>\n",
       "    .dataframe tbody tr th:only-of-type {\n",
       "        vertical-align: middle;\n",
       "    }\n",
       "\n",
       "    .dataframe tbody tr th {\n",
       "        vertical-align: top;\n",
       "    }\n",
       "\n",
       "    .dataframe thead th {\n",
       "        text-align: right;\n",
       "    }\n",
       "</style>\n",
       "<table border=\"1\" class=\"dataframe\">\n",
       "  <thead>\n",
       "    <tr style=\"text-align: right;\">\n",
       "      <th></th>\n",
       "      <th>PaperId</th>\n",
       "      <th>Essential</th>\n",
       "      <th>Worthwhile</th>\n",
       "      <th>Unimportant</th>\n",
       "      <th>Unwise</th>\n",
       "      <th>ZeroRating</th>\n",
       "      <th>NotShown</th>\n",
       "      <th>PosRatings</th>\n",
       "      <th>NegRatings</th>\n",
       "      <th>TotalRatings</th>\n",
       "    </tr>\n",
       "  </thead>\n",
       "  <tbody>\n",
       "    <tr>\n",
       "      <th>248</th>\n",
       "      <td>248</td>\n",
       "      <td>2</td>\n",
       "      <td>5</td>\n",
       "      <td>6</td>\n",
       "      <td>0</td>\n",
       "      <td>0</td>\n",
       "      <td>141</td>\n",
       "      <td>7</td>\n",
       "      <td>6</td>\n",
       "      <td>13</td>\n",
       "    </tr>\n",
       "    <tr>\n",
       "      <th>100</th>\n",
       "      <td>100</td>\n",
       "      <td>7</td>\n",
       "      <td>5</td>\n",
       "      <td>0</td>\n",
       "      <td>0</td>\n",
       "      <td>1</td>\n",
       "      <td>141</td>\n",
       "      <td>12</td>\n",
       "      <td>0</td>\n",
       "      <td>12</td>\n",
       "    </tr>\n",
       "    <tr>\n",
       "      <th>39</th>\n",
       "      <td>39</td>\n",
       "      <td>1</td>\n",
       "      <td>6</td>\n",
       "      <td>4</td>\n",
       "      <td>0</td>\n",
       "      <td>0</td>\n",
       "      <td>143</td>\n",
       "      <td>7</td>\n",
       "      <td>4</td>\n",
       "      <td>11</td>\n",
       "    </tr>\n",
       "    <tr>\n",
       "      <th>104</th>\n",
       "      <td>104</td>\n",
       "      <td>2</td>\n",
       "      <td>5</td>\n",
       "      <td>4</td>\n",
       "      <td>0</td>\n",
       "      <td>1</td>\n",
       "      <td>142</td>\n",
       "      <td>7</td>\n",
       "      <td>4</td>\n",
       "      <td>11</td>\n",
       "    </tr>\n",
       "    <tr>\n",
       "      <th>108</th>\n",
       "      <td>108</td>\n",
       "      <td>1</td>\n",
       "      <td>9</td>\n",
       "      <td>0</td>\n",
       "      <td>1</td>\n",
       "      <td>0</td>\n",
       "      <td>143</td>\n",
       "      <td>10</td>\n",
       "      <td>1</td>\n",
       "      <td>11</td>\n",
       "    </tr>\n",
       "  </tbody>\n",
       "</table>\n",
       "</div>"
      ],
      "text/plain": [
       "     PaperId  Essential  Worthwhile  Unimportant  Unwise  ZeroRating  \\\n",
       "248      248          2           5            6       0           0   \n",
       "100      100          7           5            0       0           1   \n",
       "39        39          1           6            4       0           0   \n",
       "104      104          2           5            4       0           1   \n",
       "108      108          1           9            0       1           0   \n",
       "\n",
       "     NotShown  PosRatings  NegRatings  TotalRatings  \n",
       "248       141           7           6            13  \n",
       "100       141          12           0            12  \n",
       "39        143           7           4            11  \n",
       "104       142           7           4            11  \n",
       "108       143          10           1            11  "
      ]
     },
     "execution_count": 19,
     "metadata": {},
     "output_type": "execute_result"
    }
   ],
   "source": [
    "evaluation_counts = evaluation_counts.sort_values(\n",
    "    ['TotalRatings', 'PaperId'], ascending=[False, True])\n",
    "evaluation_counts.head()"
   ]
  },
  {
   "cell_type": "markdown",
   "metadata": {},
   "source": [
    "Persisting to csv:"
   ]
  },
  {
   "cell_type": "code",
   "execution_count": 20,
   "metadata": {},
   "outputs": [],
   "source": [
    "#evaluation_counts.to_csv(f'../analysis/{exportdate}repract_evaluation_counts.csv', index=False)"
   ]
  },
  {
   "cell_type": "markdown",
   "metadata": {},
   "source": [
    "The End."
   ]
  }
 ],
 "metadata": {
  "kernelspec": {
   "display_name": "Python [conda env:tum]",
   "language": "python",
   "name": "conda-env-tum-py"
  },
  "language_info": {
   "codemirror_mode": {
    "name": "ipython",
    "version": 3
   },
   "file_extension": ".py",
   "mimetype": "text/x-python",
   "name": "python",
   "nbconvert_exporter": "python",
   "pygments_lexer": "ipython3",
   "version": "3.6.4"
  }
 },
 "nbformat": 4,
 "nbformat_minor": 2
}
