{
 "cells": [
  {
   "cell_type": "code",
   "execution_count": 1,
   "metadata": {},
   "outputs": [],
   "source": [
    "exportdate = 20180327\n",
    "projectname = 'repract'"
   ]
  },
  {
   "cell_type": "code",
   "execution_count": 2,
   "metadata": {},
   "outputs": [],
   "source": [
    "import pandas as pd"
   ]
  },
  {
   "cell_type": "code",
   "execution_count": 3,
   "metadata": {},
   "outputs": [
    {
     "data": {
      "text/plain": [
       "(154, 1360)"
      ]
     },
     "execution_count": 3,
     "metadata": {},
     "output_type": "execute_result"
    }
   ],
   "source": [
    "df = pd.read_csv(f'../data/{exportdate}{projectname}.csv')\n",
    "df.shape"
   ]
  },
  {
   "cell_type": "code",
   "execution_count": 4,
   "metadata": {},
   "outputs": [],
   "source": [
    "freetext_short = ['v_' + str(x) for x in [6,11,16,19]]\n",
    "freetext_long = ['v_' + str(x) for x in [18,1373]]\n",
    "positive_reasoning = ['v_' + str(x) for x in range(8345,8780)] \n",
    "negative_reasoning = ['v_' + str(x) for x in range(8780,9215)]"
   ]
  },
  {
   "cell_type": "code",
   "execution_count": 5,
   "metadata": {},
   "outputs": [],
   "source": [
    "def write_freetext(df, varname, path='../data/freetext'):\n",
    "    df[['lfdn', varname]][~df[varname].isin({'NotShown','NotAnswered'})\n",
    "                         ].to_csv(f'{path}/{varname}.csv', index=False)\n",
    "\n",
    "def write_all_freetexts(df, varnames, path='../data/freetext'):\n",
    "    for varname in varnames:\n",
    "        write_freetext(df, varname, path)"
   ]
  },
  {
   "cell_type": "code",
   "execution_count": 6,
   "metadata": {},
   "outputs": [],
   "source": [
    "write_all_freetexts(df, freetext_short)"
   ]
  },
  {
   "cell_type": "code",
   "execution_count": 7,
   "metadata": {},
   "outputs": [],
   "source": [
    "write_all_freetexts(df, freetext_long)"
   ]
  },
  {
   "cell_type": "code",
   "execution_count": 8,
   "metadata": {},
   "outputs": [],
   "source": [
    "def longform_reasoning(df, reasoning_vars):\n",
    "    results = pd.DataFrame(columns=['lfdn','PaperID','reasoning'])\n",
    "    for row in df.index.values:\n",
    "        for idx,col in enumerate(reasoning_vars):\n",
    "            val = df.at[row,col]\n",
    "            if val not in {'NotShown', 'NotAnswered'}:\n",
    "                results = results.append(pd.DataFrame({'lfdn':[row],'PaperID':[idx+1],'reasoning':[val]}))\n",
    "    return results.reset_index().drop('index', axis=1)\n",
    "\n",
    "def write_longform_reasoning(df, reasoning_vars):\n",
    "    longform_reasoning(df, reasoning_vars\n",
    "                  ).sort_values(['PaperID', 'lfdn']\n",
    "                               ).to_csv(f'../data/freetext/{reasoning_vars[0]}etseq.csv', index=False)"
   ]
  },
  {
   "cell_type": "code",
   "execution_count": 9,
   "metadata": {},
   "outputs": [],
   "source": [
    "write_longform_reasoning(df, positive_reasoning)"
   ]
  },
  {
   "cell_type": "code",
   "execution_count": 10,
   "metadata": {},
   "outputs": [],
   "source": [
    "write_longform_reasoning(df, negative_reasoning)"
   ]
  },
  {
   "cell_type": "markdown",
   "metadata": {},
   "source": [
    "The End."
   ]
  }
 ],
 "metadata": {
  "kernelspec": {
   "display_name": "Python [conda env:tum]",
   "language": "python",
   "name": "conda-env-tum-py"
  },
  "language_info": {
   "codemirror_mode": {
    "name": "ipython",
    "version": 3
   },
   "file_extension": ".py",
   "mimetype": "text/x-python",
   "name": "python",
   "nbconvert_exporter": "python",
   "pygments_lexer": "ipython3",
   "version": "3.6.4"
  }
 },
 "nbformat": 4,
 "nbformat_minor": 2
}
