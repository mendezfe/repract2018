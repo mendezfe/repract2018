{
 "cells": [
  {
   "cell_type": "markdown",
   "metadata": {},
   "source": [
    "### How? With whom?"
   ]
  },
  {
   "cell_type": "code",
   "execution_count": 1,
   "metadata": {},
   "outputs": [],
   "source": [
    "import pandas as pd\n",
    "import re"
   ]
  },
  {
   "cell_type": "code",
   "execution_count": 2,
   "metadata": {},
   "outputs": [],
   "source": [
    "df = pd.read_csv('../../data/papersummaries_cleaned.csv')"
   ]
  },
  {
   "cell_type": "markdown",
   "metadata": {},
   "source": [
    "NB: The Science category is deliberately not split into validation and evaluation. These terms are not very intuitive and respondents will hardly have realized any such distinction."
   ]
  },
  {
   "cell_type": "markdown",
   "metadata": {},
   "source": [
    "### The Rules"
   ]
  },
  {
   "cell_type": "code",
   "execution_count": 3,
   "metadata": {},
   "outputs": [],
   "source": [
    "def assign_tag(level_1, level_2, level_3, summary):\n",
    "    tags = []\n",
    "    for tag in level_2:\n",
    "        if any([re.search(keyword, summary) for keyword in level_3[tag]]):\n",
    "            tags.append(level_1+tag)\n",
    "    return tags"
   ]
  },
  {
   "cell_type": "code",
   "execution_count": 4,
   "metadata": {},
   "outputs": [],
   "source": [
    "def assign_engineering(summary):\n",
    "    level_1 = ':engineering'\n",
    "    \n",
    "    level_2 = [':reference', ':technology', ':methodology']\n",
    "    \n",
    "    level_3 = {':reference':   ['^a set of metrics', '^a taxonomy', '^an ontology', \n",
    "                               '^a template', '(?<!\\w)a blueprint', ], \n",
    "               ':technology': ['^a tool', '^a solution', ], \n",
    "               ':methodology':     ['^a method', '^a process', '^a.{,15}technique', 'training program',\n",
    "                                   '^a model', '^a (:?modell?ing |specification )language', \n",
    "                                   '^a (formal )?framework']\n",
    "               }\n",
    "    return assign_tag(level_1, level_2, level_3, summary)\n",
    "\n",
    "def assign_science(summary):\n",
    "    level_1 = ':science'\n",
    "    \n",
    "    level_2 = [':observation', ':intervention', ':interrogation']\n",
    "    \n",
    "    level_3 = {':observation':   ['(:?(:?multi.)?case|field) study', '(:?data.|document.)driven study',\n",
    "                                  'industrial evaluation', '^an analysis'], \n",
    "               ':intervention':  ['experiment(?:s|\\s)', 'project-based study', \n",
    "                                  'workshop-based industrial study', 'action research'],\n",
    "               ':interrogation': ['interview-based study|study based on.{,30}interviews', \n",
    "                                  'questionnaire', '(?<!literature )(?:online.)?survey']\n",
    "               }\n",
    "    return assign_tag(level_1, level_2, level_3, summary)\n",
    "\n",
    "def assign_perspective(summary):\n",
    "    level_1 = ':perspective'\n",
    "    \n",
    "    level_2 = [':philosophy', ':opinion', ':experience', ':review']\n",
    "    \n",
    "    level_3 = {':philosophy': ['conceptual framework'], \n",
    "               ':opinion':  ['^a discussion', '\\svision', 'roadmap\\s'], \n",
    "               ':experience': ['experience report'],\n",
    "               ':review': ['literature (:?survey|study|review)', 'state of the art report']\n",
    "               } \n",
    "    return assign_tag(level_1, level_2, level_3, summary)\n",
    "\n",
    "\n",
    "def assign_all_how(summary):\n",
    "    summary = summary.lower()\n",
    "    tags = ['how'+ x for x in \n",
    "            (assign_engineering(summary) \n",
    "             + assign_science(summary)\n",
    "             + assign_perspective(summary))]\n",
    "    return tags"
   ]
  },
  {
   "cell_type": "code",
   "execution_count": 5,
   "metadata": {},
   "outputs": [],
   "source": [
    "def assign_all_withwhom(summary):\n",
    "    level_1 = [':laypeople', ':professionals']\n",
    "    level_2 = {':laypeople': [':students', ':others'],\n",
    "               ':professionals': [':academics', ':practitioners']\n",
    "              }\n",
    "    level_3 = {':students': ['with students', 'with practitioners and students'],\n",
    "               ':others': ['with crowd.?workers'],\n",
    "               ':academics': ['with academics', 'with researchers', \n",
    "                              'with students and academics'],\n",
    "               ':practitioners': ['with practitioners', 'with students and practitioners']\n",
    "              }\n",
    "    tags = []\n",
    "    for l1 in level_1:\n",
    "        for l2 in level_2[l1]:\n",
    "            if any([re.search(x, summary.lower()) for x in level_3[l2]]):\n",
    "                tags.append('withwhom'+l1+l2)\n",
    "    return tags"
   ]
  },
  {
   "cell_type": "code",
   "execution_count": 6,
   "metadata": {},
   "outputs": [],
   "source": [
    "def create_longform_tags(df, column_numbers):\n",
    "    longform_tags = pd.DataFrame(columns=['PaperID', 'Tag'])\n",
    "    for row in df.iterrows():\n",
    "        for colno in column_numbers:\n",
    "            longform_tags = longform_tags.append(\n",
    "                pd.DataFrame({'PaperID':list(len(row[1][colno])*[row[1][0]]), 'Tag':row[1][colno]}))\n",
    "    return longform_tags.reset_index().drop('index', axis=1)"
   ]
  },
  {
   "cell_type": "code",
   "execution_count": 7,
   "metadata": {},
   "outputs": [],
   "source": [
    "def split_tag_levels(df):\n",
    "    longform_tags = pd.DataFrame(df, copy=True)\n",
    "    tags_three_levels = list(zip(*[x.split(':') for x in longform_tags.Tag]))\n",
    "    longform_tags['level_1'] = tags_three_levels[0]\n",
    "    longform_tags['level_2'] = tags_three_levels[1]\n",
    "    longform_tags['level_3'] = tags_three_levels[2]\n",
    "    return longform_tags"
   ]
  },
  {
   "cell_type": "markdown",
   "metadata": {},
   "source": [
    "NB: As of now, the third level isn't explicitly represented in the tags. That's unfortunate especially for the distinction experiment/survey (which I'd expect to be evaluated differently). I'd suggest we refine tags using a separate function (after the initial tag assignment)."
   ]
  },
  {
   "cell_type": "code",
   "execution_count": 8,
   "metadata": {},
   "outputs": [],
   "source": [
    "df['how'] = [assign_all_how(x) for x in df.PaperSummary]"
   ]
  },
  {
   "cell_type": "code",
   "execution_count": 9,
   "metadata": {},
   "outputs": [],
   "source": [
    "df['withwhom'] = [assign_all_withwhom(x) for x in df.PaperSummary]"
   ]
  },
  {
   "cell_type": "code",
   "execution_count": 10,
   "metadata": {},
   "outputs": [
    {
     "data": {
      "text/html": [
       "<div>\n",
       "<style scoped>\n",
       "    .dataframe tbody tr th:only-of-type {\n",
       "        vertical-align: middle;\n",
       "    }\n",
       "\n",
       "    .dataframe tbody tr th {\n",
       "        vertical-align: top;\n",
       "    }\n",
       "\n",
       "    .dataframe thead th {\n",
       "        text-align: right;\n",
       "    }\n",
       "</style>\n",
       "<table border=\"1\" class=\"dataframe\">\n",
       "  <thead>\n",
       "    <tr style=\"text-align: right;\">\n",
       "      <th></th>\n",
       "      <th>PaperID</th>\n",
       "      <th>PaperSummary</th>\n",
       "      <th>how</th>\n",
       "      <th>withwhom</th>\n",
       "    </tr>\n",
       "  </thead>\n",
       "  <tbody>\n",
       "    <tr>\n",
       "      <th>0</th>\n",
       "      <td>1</td>\n",
       "      <td>A method for automatically recovering software...</td>\n",
       "      <td>[how:engineering:methodology]</td>\n",
       "      <td>[]</td>\n",
       "    </tr>\n",
       "    <tr>\n",
       "      <th>1</th>\n",
       "      <td>2</td>\n",
       "      <td>A set of two techniques for improving the qual...</td>\n",
       "      <td>[how:engineering:methodology]</td>\n",
       "      <td>[]</td>\n",
       "    </tr>\n",
       "    <tr>\n",
       "      <th>2</th>\n",
       "      <td>3</td>\n",
       "      <td>A case study on evaluating a given technique f...</td>\n",
       "      <td>[how:science:observation]</td>\n",
       "      <td>[]</td>\n",
       "    </tr>\n",
       "    <tr>\n",
       "      <th>3</th>\n",
       "      <td>4</td>\n",
       "      <td>An experience report on the development of a m...</td>\n",
       "      <td>[how:perspective:experience]</td>\n",
       "      <td>[]</td>\n",
       "    </tr>\n",
       "    <tr>\n",
       "      <th>4</th>\n",
       "      <td>5</td>\n",
       "      <td>A document-driven study on the relevancy of cl...</td>\n",
       "      <td>[how:science:observation]</td>\n",
       "      <td>[]</td>\n",
       "    </tr>\n",
       "  </tbody>\n",
       "</table>\n",
       "</div>"
      ],
      "text/plain": [
       "   PaperID                                       PaperSummary  \\\n",
       "0        1  A method for automatically recovering software...   \n",
       "1        2  A set of two techniques for improving the qual...   \n",
       "2        3  A case study on evaluating a given technique f...   \n",
       "3        4  An experience report on the development of a m...   \n",
       "4        5  A document-driven study on the relevancy of cl...   \n",
       "\n",
       "                             how withwhom  \n",
       "0  [how:engineering:methodology]       []  \n",
       "1  [how:engineering:methodology]       []  \n",
       "2      [how:science:observation]       []  \n",
       "3   [how:perspective:experience]       []  \n",
       "4      [how:science:observation]       []  "
      ]
     },
     "execution_count": 10,
     "metadata": {},
     "output_type": "execute_result"
    }
   ],
   "source": [
    "df.head()"
   ]
  },
  {
   "cell_type": "code",
   "execution_count": 11,
   "metadata": {},
   "outputs": [
    {
     "data": {
      "text/html": [
       "<div>\n",
       "<style scoped>\n",
       "    .dataframe tbody tr th:only-of-type {\n",
       "        vertical-align: middle;\n",
       "    }\n",
       "\n",
       "    .dataframe tbody tr th {\n",
       "        vertical-align: top;\n",
       "    }\n",
       "\n",
       "    .dataframe thead th {\n",
       "        text-align: right;\n",
       "    }\n",
       "</style>\n",
       "<table border=\"1\" class=\"dataframe\">\n",
       "  <thead>\n",
       "    <tr style=\"text-align: right;\">\n",
       "      <th></th>\n",
       "      <th>PaperID</th>\n",
       "      <th>Tag</th>\n",
       "      <th>level_1</th>\n",
       "      <th>level_2</th>\n",
       "      <th>level_3</th>\n",
       "    </tr>\n",
       "  </thead>\n",
       "  <tbody>\n",
       "    <tr>\n",
       "      <th>0</th>\n",
       "      <td>1</td>\n",
       "      <td>how:engineering:methodology</td>\n",
       "      <td>how</td>\n",
       "      <td>engineering</td>\n",
       "      <td>methodology</td>\n",
       "    </tr>\n",
       "    <tr>\n",
       "      <th>1</th>\n",
       "      <td>2</td>\n",
       "      <td>how:engineering:methodology</td>\n",
       "      <td>how</td>\n",
       "      <td>engineering</td>\n",
       "      <td>methodology</td>\n",
       "    </tr>\n",
       "  </tbody>\n",
       "</table>\n",
       "</div>"
      ],
      "text/plain": [
       "  PaperID                          Tag level_1      level_2      level_3\n",
       "0       1  how:engineering:methodology     how  engineering  methodology\n",
       "1       2  how:engineering:methodology     how  engineering  methodology"
      ]
     },
     "execution_count": 11,
     "metadata": {},
     "output_type": "execute_result"
    }
   ],
   "source": [
    "longform_how = split_tag_levels(create_longform_tags(df, [2]))\n",
    "longform_how.head(2)"
   ]
  },
  {
   "cell_type": "code",
   "execution_count": 12,
   "metadata": {},
   "outputs": [
    {
     "data": {
      "text/plain": [
       "(440, 5)"
      ]
     },
     "execution_count": 12,
     "metadata": {},
     "output_type": "execute_result"
    }
   ],
   "source": [
    "longform_how.shape"
   ]
  },
  {
   "cell_type": "code",
   "execution_count": 13,
   "metadata": {},
   "outputs": [
    {
     "data": {
      "text/html": [
       "<div>\n",
       "<style scoped>\n",
       "    .dataframe tbody tr th:only-of-type {\n",
       "        vertical-align: middle;\n",
       "    }\n",
       "\n",
       "    .dataframe tbody tr th {\n",
       "        vertical-align: top;\n",
       "    }\n",
       "\n",
       "    .dataframe thead th {\n",
       "        text-align: right;\n",
       "    }\n",
       "</style>\n",
       "<table border=\"1\" class=\"dataframe\">\n",
       "  <thead>\n",
       "    <tr style=\"text-align: right;\">\n",
       "      <th></th>\n",
       "      <th></th>\n",
       "      <th></th>\n",
       "      <th>PaperID</th>\n",
       "    </tr>\n",
       "    <tr>\n",
       "      <th>level_1</th>\n",
       "      <th>level_2</th>\n",
       "      <th>level_3</th>\n",
       "      <th></th>\n",
       "    </tr>\n",
       "  </thead>\n",
       "  <tbody>\n",
       "    <tr>\n",
       "      <th rowspan=\"10\" valign=\"top\">how</th>\n",
       "      <th rowspan=\"3\" valign=\"top\">engineering</th>\n",
       "      <th>methodology</th>\n",
       "      <td>177</td>\n",
       "    </tr>\n",
       "    <tr>\n",
       "      <th>reference</th>\n",
       "      <td>5</td>\n",
       "    </tr>\n",
       "    <tr>\n",
       "      <th>technology</th>\n",
       "      <td>33</td>\n",
       "    </tr>\n",
       "    <tr>\n",
       "      <th rowspan=\"4\" valign=\"top\">perspective</th>\n",
       "      <th>experience</th>\n",
       "      <td>38</td>\n",
       "    </tr>\n",
       "    <tr>\n",
       "      <th>opinion</th>\n",
       "      <td>11</td>\n",
       "    </tr>\n",
       "    <tr>\n",
       "      <th>philosophy</th>\n",
       "      <td>1</td>\n",
       "    </tr>\n",
       "    <tr>\n",
       "      <th>review</th>\n",
       "      <td>14</td>\n",
       "    </tr>\n",
       "    <tr>\n",
       "      <th rowspan=\"3\" valign=\"top\">science</th>\n",
       "      <th>interrogation</th>\n",
       "      <td>43</td>\n",
       "    </tr>\n",
       "    <tr>\n",
       "      <th>intervention</th>\n",
       "      <td>37</td>\n",
       "    </tr>\n",
       "    <tr>\n",
       "      <th>observation</th>\n",
       "      <td>81</td>\n",
       "    </tr>\n",
       "  </tbody>\n",
       "</table>\n",
       "</div>"
      ],
      "text/plain": [
       "                                   PaperID\n",
       "level_1 level_2     level_3               \n",
       "how     engineering methodology        177\n",
       "                    reference            5\n",
       "                    technology          33\n",
       "        perspective experience          38\n",
       "                    opinion             11\n",
       "                    philosophy           1\n",
       "                    review              14\n",
       "        science     interrogation       43\n",
       "                    intervention        37\n",
       "                    observation         81"
      ]
     },
     "execution_count": 13,
     "metadata": {},
     "output_type": "execute_result"
    }
   ],
   "source": [
    "longform_how.groupby(['level_1', 'level_2', 'level_3']).count()[['PaperID']]"
   ]
  },
  {
   "cell_type": "markdown",
   "metadata": {},
   "source": [
    "Summaries without tags?"
   ]
  },
  {
   "cell_type": "code",
   "execution_count": 14,
   "metadata": {},
   "outputs": [
    {
     "data": {
      "text/plain": [
       "[]"
      ]
     },
     "execution_count": 14,
     "metadata": {},
     "output_type": "execute_result"
    }
   ],
   "source": [
    "[(x[0], x[1][1], x[1][2]) for x in df.iterrows() if len(x[1][2]) < 1]"
   ]
  },
  {
   "cell_type": "markdown",
   "metadata": {},
   "source": [
    "Summaries with multiple tags? (to check whether they're okay)"
   ]
  },
  {
   "cell_type": "code",
   "execution_count": 15,
   "metadata": {},
   "outputs": [
    {
     "data": {
      "text/plain": [
       "[(71,\n",
       "  'A study based on experiments with students and a case study on the possible benefits of considering existing services and their alignment with requirements at a very early stage in order to exploit the desired benefits of reuse in service-oriented architectures',\n",
       "  ['how:science:observation', 'how:science:intervention']),\n",
       " (207,\n",
       "  'A literature survey on requirements elicitation techniques and a roadmap of research in order to improve the elicitation of tacit knowledge',\n",
       "  ['how:perspective:opinion', 'how:perspective:review']),\n",
       " (368,\n",
       "  'A set of two empirical studies (online survey to practitioners and experiment with students) on the creation and use of software requirement specifications in companies and the impact of their quality in subsequent development activities.',\n",
       "  ['how:science:intervention', 'how:science:interrogation']),\n",
       " (395,\n",
       "  'A literature study on specific threats to validity in controlled experiments with student participants and on mitigation strategies for these threats.',\n",
       "  ['how:science:intervention', 'how:perspective:review']),\n",
       " (402,\n",
       "  'A study based on interviews with practitioners and a literature review for building a body of knowledge for traceability in order to assist engineers how to implement traceability in a project.',\n",
       "  ['how:science:interrogation', 'how:perspective:review'])]"
      ]
     },
     "execution_count": 15,
     "metadata": {},
     "output_type": "execute_result"
    }
   ],
   "source": [
    "[(x[0], x[1][1], x[1][2]) for x in df.iterrows() if len(x[1][2]) > 1]"
   ]
  },
  {
   "cell_type": "code",
   "execution_count": 16,
   "metadata": {},
   "outputs": [
    {
     "data": {
      "text/html": [
       "<div>\n",
       "<style scoped>\n",
       "    .dataframe tbody tr th:only-of-type {\n",
       "        vertical-align: middle;\n",
       "    }\n",
       "\n",
       "    .dataframe tbody tr th {\n",
       "        vertical-align: top;\n",
       "    }\n",
       "\n",
       "    .dataframe thead th {\n",
       "        text-align: right;\n",
       "    }\n",
       "</style>\n",
       "<table border=\"1\" class=\"dataframe\">\n",
       "  <thead>\n",
       "    <tr style=\"text-align: right;\">\n",
       "      <th></th>\n",
       "      <th>PaperID</th>\n",
       "      <th>Tag</th>\n",
       "      <th>level_1</th>\n",
       "      <th>level_2</th>\n",
       "      <th>level_3</th>\n",
       "    </tr>\n",
       "  </thead>\n",
       "  <tbody>\n",
       "    <tr>\n",
       "      <th>0</th>\n",
       "      <td>8</td>\n",
       "      <td>withwhom:professionals:practitioners</td>\n",
       "      <td>withwhom</td>\n",
       "      <td>professionals</td>\n",
       "      <td>practitioners</td>\n",
       "    </tr>\n",
       "    <tr>\n",
       "      <th>1</th>\n",
       "      <td>10</td>\n",
       "      <td>withwhom:professionals:practitioners</td>\n",
       "      <td>withwhom</td>\n",
       "      <td>professionals</td>\n",
       "      <td>practitioners</td>\n",
       "    </tr>\n",
       "  </tbody>\n",
       "</table>\n",
       "</div>"
      ],
      "text/plain": [
       "  PaperID                                   Tag   level_1        level_2  \\\n",
       "0       8  withwhom:professionals:practitioners  withwhom  professionals   \n",
       "1      10  withwhom:professionals:practitioners  withwhom  professionals   \n",
       "\n",
       "         level_3  \n",
       "0  practitioners  \n",
       "1  practitioners  "
      ]
     },
     "execution_count": 16,
     "metadata": {},
     "output_type": "execute_result"
    }
   ],
   "source": [
    "longform_withwhom = split_tag_levels(create_longform_tags(df, [3]))\n",
    "longform_withwhom.head(2)"
   ]
  },
  {
   "cell_type": "code",
   "execution_count": 17,
   "metadata": {},
   "outputs": [
    {
     "data": {
      "text/plain": [
       "(61, 5)"
      ]
     },
     "execution_count": 17,
     "metadata": {},
     "output_type": "execute_result"
    }
   ],
   "source": [
    "longform_withwhom.shape"
   ]
  },
  {
   "cell_type": "code",
   "execution_count": 18,
   "metadata": {},
   "outputs": [
    {
     "data": {
      "text/html": [
       "<div>\n",
       "<style scoped>\n",
       "    .dataframe tbody tr th:only-of-type {\n",
       "        vertical-align: middle;\n",
       "    }\n",
       "\n",
       "    .dataframe tbody tr th {\n",
       "        vertical-align: top;\n",
       "    }\n",
       "\n",
       "    .dataframe thead th {\n",
       "        text-align: right;\n",
       "    }\n",
       "</style>\n",
       "<table border=\"1\" class=\"dataframe\">\n",
       "  <thead>\n",
       "    <tr style=\"text-align: right;\">\n",
       "      <th></th>\n",
       "      <th></th>\n",
       "      <th></th>\n",
       "      <th>PaperID</th>\n",
       "    </tr>\n",
       "    <tr>\n",
       "      <th>level_1</th>\n",
       "      <th>level_2</th>\n",
       "      <th>level_3</th>\n",
       "      <th></th>\n",
       "    </tr>\n",
       "  </thead>\n",
       "  <tbody>\n",
       "    <tr>\n",
       "      <th rowspan=\"4\" valign=\"top\">withwhom</th>\n",
       "      <th rowspan=\"2\" valign=\"top\">laypeople</th>\n",
       "      <th>others</th>\n",
       "      <td>1</td>\n",
       "    </tr>\n",
       "    <tr>\n",
       "      <th>students</th>\n",
       "      <td>28</td>\n",
       "    </tr>\n",
       "    <tr>\n",
       "      <th rowspan=\"2\" valign=\"top\">professionals</th>\n",
       "      <th>academics</th>\n",
       "      <td>2</td>\n",
       "    </tr>\n",
       "    <tr>\n",
       "      <th>practitioners</th>\n",
       "      <td>30</td>\n",
       "    </tr>\n",
       "  </tbody>\n",
       "</table>\n",
       "</div>"
      ],
      "text/plain": [
       "                                      PaperID\n",
       "level_1  level_2       level_3               \n",
       "withwhom laypeople     others               1\n",
       "                       students            28\n",
       "         professionals academics            2\n",
       "                       practitioners       30"
      ]
     },
     "execution_count": 18,
     "metadata": {},
     "output_type": "execute_result"
    }
   ],
   "source": [
    "longform_withwhom.groupby(['level_1', 'level_2', 'level_3']).count()[['PaperID']]"
   ]
  },
  {
   "cell_type": "markdown",
   "metadata": {},
   "source": [
    "NB: some papers appear multiple times in the counts since some papers receive multiple tags."
   ]
  },
  {
   "cell_type": "code",
   "execution_count": 19,
   "metadata": {},
   "outputs": [
    {
     "data": {
      "text/html": [
       "<div>\n",
       "<style scoped>\n",
       "    .dataframe tbody tr th:only-of-type {\n",
       "        vertical-align: middle;\n",
       "    }\n",
       "\n",
       "    .dataframe tbody tr th {\n",
       "        vertical-align: top;\n",
       "    }\n",
       "\n",
       "    .dataframe thead th {\n",
       "        text-align: right;\n",
       "    }\n",
       "</style>\n",
       "<table border=\"1\" class=\"dataframe\">\n",
       "  <thead>\n",
       "    <tr style=\"text-align: right;\">\n",
       "      <th></th>\n",
       "      <th>PaperID</th>\n",
       "      <th>Tag</th>\n",
       "    </tr>\n",
       "  </thead>\n",
       "  <tbody>\n",
       "    <tr>\n",
       "      <th>0</th>\n",
       "      <td>1</td>\n",
       "      <td>how:engineering:methodology</td>\n",
       "    </tr>\n",
       "    <tr>\n",
       "      <th>1</th>\n",
       "      <td>2</td>\n",
       "      <td>how:engineering:methodology</td>\n",
       "    </tr>\n",
       "    <tr>\n",
       "      <th>2</th>\n",
       "      <td>3</td>\n",
       "      <td>how:science:observation</td>\n",
       "    </tr>\n",
       "    <tr>\n",
       "      <th>3</th>\n",
       "      <td>4</td>\n",
       "      <td>how:perspective:experience</td>\n",
       "    </tr>\n",
       "    <tr>\n",
       "      <th>4</th>\n",
       "      <td>5</td>\n",
       "      <td>how:science:observation</td>\n",
       "    </tr>\n",
       "  </tbody>\n",
       "</table>\n",
       "</div>"
      ],
      "text/plain": [
       "  PaperID                          Tag\n",
       "0       1  how:engineering:methodology\n",
       "1       2  how:engineering:methodology\n",
       "2       3      how:science:observation\n",
       "3       4   how:perspective:experience\n",
       "4       5      how:science:observation"
      ]
     },
     "execution_count": 19,
     "metadata": {},
     "output_type": "execute_result"
    }
   ],
   "source": [
    "longform_tags = create_longform_tags(df,[2,3])\n",
    "longform_tags.head()"
   ]
  },
  {
   "cell_type": "markdown",
   "metadata": {},
   "source": [
    "This file is the version for human correction (no redundancy via tag levels added) - note that this works only because every PaperID is already presend in df - otherwise, how='outer' needs to be specified and some record shuffling must be done to ensure the NaN-papers are at the end of the file."
   ]
  },
  {
   "cell_type": "code",
   "execution_count": 20,
   "metadata": {},
   "outputs": [],
   "source": [
    "df[['PaperID', 'PaperSummary']].merge(longform_tags\n",
    "                   ).to_csv('../../analysis/papermapping/papertags_how_withwhom_forcorrection.csv', \n",
    "                            index=False, sep=';')"
   ]
  },
  {
   "cell_type": "code",
   "execution_count": 21,
   "metadata": {},
   "outputs": [],
   "source": [
    "longform_tags_split = split_tag_levels(longform_tags)"
   ]
  },
  {
   "cell_type": "code",
   "execution_count": 22,
   "metadata": {},
   "outputs": [
    {
     "data": {
      "text/html": [
       "<div>\n",
       "<style scoped>\n",
       "    .dataframe tbody tr th:only-of-type {\n",
       "        vertical-align: middle;\n",
       "    }\n",
       "\n",
       "    .dataframe tbody tr th {\n",
       "        vertical-align: top;\n",
       "    }\n",
       "\n",
       "    .dataframe thead th {\n",
       "        text-align: right;\n",
       "    }\n",
       "</style>\n",
       "<table border=\"1\" class=\"dataframe\">\n",
       "  <thead>\n",
       "    <tr style=\"text-align: right;\">\n",
       "      <th></th>\n",
       "      <th></th>\n",
       "      <th></th>\n",
       "      <th>PaperID</th>\n",
       "    </tr>\n",
       "    <tr>\n",
       "      <th>level_1</th>\n",
       "      <th>level_2</th>\n",
       "      <th>level_3</th>\n",
       "      <th></th>\n",
       "    </tr>\n",
       "  </thead>\n",
       "  <tbody>\n",
       "    <tr>\n",
       "      <th rowspan=\"10\" valign=\"top\">how</th>\n",
       "      <th rowspan=\"3\" valign=\"top\">engineering</th>\n",
       "      <th>methodology</th>\n",
       "      <td>177</td>\n",
       "    </tr>\n",
       "    <tr>\n",
       "      <th>reference</th>\n",
       "      <td>5</td>\n",
       "    </tr>\n",
       "    <tr>\n",
       "      <th>technology</th>\n",
       "      <td>33</td>\n",
       "    </tr>\n",
       "    <tr>\n",
       "      <th rowspan=\"4\" valign=\"top\">perspective</th>\n",
       "      <th>experience</th>\n",
       "      <td>38</td>\n",
       "    </tr>\n",
       "    <tr>\n",
       "      <th>opinion</th>\n",
       "      <td>11</td>\n",
       "    </tr>\n",
       "    <tr>\n",
       "      <th>philosophy</th>\n",
       "      <td>1</td>\n",
       "    </tr>\n",
       "    <tr>\n",
       "      <th>review</th>\n",
       "      <td>14</td>\n",
       "    </tr>\n",
       "    <tr>\n",
       "      <th rowspan=\"3\" valign=\"top\">science</th>\n",
       "      <th>interrogation</th>\n",
       "      <td>43</td>\n",
       "    </tr>\n",
       "    <tr>\n",
       "      <th>intervention</th>\n",
       "      <td>37</td>\n",
       "    </tr>\n",
       "    <tr>\n",
       "      <th>observation</th>\n",
       "      <td>81</td>\n",
       "    </tr>\n",
       "    <tr>\n",
       "      <th rowspan=\"4\" valign=\"top\">withwhom</th>\n",
       "      <th rowspan=\"2\" valign=\"top\">laypeople</th>\n",
       "      <th>others</th>\n",
       "      <td>1</td>\n",
       "    </tr>\n",
       "    <tr>\n",
       "      <th>students</th>\n",
       "      <td>28</td>\n",
       "    </tr>\n",
       "    <tr>\n",
       "      <th rowspan=\"2\" valign=\"top\">professionals</th>\n",
       "      <th>academics</th>\n",
       "      <td>2</td>\n",
       "    </tr>\n",
       "    <tr>\n",
       "      <th>practitioners</th>\n",
       "      <td>30</td>\n",
       "    </tr>\n",
       "  </tbody>\n",
       "</table>\n",
       "</div>"
      ],
      "text/plain": [
       "                                      PaperID\n",
       "level_1  level_2       level_3               \n",
       "how      engineering   methodology        177\n",
       "                       reference            5\n",
       "                       technology          33\n",
       "         perspective   experience          38\n",
       "                       opinion             11\n",
       "                       philosophy           1\n",
       "                       review              14\n",
       "         science       interrogation       43\n",
       "                       intervention        37\n",
       "                       observation         81\n",
       "withwhom laypeople     others               1\n",
       "                       students            28\n",
       "         professionals academics            2\n",
       "                       practitioners       30"
      ]
     },
     "execution_count": 22,
     "metadata": {},
     "output_type": "execute_result"
    }
   ],
   "source": [
    "longform_tags_split.groupby(['level_1', 'level_2', 'level_3']).count()[['PaperID']]"
   ]
  },
  {
   "cell_type": "markdown",
   "metadata": {},
   "source": [
    "The End."
   ]
  }
 ],
 "metadata": {
  "kernelspec": {
   "display_name": "Python [conda env:tum]",
   "language": "python",
   "name": "conda-env-tum-py"
  },
  "language_info": {
   "codemirror_mode": {
    "name": "ipython",
    "version": 3
   },
   "file_extension": ".py",
   "mimetype": "text/x-python",
   "name": "python",
   "nbconvert_exporter": "python",
   "pygments_lexer": "ipython3",
   "version": "3.6.4"
  }
 },
 "nbformat": 4,
 "nbformat_minor": 2
}
